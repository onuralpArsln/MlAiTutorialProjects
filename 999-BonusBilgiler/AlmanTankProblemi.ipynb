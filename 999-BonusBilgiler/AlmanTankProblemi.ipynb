{
 "cells": [
  {
   "cell_type": "markdown",
   "metadata": {},
   "source": [
    "# İstatistik Sihri ve Dünya Savaşları\n",
    "\n",
    "Sayılar arası ilişki kurma becerisi bazen sihirli gibi gözüken şeyleri başarmayı sağlar. Derin öğrenme sayesinde devasa miktardaki veri arasında bu bağları kurmak daha kolaydır ancak profesyonellerin becerilerinin neler yapabileceğini görmek şaşırtıcı.\n",
    "\n",
    "İkinci dünya savaşı sırasında istatistikçiler alman tanklarının seri numaralarından yola çıkarak toplam tank sayısını tahmin ettiler. Ancak unutulmaması gereken şey ellerinde sadece bazı tanklara ait seri numaraları bulunuyordu. Peki bunu nasıl yaptılar?\n",
    "\n",
    "Öncelikle Bayes teoremini biraz anlayalım. bu elimizdeki bilgiye yenileri eklendikçe olasılık tahminlerimizdeki değişimi gösterir.\n",
    "\n",
    "Örneğin kesinlikle 2 çocuğu olan bir ailenin en az 1 erkek çocuğu olma ihtimali %75 olacaktır. Çünkü ihtimaller kız-kız / erkek-erkek / kız -erkek / erkek - kız şeklindedir. Bu 4 ihtimalden 3 ü şartımızı sağlar. \n",
    "\n",
    "Peki ya birisi bize bu ailenin kesinlikle en az 1 kız çocuğu olduğunu söylerse?\n",
    "\n",
    "artık ihtimal havuzumuz kız-kız  / kız -erkek / erkek - kız  olacaktır. Artık erkek çocuk olma ihtimal 3te 2 yani yaklaşık %66 oldu.\n",
    "\n",
    "Her doğumda kız ya da erkek olma oranı önceki çocuklardan bağımsızdır. Ancak olaylar olduktan sonra eldeki bilgiler arttıkça olasılık yapısı değişir.\n",
    "\n"
   ]
  },
  {
   "cell_type": "markdown",
   "metadata": {},
   "source": [
    "<div style=\"text-align: center;\">\n",
    "    <img src=\"bayes1.png\" alt=\"bayes\" style=\"height:300px;\" />\n",
    "</div>"
   ]
  },
  {
   "cell_type": "markdown",
   "metadata": {},
   "source": [
    "P(A|B) = B olayı gerçekleştiğinde A olayının gerçekleşme olasılığı <br>\n",
    "P(A) = A olayının gerçekleşme olasılığı <br>\n",
    "P(B|A) = A olayı gerçekleştiğinde B olayının gerçekleşme olasılığı <br>\n",
    "P(B) = B olayının gerçekleşme olasılığı <br>"
   ]
  },
  {
   "cell_type": "markdown",
   "metadata": {},
   "source": [
    " Bir araştırmaya göre her 43 çocuktan 1 tanesi, yetişkinlikte ortaya çıkan belli bir hastalığa yakalanmakta ve tam güvenilir olmamasına rağmen yapılan test sonuçlarına göre, hastalıklı bir çocuğun testi %80 pozitif, sağlıklı bir çocuğun testi ise %10 pozitif sonuç vermektedir. Bu bilgilere göre test sonucu pozitif olan bir çocuğun gerçekten hasta olma olasılığı nedir? <br>\n",
    "        \n",
    "P(A) : Çocuğun hasta olması olasılığı = 1/43  <br>        \n",
    "P(B) : Testin pozitif çıkması olasılığı = 1/43 * 0.80 + 42/43 * 0.10 = 5/43 <br>           \n",
    "P(A|B) : Pozitif çıkan testin hastalık çıkma olasılığı ( sorulan bu )     <br>   \n",
    "P(B|A) : Hastalıklı çocuğun testinin pozitif çıkma olasılığı = 0.80   <br>      \n",
    "      \n",
    "P(A|B)=P(B|A)*P(A)/P(B) => (0.80 * 1/43) / (5/43) = 0.16 = %16 bulunur."
   ]
  },
  {
   "cell_type": "markdown",
   "metadata": {},
   "source": [
    "Peki tanklara geri dönelim. Tanklarda durum şuydu her yeni elde edilen tank parçası ve üzerindeki seri numarası elde edilen yeni bir bilgi olacaktı.  Bunu bir torbadan çekilen toplara benzetebiliriz. Her topun ise bir numarası olduğunu düşünelim. bu numaralar  1,2,3,4,.....x şeklinde 1 den x'e devam etsin.  Çekilen topların numaralarının dağlımı uniform mu normal(gaussian) mı olmalı?"
   ]
  },
  {
   "cell_type": "markdown",
   "metadata": {},
   "source": [
    "<div style=\"text-align: center;\">\n",
    "    <img src=\"distr.png\" alt=\"bayes\" style=\"height:200px;\" />\n",
    "</div>"
   ]
  },
  {
   "cell_type": "markdown",
   "metadata": {},
   "source": [
    "Basitçe test edelim"
   ]
  },
  {
   "cell_type": "code",
   "execution_count": 88,
   "metadata": {},
   "outputs": [
    {
     "name": "stdout",
     "output_type": "stream",
     "text": [
      "282\n",
      "[19, 54, 230]\n"
     ]
    },
    {
     "data": {
      "image/png": "[encoded data removed]",
      "text/plain": [
       "<Figure size 640x480 with 1 Axes>"
      ]
     },
     "metadata": {},
     "output_type": "display_data"
    }
   ],
   "source": [
    "import random\n",
    "import matplotlib.pyplot as plt\n",
    "import numpy as np\n",
    "\n",
    "dataAmount = random.randint(1,10)\n",
    "\n",
    "maxNumber = random.randint(20, 300)\n",
    "\n",
    "results = []\n",
    "\n",
    "# sadece aynı değilse ekle çünkü aynı topu iki kere çekemezsin\n",
    "while len(results)<dataAmount:\n",
    "    a = random.randint(0, maxNumber)\n",
    "    if a not in results:\n",
    "        results.append(a)\n",
    "\n",
    "print(maxNumber)\n",
    "results.sort()\n",
    "print(results)\n",
    "\n",
    "npArrResults = np.array(results)\n",
    "plt.hist(npArrResults)\n",
    "plt.show() "
   ]
  },
  {
   "cell_type": "code",
   "execution_count": null,
   "metadata": {},
   "outputs": [],
   "source": []
  }
 ],
 "metadata": {
  "kernelspec": {
   "display_name": "Python 3",
   "language": "python",
   "name": "python3"
  },
  "language_info": {
   "codemirror_mode": {
    "name": "ipython",
    "version": 3
   },
   "file_extension": ".py",
   "mimetype": "text/x-python",
   "name": "python",
   "nbconvert_exporter": "python",
   "pygments_lexer": "ipython3",
   "version": "3.9.6"
  }
 },
 "nbformat": 4,
 "nbformat_minor": 2
}
