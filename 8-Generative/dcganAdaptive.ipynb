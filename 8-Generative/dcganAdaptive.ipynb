{
  "cells": [
    {
      "cell_type": "markdown",
      "metadata": {
        "colab_type": "text",
        "id": "view-in-github"
      },
      "source": [
        "<a href=\"https://colab.research.google.com/github/onuralpArsln/MlAiTutorialProjects/blob/main/8-Generative/dcganAdaptive.ipynb\" target=\"_parent\"><img src=\"https://colab.research.google.com/assets/colab-badge.svg\" alt=\"Open In Colab\"/></a>"
      ]
    },
    {
      "cell_type": "markdown",
      "metadata": {
        "id": "rF2x3qooyBTI"
      },
      "source": [
        "# Deep Convolutional Generative Adversarial Network owndata"
      ]
    },
    {
      "cell_type": "markdown",
      "metadata": {
        "id": "nF2EHuR5b-30"
      },
      "source": [
        "DCGAN   iki parçalı bir sistemdir. Generator ve Discriminator eğitilir. Böylece amaca uygun bir görüntü oluşturmaya çalışan Generator ve onu yakalmaaya çalışan Discriminator oluşur. Ne zaman discriminator kandırlırsa o zaman sonuç verilir bu yüzden adverserial sayılır."
      ]
    },
    {
      "cell_type": "markdown",
      "metadata": {
        "id": "e1_Y75QXJS6h"
      },
      "source": [
        "### Setup\n",
        "\n",
        "\n",
        "Tensorflow ve diğer gereksinimler"
      ]
    },
    {
      "cell_type": "code",
      "execution_count": 3,
      "metadata": {
        "colab": {
          "base_uri": "https://localhost:8080/"
        },
        "id": "YzTlj4YdCip_",
        "outputId": "bdd91235-8f4f-45e8-da87-ab241a9b63aa"
      },
      "outputs": [],
      "source": [
        "# Bu sonrasında şov amaçlı ara parçaları görmek için epoch sonuçlarından gif yapacağız.\n",
        "!pip install imageio -q\n",
        "!pip install git+https://github.com/tensorflow/docs -q"
      ]
    },
    {
      "cell_type": "code",
      "execution_count": 4,
      "metadata": {
        "id": "YfIk2es3hJEd"
      },
      "outputs": [],
      "source": [
        "import tensorflow as tf\n",
        "import glob\n",
        "import imageio\n",
        "import matplotlib.pyplot as plt\n",
        "import numpy as np\n",
        "import os\n",
        "import PIL\n",
        "from tensorflow.keras import layers\n",
        "import time\n",
        "from tensorflow.keras.preprocessing.image import load_img, img_to_array\n",
        "from IPython import display\n",
        "tf.__version__"
      ]
    },
    {
      "cell_type": "markdown",
      "metadata": {
        "id": "iYn4MdZnKCey"
      },
      "source": [
        "### Load and prepare the dataset\n",
        "\n",
        "\n"
      ]
    },
    {
      "cell_type": "markdown",
      "metadata": {
        "id": "WbnKmFhjeIOm"
      },
      "source": [
        "Eğer kendi datasetinde çalışmak istersen"
      ]
    },
    {
      "cell_type": "code",
      "execution_count": 5,
      "metadata": {
        "id": "Rbt6CEPxljab"
      },
      "outputs": [],
      "source": [
        "!wget -q  https://github.com/onuralpArsln/MlAiTutorialProjects/raw/refs/heads/main/8-Generative/db64miniset.zip"
      ]
    },
    {
      "cell_type": "code",
      "execution_count": 6,
      "metadata": {
        "id": "Do9Up7KDltQl"
      },
      "outputs": [],
      "source": [
        "!unzip -qq db64miniset.zip"
      ]
    },
    {
      "cell_type": "markdown",
      "metadata": {},
      "source": [
        "!wget -q  https://github.com/onuralpArsln/MlAiTutorialProjects/raw/refs/heads/main/8-Generative/db32set6k.zip"
      ]
    },
    {
      "cell_type": "code",
      "execution_count": null,
      "metadata": {},
      "outputs": [],
      "source": [
        "!unzip -qq db32set6k.zip"
      ]
    },
    {
      "cell_type": "code",
      "execution_count": 45,
      "metadata": {
        "id": "rdls4UVymoms"
      },
      "outputs": [],
      "source": [
        "##set your data size input\n",
        "img_size=64"
      ]
    },
    {
      "cell_type": "code",
      "execution_count": 8,
      "metadata": {
        "id": "RNiz9p2AedPC"
      },
      "outputs": [],
      "source": [
        "# Dataset yükleme fonksiyonu\n",
        "def load_custom_images(image_dir, img_size=(img_size, img_size)):\n",
        "    image_paths = glob.glob(image_dir + \"/*.png\")  # Adjust extension if needed\n",
        "    images = [img_to_array(load_img(img, color_mode=\"grayscale\", target_size=img_size)) for img in image_paths]\n",
        "    images = np.array(images).astype(\"float32\") / 127.5 - 1  # Normalize to [-1, 1]\n",
        "    return images\n",
        "\n",
        "# Replace dataset loading\n",
        "image_dir = \"db64miniset\"\n",
        "train_images = load_custom_images(image_dir)\n",
        "\n",
        "# Ensure correct shape\n",
        "train_images = train_images.reshape(train_images.shape[0], img_size, img_size, 1)\n",
        "\n",
        "# Create TensorFlow dataset\n",
        "BUFFER_SIZE = len(train_images) # kaç adet görsel var\n",
        "BATCH_SIZE = 256\n",
        "train_dataset = tf.data.Dataset.from_tensor_slices(train_images).shuffle(BUFFER_SIZE).batch(BATCH_SIZE)\n"
      ]
    },
    {
      "cell_type": "markdown",
      "metadata": {
        "id": "THY-sZMiQ4UV"
      },
      "source": [
        "## Create the models\n",
        "\n",
        "Generator ve discriminator [Keras Sequential API](https://www.tensorflow.org/guide/keras#sequential_model) Kullanır."
      ]
    },
    {
      "cell_type": "markdown",
      "metadata": {
        "id": "-tEyxE-GMC48"
      },
      "source": [
        "### The Generator\n",
        "\n",
        "The generator uses `tf.keras.layers.Conv2DTranspose` (upsampling) layers to produce an image from a seed (random noise). Start with a `Dense` layer that takes this seed as input, then upsample several times until you reach the desired image size of 28x28x1. Notice the `tf.keras.layers.LeakyReLU` activation for each layer, except the output layer which uses tanh."
      ]
    },
    {
      "cell_type": "code",
      "execution_count": 46,
      "metadata": {
        "id": "6bpTcDqoLWjY"
      },
      "outputs": [],
      "source": [
        "def make_generator_model():\n",
        "    \"\"\"\n",
        "    Creates the generator model that transforms random noise into images.\n",
        "    The generator \"learns\" to create fake images that look real.\n",
        "    \n",
        "    Key Changes from Original:\n",
        "    - Better scaling of layers based on image size\n",
        "    - Added more filters in early layers for better feature learning\n",
        "    - Improved layer progression for stability\n",
        "    \"\"\"\n",
        "    global img_size\n",
        "    # Make sure image size is valid (must be divisible by 16 because we have 4 upsampling layers)\n",
        "    assert img_size % 16 == 0, \"Image size must be divisible by 16\"\n",
        "    \n",
        "    # Calculate the initial size for our first layer\n",
        "    # If img_size is 64, initial_size will be 4 (64/16)\n",
        "    initial_size = img_size // 16\n",
        "    \n",
        "    model = tf.keras.Sequential([\n",
        "        # Input layer - takes random noise vector of size 100\n",
        "        layers.Input(shape=(100,)),\n",
        "        \n",
        "        # First layer: Dense layer to create enough values to reshape into a small image\n",
        "        # If img_size=64, this creates a 4x4x512 tensor from our random input\n",
        "        layers.Dense(initial_size * initial_size * 512),\n",
        "        layers.BatchNormalization(),  # Stabilizes training by normalizing layer outputs\n",
        "        layers.LeakyReLU(alpha=0.2),  # Better than regular ReLU for GANs - allows small negative values\n",
        "        layers.Reshape((initial_size, initial_size, 512)),\n",
        "        \n",
        "        # Upsampling Block 1: 4x4 -> 8x8\n",
        "        # Conv2DTranspose is like a reverse convolution - it makes the image bigger\n",
        "        layers.Conv2DTranspose(256, 5, strides=2, padding='same'),\n",
        "        layers.BatchNormalization(),\n",
        "        layers.LeakyReLU(alpha=0.2),\n",
        "        \n",
        "        # Upsampling Block 2: 8x8 -> 16x16\n",
        "        layers.Conv2DTranspose(128, 5, strides=2, padding='same'),\n",
        "        layers.BatchNormalization(),\n",
        "        layers.LeakyReLU(alpha=0.2),\n",
        "        \n",
        "        # Upsampling Block 3: 16x16 -> 32x32\n",
        "        layers.Conv2DTranspose(64, 5, strides=2, padding='same'),\n",
        "        layers.BatchNormalization(),\n",
        "        layers.LeakyReLU(alpha=0.2),\n",
        "        \n",
        "        # Upsampling Block 4: 32x32 -> 64x64\n",
        "        layers.Conv2DTranspose(32, 5, strides=2, padding='same'),\n",
        "        layers.BatchNormalization(),\n",
        "        layers.LeakyReLU(alpha=0.2),\n",
        "        \n",
        "        # Final layer: Creates the actual image with pixel values between -1 and 1\n",
        "        layers.Conv2D(1, 5, padding='same', activation='tanh')\n",
        "    ])\n",
        "    \n",
        "    return model\n"
      ]
    },
    {
      "cell_type": "markdown",
      "metadata": {
        "id": "GyWgG09LCSJl"
      },
      "source": [
        "Use the (as yet untrained) generator to create an image."
      ]
    },
    {
      "cell_type": "code",
      "execution_count": 47,
      "metadata": {
        "colab": {
          "base_uri": "https://localhost:8080/",
          "height": 449
        },
        "id": "gl7jcC7TdPTG",
        "outputId": "4ba1f422-439a-4778-b66b-7592039ae4fe"
      },
      "outputs": [],
      "source": [
        "generator = make_generator_model()\n",
        "\n",
        "noise = tf.random.normal([1, 100])\n",
        "generated_image = generator(noise, training=False)\n",
        "\n",
        "plt.imshow(generated_image[0, :, :, 0], cmap='gray')"
      ]
    },
    {
      "cell_type": "markdown",
      "metadata": {
        "id": "D0IKnaCtg6WE"
      },
      "source": [
        "### The Discriminator\n",
        "\n",
        "Discriminator CNN mantığı ile çalışsan bir classification yapısıdır."
      ]
    },
    {
      "cell_type": "code",
      "execution_count": 48,
      "metadata": {
        "id": "dw2tPLmk2pEP"
      },
      "outputs": [],
      "source": [
        "def make_discriminator_model():\n",
        "    \"\"\"\n",
        "    Creates the discriminator model that tries to tell real images from fake ones.\n",
        "    Think of it as a detective trying to spot forgeries.\n",
        "    \n",
        "    Key Changes from Original:\n",
        "    - Added more dropout to prevent overfitting\n",
        "    - Better layer progression\n",
        "    - Improved filter counts for better feature detection\n",
        "    \"\"\"\n",
        "    global img_size\n",
        "    \n",
        "    model = tf.keras.Sequential([\n",
        "        # Input layer: Takes an image of our specified size\n",
        "        layers.Input(shape=(img_size, img_size, 1)),\n",
        "        \n",
        "        # Block 1: Shrink image and extract basic features\n",
        "        # If input is 64x64, this makes it 32x32\n",
        "        layers.Conv2D(64, 5, strides=2, padding='same'),\n",
        "        layers.LeakyReLU(alpha=0.2),\n",
        "        layers.Dropout(0.3),  # Prevents overfitting by randomly turning off 30% of neurons\n",
        "        \n",
        "        # Block 2: 32x32 -> 16x16\n",
        "        # Doubling filters each time to maintain information density\n",
        "        layers.Conv2D(128, 5, strides=2, padding='same'),\n",
        "        layers.LeakyReLU(alpha=0.2),\n",
        "        layers.Dropout(0.3),\n",
        "        \n",
        "        # Block 3: 16x16 -> 8x8\n",
        "        layers.Conv2D(256, 5, strides=2, padding='same'),\n",
        "        layers.LeakyReLU(alpha=0.2),\n",
        "        layers.Dropout(0.3),\n",
        "        \n",
        "        # Block 4: 8x8 -> 4x4\n",
        "        layers.Conv2D(512, 5, strides=2, padding='same'),\n",
        "        layers.LeakyReLU(alpha=0.2),\n",
        "        layers.Dropout(0.3),\n",
        "        \n",
        "        # Final layers: Flatten the 3D tensor to 1D and output a single value\n",
        "        # This value determines if the discriminator thinks the image is real or fake\n",
        "        layers.Flatten(),\n",
        "        layers.Dense(1)  # No activation = linear activation\n",
        "    ])\n",
        "    \n",
        "    return model"
      ]
    },
    {
      "cell_type": "markdown",
      "metadata": {
        "id": "QhPneagzCaQv"
      },
      "source": [
        "Use the (as yet untrained) discriminator to classify the generated images as real or fake. The model will be trained to output positive values for real images, and negative values for fake images."
      ]
    },
    {
      "cell_type": "code",
      "execution_count": 49,
      "metadata": {
        "colab": {
          "base_uri": "https://localhost:8080/"
        },
        "id": "thiYnZX5xwJY",
        "outputId": "a78f2bd5-7b25-4977-97e3-46e8c8a44668"
      },
      "outputs": [],
      "source": [
        "generated_image = generator(tf.random.normal([1, 100]), training=False)\n",
        "print(generated_image.shape)  # Should be (1, img_size, img_size, 1)"
      ]
    },
    {
      "cell_type": "code",
      "execution_count": 50,
      "metadata": {
        "colab": {
          "base_uri": "https://localhost:8080/"
        },
        "id": "gDkA05NE6QMs",
        "outputId": "e1020acc-bbf8-459d-cf3c-de40e4085007"
      },
      "outputs": [],
      "source": [
        "discriminator = make_discriminator_model()\n",
        "decision = discriminator(generated_image)\n",
        "print (decision)"
      ]
    },
    {
      "cell_type": "markdown",
      "metadata": {
        "id": "0FMYgY_mPfTi"
      },
      "source": [
        "## Define the loss and optimizers\n",
        "\n",
        "Define loss functions and optimizers for both models.\n"
      ]
    },
    {
      "cell_type": "code",
      "execution_count": 51,
      "metadata": {
        "id": "psQfmXxYKU3X"
      },
      "outputs": [],
      "source": [
        "# This method returns a helper function to compute cross entropy loss\n",
        "cross_entropy = tf.keras.losses.BinaryCrossentropy(from_logits=True)"
      ]
    },
    {
      "cell_type": "markdown",
      "metadata": {
        "id": "PKY_iPSPNWoj"
      },
      "source": [
        "### Discriminator loss\n",
        "\n",
        "This method quantifies how well the discriminator is able to distinguish real images from fakes. It compares the discriminator's predictions on real images to an array of 1s, and the discriminator's predictions on fake (generated) images to an array of 0s."
      ]
    },
    {
      "cell_type": "code",
      "execution_count": null,
      "metadata": {
        "id": "wkMNfBWlT-PV"
      },
      "outputs": [],
      "source": [
        "def discriminator_loss(real_output, fake_output):\n",
        "    \"\"\"\n",
        "    Calculates how well the discriminator can distinguish real from fake images.\n",
        "    Lower loss = better at telling them apart.\n",
        "    \"\"\"\n",
        "    cross_entropy = tf.keras.losses.BinaryCrossentropy(from_logits=True)\n",
        "    # Real images should be classified as 1 (real)\n",
        "    real_loss = cross_entropy(tf.ones_like(real_output), real_output)\n",
        "    # Fake images should be classified as 0 (fake)\n",
        "    fake_loss = cross_entropy(tf.zeros_like(fake_output), fake_output)\n",
        "    # Total loss is the sum of both\n",
        "    total_loss = real_loss + fake_loss\n",
        "    return total_loss"
      ]
    },
    {
      "cell_type": "markdown",
      "metadata": {
        "id": "Jd-3GCUEiKtv"
      },
      "source": [
        "### Generator loss\n",
        "The generator's loss quantifies how well it was able to trick the discriminator. Intuitively, if the generator is performing well, the discriminator will classify the fake images as real (or 1). Here, compare the discriminators decisions on the generated images to an array of 1s."
      ]
    },
    {
      "cell_type": "code",
      "execution_count": null,
      "metadata": {
        "id": "90BIcCKcDMxz"
      },
      "outputs": [],
      "source": [
        "def generator_loss(fake_output):\n",
        "    \"\"\"\n",
        "    Calculates how well the generator fooled the discriminator.\n",
        "    Lower loss = better at creating convincing images.\n",
        "    \"\"\"\n",
        "    cross_entropy = tf.keras.losses.BinaryCrossentropy(from_logits=True)\n",
        "    # Generator wants discriminator to think its images are real (1)\n",
        "    return cross_entropy(tf.ones_like(fake_output), fake_output)"
      ]
    },
    {
      "cell_type": "code",
      "execution_count": null,
      "metadata": {},
      "outputs": [],
      "source": [
        "\n",
        "# New addition: Custom learning rate scheduler for better training\n",
        "class CustomLearningRateScheduler:\n",
        "    \"\"\"\n",
        "    Controls how fast the model learns over time.\n",
        "    Gradually reduces learning rate to fine-tune the learning process.\n",
        "    \"\"\"\n",
        "    def __init__(self, initial_lr=1e-4, decay_factor=0.95, decay_epochs=10):\n",
        "        self.initial_lr = initial_lr\n",
        "        self.decay_factor = decay_factor\n",
        "        self.decay_epochs = decay_epochs\n",
        "        \n",
        "    def get_learning_rate(self, epoch):\n",
        "        # Reduces learning rate over time for more stable training\n",
        "        return self.initial_lr * (self.decay_factor ** (epoch // self.decay_epochs))"
      ]
    },
    {
      "cell_type": "markdown",
      "metadata": {
        "id": "MgIc7i0th_Iu"
      },
      "source": [
        "The discriminator and the generator optimizers are different since you will train two networks separately."
      ]
    },
    {
      "cell_type": "code",
      "execution_count": null,
      "metadata": {
        "id": "iWCn_PVdEJZ7"
      },
      "outputs": [],
      "source": [
        "generator_optimizer = tf.keras.optimizers.Adam(1e-4)\n",
        "discriminator_optimizer = tf.keras.optimizers.Adam(1e-4)"
      ]
    },
    {
      "cell_type": "markdown",
      "metadata": {
        "id": "mWtinsGDPJlV"
      },
      "source": [
        "### Save checkpoints\n",
        "This notebook also demonstrates how to save and restore models, which can be helpful in case a long running training task is interrupted."
      ]
    },
    {
      "cell_type": "code",
      "execution_count": null,
      "metadata": {
        "id": "CA1w-7s2POEy"
      },
      "outputs": [],
      "source": [
        "checkpoint_dir = './training_checkpoints'\n",
        "checkpoint_prefix = os.path.join(checkpoint_dir, \"ckpt\")\n",
        "checkpoint = tf.train.Checkpoint(generator_optimizer=generator_optimizer,\n",
        "                                 discriminator_optimizer=discriminator_optimizer,\n",
        "                                 generator=generator,\n",
        "                                 discriminator=discriminator)"
      ]
    },
    {
      "cell_type": "markdown",
      "metadata": {
        "id": "Rw1fkAczTQYh"
      },
      "source": [
        "## Define the training loop\n"
      ]
    },
    {
      "cell_type": "code",
      "execution_count": null,
      "metadata": {
        "id": "NS2GWywBbAWo"
      },
      "outputs": [],
      "source": [
        "EPOCHS = 100\n",
        "noise_dim = 100\n",
        "num_examples_to_generate = 16\n",
        "\n",
        "# You will reuse this seed overtime (so it's easier)\n",
        "# to visualize progress in the animated GIF)\n",
        "seed = tf.random.normal([num_examples_to_generate, noise_dim])"
      ]
    },
    {
      "cell_type": "markdown",
      "metadata": {
        "id": "jylSonrqSWfi"
      },
      "source": [
        "The training loop begins with generator receiving a random seed as input. That seed is used to produce an image. The discriminator is then used to classify real images (drawn from the training set) and fakes images (produced by the generator). The loss is calculated for each of these models, and the gradients are used to update the generator and discriminator."
      ]
    },
    {
      "cell_type": "code",
      "execution_count": null,
      "metadata": {
        "id": "3t5ibNo05jCB"
      },
      "outputs": [],
      "source": [
        "@tf.function  # Makes training faster by compiling the function\n",
        "def train_step(images, generator, discriminator, generator_optimizer, discriminator_optimizer, batch_size=256):\n",
        "    \"\"\"\n",
        "    Performs a single training step on both generator and discriminator.\n",
        "    \n",
        "    Changes from original:\n",
        "    - Better gradient handling\n",
        "    - More stable training process\n",
        "    - Improved batch processing\n",
        "    \"\"\"\n",
        "    noise_dim = 100\n",
        "    # Create random noise for generator input\n",
        "    noise = tf.random.normal([batch_size, noise_dim])\n",
        "    \n",
        "    with tf.GradientTape() as gen_tape, tf.GradientTape() as disc_tape:\n",
        "        # Generate fake images\n",
        "        generated_images = generator(noise, training=True)\n",
        "        \n",
        "        # Get discriminator's opinion on both real and fake images\n",
        "        real_output = discriminator(images, training=True)\n",
        "        fake_output = discriminator(generated_images, training=True)\n",
        "        \n",
        "        # Calculate losses\n",
        "        gen_loss = generator_loss(fake_output)\n",
        "        disc_loss = discriminator_loss(real_output, fake_output)\n",
        "    \n",
        "    # Calculate and apply gradients for both networks\n",
        "    gen_gradients = gen_tape.gradient(gen_loss, generator.trainable_variables)\n",
        "    disc_gradients = disc_tape.gradient(disc_loss, discriminator.trainable_variables)\n",
        "    \n",
        "    generator_optimizer.apply_gradients(zip(gen_gradients, generator.trainable_variables))\n",
        "    discriminator_optimizer.apply_gradients(zip(disc_gradients, discriminator.trainable_variables))\n",
        "    \n",
        "    return gen_loss, disc_loss"
      ]
    },
    {
      "cell_type": "code",
      "execution_count": null,
      "metadata": {},
      "outputs": [],
      "source": [
        "#old train \n",
        "def train(dataset, epochs):\n",
        "  for epoch in range(epochs):\n",
        "    start = time.time()\n",
        "\n",
        "    for image_batch in dataset:\n",
        "      train_step(image_batch)\n",
        "\n",
        "    # Produce images for the GIF as you go\n",
        "    display.clear_output(wait=True)\n",
        "    generate_and_save_images(generator,\n",
        "                             epoch + 1,\n",
        "                             seed)\n",
        "\n",
        "    # Save the model every 15 epochs\n",
        "    if (epoch + 1) % 15 == 0:\n",
        "      checkpoint.save(file_prefix = checkpoint_prefix)\n",
        "\n",
        "    print ('Time for epoch {} is {} sec'.format(epoch + 1, time.time()-start))\n",
        "\n",
        "  # Generate after the final epoch\n",
        "  display.clear_output(wait=True)\n",
        "  generate_and_save_images(generator,\n",
        "                           epochs,\n",
        "                           seed)"
      ]
    },
    {
      "cell_type": "code",
      "execution_count": null,
      "metadata": {
        "id": "2M7LmLtGEMQJ"
      },
      "outputs": [],
      "source": [
        "## new train\n",
        "def train(dataset, epochs, batch_size=256):\n",
        "    \"\"\"\n",
        "    Main training loop.\n",
        "    \n",
        "    Changes from original:\n",
        "    - Added learning rate scheduling\n",
        "    - Better progress monitoring\n",
        "    - Improved optimization parameters\n",
        "    \"\"\"\n",
        "    generator = make_generator_model()\n",
        "    discriminator = make_discriminator_model()\n",
        "    \n",
        "    # Initialize optimizers with learning rate scheduler\n",
        "    lr_scheduler = CustomLearningRateScheduler()\n",
        "    # Beta1=0.5 is a common choice for GANs - helps with training stability\n",
        "    generator_optimizer = tf.keras.optimizers.Adam(learning_rate=lr_scheduler.initial_lr, beta_1=0.5)\n",
        "    discriminator_optimizer = tf.keras.optimizers.Adam(learning_rate=lr_scheduler.initial_lr, beta_1=0.5)\n",
        "    \n",
        "    for epoch in range(epochs):\n",
        "        # Update learning rates each epoch\n",
        "        lr = lr_scheduler.get_learning_rate(epoch)\n",
        "        generator_optimizer.learning_rate = lr\n",
        "        discriminator_optimizer.learning_rate = lr\n",
        "        \n",
        "        for batch in dataset:\n",
        "            gen_loss, disc_loss = train_step(batch, generator, discriminator, \n",
        "                                           generator_optimizer, discriminator_optimizer,\n",
        "                                           batch_size)\n",
        "            \n",
        "        # Print progress every 10 epochs\n",
        "        if (epoch + 1) % 10 == 0:\n",
        "            print(f'Epoch {epoch+1}, Gen Loss: {gen_loss:.4f}, Disc Loss: {disc_loss:.4f}')\n",
        "    \n",
        "    return generator, discriminator"
      ]
    },
    {
      "cell_type": "markdown",
      "metadata": {
        "id": "2aFF7Hk3XdeW"
      },
      "source": [
        "**Generate and save images**\n"
      ]
    },
    {
      "cell_type": "code",
      "execution_count": null,
      "metadata": {
        "id": "RmdVsmvhPxyy"
      },
      "outputs": [],
      "source": [
        "def generate_and_save_images(model, epoch, test_input):\n",
        "  # Notice `training` is set to False.\n",
        "  # This is so all layers run in inference mode (batchnorm).\n",
        "  predictions = model(test_input, training=False)\n",
        "\n",
        "  fig = plt.figure(figsize=(4, 4))\n",
        "\n",
        "  for i in range(predictions.shape[0]):\n",
        "      plt.subplot(4, 4, i+1)\n",
        "      plt.imshow(predictions[i, :, :, 0] * 127.5 + 127.5, cmap='gray')\n",
        "      plt.axis('off')\n",
        "\n",
        "  plt.savefig('image_at_epoch_{:04d}.png'.format(epoch))\n",
        "  plt.show()"
      ]
    },
    {
      "cell_type": "markdown",
      "metadata": {
        "id": "dZrd4CdjR-Fp"
      },
      "source": [
        "## Train the model\n",
        "Call the `train()` method defined above to train the generator and discriminator simultaneously. Note, training GANs can be tricky. It's important that the generator and discriminator do not overpower each other (e.g., that they train at a similar rate).\n",
        "\n",
        "At the beginning of the training, the generated images look like random noise. As training progresses, the generated digits will look increasingly real. After about 50 epochs, they resemble MNIST digits. This may take about one minute / epoch with the default settings on Colab."
      ]
    },
    {
      "cell_type": "code",
      "execution_count": null,
      "metadata": {
        "colab": {
          "base_uri": "https://localhost:8080/",
          "height": 345
        },
        "id": "Ly3UN0SLLY2l",
        "outputId": "2d6604eb-a728-42a1-8a61-24d09fdd6ddf"
      },
      "outputs": [],
      "source": [
        "train(train_dataset, EPOCHS)"
      ]
    },
    {
      "cell_type": "markdown",
      "metadata": {
        "id": "rfM4YcPVPkNO"
      },
      "source": [
        "Restore the latest checkpoint."
      ]
    },
    {
      "cell_type": "code",
      "execution_count": null,
      "metadata": {
        "colab": {
          "base_uri": "https://localhost:8080/"
        },
        "id": "XhXsd0srPo8c",
        "outputId": "3ac8bbc0-065d-480b-9356-1d36fa457b34"
      },
      "outputs": [],
      "source": [
        "checkpoint.restore(tf.train.latest_checkpoint(checkpoint_dir))"
      ]
    },
    {
      "cell_type": "markdown",
      "metadata": {
        "id": "P4M_vIbUi7c0"
      },
      "source": [
        "## Create a GIF\n"
      ]
    },
    {
      "cell_type": "code",
      "execution_count": null,
      "metadata": {
        "id": "WfO5wCdclHGL"
      },
      "outputs": [],
      "source": [
        "# Display a single image using the epoch number\n",
        "def display_image(epoch_no):\n",
        "  return PIL.Image.open('image_at_epoch_{:04d}.png'.format(epoch_no))"
      ]
    },
    {
      "cell_type": "code",
      "execution_count": null,
      "metadata": {
        "colab": {
          "base_uri": "https://localhost:8080/",
          "height": 417
        },
        "id": "5x3q9_Oe5q0A",
        "outputId": "6746b625-d69b-444c-b90b-84649b51db39"
      },
      "outputs": [],
      "source": [
        "display_image(EPOCHS)"
      ]
    },
    {
      "cell_type": "markdown",
      "metadata": {
        "id": "NywiH3nL8guF"
      },
      "source": [
        "Use `imageio` to create an animated gif using the images saved during training."
      ]
    },
    {
      "cell_type": "code",
      "execution_count": null,
      "metadata": {
        "colab": {
          "base_uri": "https://localhost:8080/"
        },
        "id": "IGKQgENQ8lEI",
        "outputId": "de956f8d-582b-4381-8b34-fab8599bcc84"
      },
      "outputs": [],
      "source": [
        "anim_file = 'dcgan.gif'\n",
        "\n",
        "with imageio.get_writer(anim_file, mode='I') as writer:\n",
        "  filenames = glob.glob('image*.png')\n",
        "  filenames = sorted(filenames)\n",
        "  for filename in filenames:\n",
        "    image = imageio.imread(filename)\n",
        "    writer.append_data(image)\n",
        "  image = imageio.imread(filename)\n",
        "  writer.append_data(image)"
      ]
    },
    {
      "cell_type": "code",
      "execution_count": null,
      "metadata": {
        "colab": {
          "base_uri": "https://localhost:8080/",
          "height": 421
        },
        "id": "ZBwyU6t2Wf3g",
        "outputId": "f9d57bd7-1b87-4214-fc85-179d3c61d96e"
      },
      "outputs": [],
      "source": [
        "import tensorflow_docs.vis.embed as embed\n",
        "embed.embed_file(anim_file)"
      ]
    },
    {
      "cell_type": "code",
      "execution_count": null,
      "metadata": {
        "colab": {
          "base_uri": "https://localhost:8080/",
          "height": 406
        },
        "id": "ezKPdIK8bvRI",
        "outputId": "f4fb5e03-bf41-4d92-e30d-e81b216f4749"
      },
      "outputs": [],
      "source": [
        "import numpy as np\n",
        "import matplotlib.pyplot as plt\n",
        "\n",
        "# Generate random noise (latent vector)\n",
        "latent_dim = 100  # Same as used in training\n",
        "random_noise = tf.random.normal([1, latent_dim])\n",
        "\n",
        "# Generate an image\n",
        "generated_image = generator(random_noise, training=False)\n",
        "\n",
        "# Rescale pixel values from [-1, 1] to [0, 1]\n",
        "generated_image = (generated_image + 1) / 2.0\n",
        "\n",
        "# Display the image\n",
        "plt.imshow(generated_image[0, :, :, 0], cmap=\"gray\")  # Use cmap=\"gray\" for grayscale\n",
        "plt.axis(\"off\")\n",
        "plt.show()\n"
      ]
    }
  ],
  "metadata": {
    "accelerator": "GPU",
    "colab": {
      "gpuType": "T4",
      "include_colab_link": true,
      "name": "dcgan.ipynb",
      "provenance": []
    },
    "kernelspec": {
      "display_name": "Python 3",
      "name": "python3"
    }
  },
  "nbformat": 4,
  "nbformat_minor": 0
}
