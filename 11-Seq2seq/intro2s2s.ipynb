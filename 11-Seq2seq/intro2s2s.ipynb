{
 "cells": [
  {
   "cell_type": "code",
   "execution_count": null,
   "metadata": {},
   "outputs": [],
   "source": [
    "import tensorflow as tf\n",
    "from tensorflow import keras\n",
    "from tensorflow.keras.layers import Input, LSTM, Dense\n",
    "from tensorflow.keras.models import Model\n",
    "\n",
    "# Encoder\n",
    "encoder_inputs = Input(shape=(None, 256))  # Example input shape (timesteps, features)\n",
    "encoder_lstm = LSTM(128, return_state=True)\n",
    "encoder_outputs, state_h, state_c = encoder_lstm(encoder_inputs)\n",
    "encoder_states = [state_h, state_c]\n",
    "\n",
    "# Decoder\n",
    "decoder_inputs = Input(shape=(None, 256))\n",
    "decoder_lstm = LSTM(128, return_sequences=True, return_state=True)\n",
    "decoder_outputs, _, _ = decoder_lstm(decoder_inputs, initial_state=encoder_states)\n",
    "decoder_dense = Dense(256, activation='softmax')  # Example output shape\n",
    "decoder_outputs = decoder_dense(decoder_outputs)\n",
    "\n",
    "# Model\n",
    "model = Model([encoder_inputs, decoder_inputs], decoder_outputs)\n"
   ]
  },
  {
   "cell_type": "code",
   "execution_count": null,
   "metadata": {},
   "outputs": [],
   "source": [
    "model.summary()\n"
   ]
  },
  {
   "cell_type": "code",
   "execution_count": null,
   "metadata": {},
   "outputs": [],
   "source": [
    "from tensorflow.keras.utils import plot_model\n",
    "plot_model(model, show_shapes=True, show_layer_names=True)\n"
   ]
  },
  {
   "cell_type": "code",
   "execution_count": null,
   "metadata": {},
   "outputs": [],
   "source": [
    "model.compile(optimizer='adam', loss='categorical_crossentropy', metrics=['accuracy'])\n",
    "\n",
    "# Train\n",
    "model.fit([encoder_input_data, decoder_input_data], decoder_target_data,\n",
    "          batch_size=64, epochs=50, validation_split=0.2)\n"
   ]
  },
  {
   "cell_type": "code",
   "execution_count": null,
   "metadata": {},
   "outputs": [],
   "source": [
    "import tensorflow as tf\n",
    "print(\"GPU Available:\", tf.config.list_physical_devices('GPU'))\n"
   ]
  },
  {
   "cell_type": "code",
   "execution_count": null,
   "metadata": {},
   "outputs": [],
   "source": [
    "# dataset gen\n",
    "\n",
    "import numpy as np\n",
    "import hashlib\n",
    "import random\n",
    "import string\n",
    "\n",
    "# Generate a random word\n",
    "def random_word(length=6):\n",
    "    return ''.join(random.choices(string.ascii_lowercase, k=length))\n",
    "\n",
    "# Generate SHA-256 hash\n",
    "def sha256_hash(word):\n",
    "    return hashlib.sha256(word.encode()).hexdigest()\n",
    "\n",
    "# Create dataset\n",
    "num_samples = 10000  # Adjust size\n",
    "max_word_length = 6  # Fixed word length for simplicity\n",
    "\n",
    "words = [random_word(max_word_length) for _ in range(num_samples)]\n",
    "hashes = [sha256_hash(word) for word in words]\n",
    "\n",
    "# Convert to character sequences (for Seq2Seq)\n",
    "char_set = string.ascii_lowercase + string.digits  # Limited charset\n",
    "char_to_index = {c: i for i, c in enumerate(char_set, 1)}  # Map chars to numbers\n",
    "index_to_char = {i: c for c, i in char_to_index.items()}\n",
    "\n",
    "# Encode words as sequences\n",
    "def encode_word(word, max_length):\n",
    "    return [char_to_index[c] for c in word] + [0] * (max_length - len(word))  # Padding\n",
    "\n",
    "# Encode hashes (convert hex chars to numeric sequences)\n",
    "def encode_hash(hash_str, max_length=64):  # SHA-256 is 64 hex chars\n",
    "    return [char_to_index.get(c, 0) for c in hash_str] + [0] * (max_length - len(hash_str))\n",
    "\n",
    "# Create numerical dataset\n",
    "X = np.array([encode_hash(h) for h in hashes])\n",
    "Y = np.array([encode_word(w, max_word_length) for w in words])\n",
    "\n",
    "# Reshape for LSTM (batch_size, timesteps, features)\n",
    "X = X.reshape((num_samples, 64, 1))  # 64-timestep hash input\n",
    "Y = Y.reshape((num_samples, max_word_length, 1))  # word output\n"
   ]
  },
  {
   "cell_type": "code",
   "execution_count": null,
   "metadata": {},
   "outputs": [],
   "source": [
    "#train \n",
    "\n",
    "import tensorflow as tf\n",
    "from tensorflow.keras.layers import Input, LSTM, Dense\n",
    "from tensorflow.keras.models import Model\n",
    "\n",
    "# Define Model\n",
    "encoder_inputs = Input(shape=(64, 1))  # SHA-256 input\n",
    "encoder = LSTM(128, return_state=True)\n",
    "encoder_outputs, state_h, state_c = encoder(encoder_inputs)\n",
    "encoder_states = [state_h, state_c]\n",
    "\n",
    "decoder_inputs = Input(shape=(max_word_length, 1))\n",
    "decoder_lstm = LSTM(128, return_sequences=True, return_state=True)\n",
    "decoder_outputs, _, _ = decoder_lstm(decoder_inputs, initial_state=encoder_states)\n",
    "decoder_dense = Dense(len(char_set) + 1, activation=\"softmax\")  # Predict characters\n",
    "decoder_outputs = decoder_dense(decoder_outputs)\n",
    "\n",
    "model = Model([encoder_inputs, decoder_inputs], decoder_outputs)\n",
    "model.compile(optimizer=\"adam\", loss=\"sparse_categorical_crossentropy\", metrics=[\"accuracy\"])\n",
    "\n",
    "# Train the model\n",
    "model.fit([X, Y], Y, batch_size=64, epochs=50, validation_split=0.2)\n"
   ]
  }
 ],
 "metadata": {
  "kernelspec": {
   "display_name": "Python 3",
   "language": "python",
   "name": "python3"
  },
  "language_info": {
   "name": "python",
   "version": "3.11.9"
  }
 },
 "nbformat": 4,
 "nbformat_minor": 2
}
