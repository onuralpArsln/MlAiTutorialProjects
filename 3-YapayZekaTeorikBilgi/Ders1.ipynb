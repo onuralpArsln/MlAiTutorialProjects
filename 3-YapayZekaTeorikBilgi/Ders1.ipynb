{
 "cells": [
  {
   "cell_type": "markdown",
   "metadata": {},
   "source": [
    "# Yapay Zeka Nedir?"
   ]
  },
  {
   "cell_type": "markdown",
   "metadata": {},
   "source": [
    "Yapay zeka basit olarak makineler ile zekayı taklit etme çabasıdır. \n",
    "Makineler düşünebilir mi sorusu ile  Alan Mathison Turing makine zekası konusunu tartışmaya açmıştır. Bu isim Turing Complete (yeterli zaman ve hafıza ile kompleks işlemleri simule edebilme becerisi) gibi önemli kavramları da ortaya atmış oldukça önemli bir matematikçidir."
   ]
  },
  {
   "cell_type": "markdown",
   "metadata": {},
   "source": [
    "Makinelerin öğrenip sorun çözmeye başlaması ise \"yapay zeka\" çalışmalarının temel taşı olmuştur.\n",
    "İlk öğrenen makine olan perceptron cornellde 1960 yılında ortaya çıktı. \n",
    "\n",
    "Havalı terimlerle konuşursak perceptron \"Bir özellik çıkarıcının üzerine eklenmiş linear bir sınıflandırıcı\"dır.  "
   ]
  },
  {
   "cell_type": "markdown",
   "metadata": {},
   "source": [
    "<div style=\"text-align: center;\" >\n",
    "    <img src=\"imgs/perceptron.png\" alt=\"perceptron resmi\" />\n",
    "</div>"
   ]
  },
  {
   "cell_type": "markdown",
   "metadata": {},
   "source": [
    "### Perceptronlar nedir? \n",
    "\n",
    "perceptron bir yapay sinir ağının temel birimidir. Girişleri ağırlıkları ile çarpar sonuçları ve biasını toplar ve bir aktivasyon fonksiyonundan geçirip sonuç üretir.\n",
    "Tek bir perceptron linear bir problemi çözer. Yani iki ayrı sınıfa düz bir çizgi ile bölünen grupları sınıflandırmayı sağlar.\n",
    "\n",
    "Perceptron birçok girdi alır. Resimdeki her kutucuk bir girdi alanı olarak düşünülebilir. Ancak her girdiye aynı önemi verirse pek anlamı kalmaz. Bunun yerine girdiler bazı sayılar ile çarpar.\n",
    "\n",
    "Bu sayılara ağırlık denir. Ağırlıklar sayesinde  her girdi farklı miktarda etki yaratır. Girdilerin ağırlıklar ile çarpılması ile oluşan sayılar toplanır ve bu toplama perceptronun biası eklenir. Bias perceptronun kendi değeridir. Elde edilen sonuç ise aktivasyon fonksiyonuna sokulur. Bu fonksiyon sayesinde üretilen değerin perceptronu aktive edip etmeyeceği ortaya çıkar. Probleme dair doğru çözüme ulaşana kadar ağırlık değerleri optimize edilir.\n",
    "\n",
    "Biraz da gelecek derslere dair konuşmalar : \n",
    "*Bir perceptron lineer bir ayırma yapar ancak çok sayıda perceptron kullanımı ile daha detaylı ayrımlar yapılabilir. Ancak çok sayıda perceptron kullanımı yanında bir sorun ile gelir. Çok sayıda ağırlık nasıl doğru ayarlanacak? Bu sorun gradient descent ile çözülmeye çalışılır. Modelin tahmini ile  gerçek değerler arasındaki fark ölçülür ve loss fonksiyonu denilen fonksiyon oluşur. Amaç loss fonksiyonundaki minimum noktaya ulaşmaktır. Ancak  her noktayı denemek çok zordur. Bunun yerine loss üzerinde gradient descent uygulanarak eldeki veriye bakarak loss'un düşük noktaları tahmin edilir.*\n"
   ]
  },
  {
   "cell_type": "markdown",
   "metadata": {},
   "source": [
    "Logic işlemler için önemli olan and işlemini bir perceptron ile ifade edelim."
   ]
  },
  {
   "cell_type": "markdown",
   "metadata": {},
   "source": [
    "\n",
    "| Girdi Bir  | Girdi İki  | Çıktı |\n",
    "|:----------:|:-----------:|:----------:|\n",
    "| 0    | 0    | 0    |\n",
    "| 0    | 1    | 0    |\n",
    "| 1    | 0    | 0    |\n",
    "| 1    | 1    | 1   |\n"
   ]
  },
  {
   "cell_type": "markdown",
   "metadata": {},
   "source": [
    "Şimdi and işlemini yapan bir perceptron yapalım. Bu tamamen öğrenme amaçlı gerçekte oturup perceptron yazmayacağız. "
   ]
  },
  {
   "cell_type": "code",
   "execution_count": 1,
   "metadata": {},
   "outputs": [
    {
     "name": "stdout",
     "output_type": "stream",
     "text": [
      "Modelin tahminleri:\n",
      "Girdi: [0 0], Tahmin: 0\n",
      "Girdi: [0 1], Tahmin: 0\n",
      "Girdi: [1 0], Tahmin: 0\n",
      "Girdi: [1 1], Tahmin: 1\n"
     ]
    }
   ],
   "source": [
    "import numpy as np\n",
    "\n",
    "class Perceptron:\n",
    "     # Ağırlıklar ve bias iinit sırasında alınıyor normalde öğrenip güncellemesi lazım \n",
    "     # ancak biz basit bir örnek yapıyoruz\n",
    "    def __init__(self, weights):\n",
    "        self.weights = weights \n",
    "\n",
    "    # aktişvasyon fonksiyonu girdilere bakıp aktive olup olmamaya karar verecek\n",
    "    def activation(self, x):\n",
    "        return 1 if x >= 0 else 0\n",
    "\n",
    "    # perceptronun girleri tahmin etme fonksiyonu\n",
    "    def predict(self, inputs):\n",
    "        # Bias'ı ve katsayılar(weights) ile çarpılmış girdileri içeren toplam\n",
    "        summation = np.dot(inputs, self.weights[1:]) + self.weights[0]\n",
    "        # sonucun aktivasyon fonksiyonunda geçmiş haline göre son karar verilir.\n",
    "        return self.activation(summation)\n",
    "\n",
    "# bu örnekte önceden doğru ayarları biliyoruz \n",
    "# gerçek hayatta bu doğru değerler uzun uzun aranacak\n",
    "# AND işlevi için ağırlıklar (bias, w1, w2)\n",
    "# Bias: -1.5, w1: 1, w2: 1\n",
    "weights = np.array([-1.5, 1, 1])\n",
    "\n",
    "# Perceptron'u oluştur\n",
    "perceptron = Perceptron(weights)\n",
    "\n",
    "# Tahminler yap\n",
    "X = np.array([[0, 0], [0, 1], [1, 0], [1, 1]])\n",
    "print(\"Modelin tahminleri:\")\n",
    "for x in X:\n",
    "    print(f\"Girdi: {x}, Tahmin: {perceptron.predict(x)}\")\n"
   ]
  },
  {
   "cell_type": "markdown",
   "metadata": {},
   "source": [
    "And tablosu ile aynı sonuçları verdi yani elimizde bir and  perceptronu var. Bunun gibi or ve xorlar yapabilirsin.\n",
    "\n",
    "Girdiler yani birler ve sıfırlar ise çıkarılan özellikler, ancak çıkarımı yapılacak özellikler her zaman bu kadar kolay olmayacak. Bu ise gelecek bir dersin sorunu. Ancak problemi daha iyi anlarsak neyi neden yaptığımız daha iyi anlaşılır.  Aniden oldukça karışık bir örneğe geçelim."
   ]
  },
  {
   "cell_type": "markdown",
   "metadata": {},
   "source": [
    "<div style=\"text-align: center;\">\n",
    "    <img src=\"imgs/multipercep.png\" alt=\"perceptron resmi\" />\n",
    "</div>"
   ]
  },
  {
   "cell_type": "markdown",
   "metadata": {},
   "source": [
    "Girdiler resmin pixelleri, bu pixellerin birleştirilmesi ile daha farklı şekiller oluşuyor ve bu şekiller anlamlandırılıyor. tabi olay  bu görüntüdeki haline kıyasla oldukça karışık.\n",
    "Bir çok farklı \"feature\" yani özellik elde ediliyor ve bu özelliklerin birleşimi ile araç yapısına ait kısımlar oluşuyor."
   ]
  },
  {
   "cell_type": "markdown",
   "metadata": {},
   "source": [
    "<div style=\"text-align: center;\">\n",
    "    <img src=\"imgs/percepCar.png\"  />\n",
    "</div>"
   ]
  },
  {
   "cell_type": "markdown",
   "metadata": {},
   "source": [
    "Aslında gerçek nöral yapılar yani bizim ve bir çok canlının görme sistemide böyle çalışıyor. Aşağıdaki ünlü tabloyu tanımayı dene ve sonra mouseunu üzerine getir."
   ]
  },
  {
   "cell_type": "markdown",
   "metadata": {},
   "source": [
    "\n",
    "<div style=\"position: relative; width: 400px; \">\n",
    "    <img src=\"imgs/americangothic.png\" style=\"display: block; width: 100%; height: auto;\" />\n",
    "    <img src=\"imgs/americangothicpix.png\" style=\"\n",
    "        display: none; \n",
    "        position: absolute; \n",
    "        top: 0; \n",
    "        left: 0; \n",
    "        width: 100%; \n",
    "        height: auto;\" />\n",
    "    <div style=\"position: absolute; top: 0; left: 0; width: 100%; height: 100%;\"\n",
    "         onmouseover=\"this.previousElementSibling.style.display='none'; this.nextElementSibling.style.display='block';\"\n",
    "         onmouseout=\"this.previousElementSibling.style.display='block'; this.nextElementSibling.style.display='none';\">\n",
    "    </div>\n",
    "</div>\n"
   ]
  },
  {
   "cell_type": "markdown",
   "metadata": {},
   "source": [
    "Bizde küçük detayları ve düzenleri birleştirerek algılama yapıyoruz. Elbette bu yapıya kıyasla beyinler hala çok daha komplike ama örnek alınan yapı bu. Girdileri alan ve sinyale dönüştüren göz sinirler sayesinde nöral ağ olan beyine iletir. Farklı nöronlar uyarılır ve görüntü canlı tarafından anlamlandırılır. Sornasında ise gerekli bir karar varsa bu anlama bağlı verilir."
   ]
  },
  {
   "cell_type": "markdown",
   "metadata": {},
   "source": [
    "<div style=\"text-align: center;\">\n",
    "    <img src=\"imgs/percepMamal.png\"  />\n",
    "</div>"
   ]
  },
  {
   "cell_type": "markdown",
   "metadata": {},
   "source": [
    "# Yapay Zeka ve Derin Öğrenme ve Makine Öğrenmesi Ve Kavram Kargaşası\n"
   ]
  }
 ],
 "metadata": {
  "kernelspec": {
   "display_name": "Python 3",
   "language": "python",
   "name": "python3"
  },
  "language_info": {
   "codemirror_mode": {
    "name": "ipython",
    "version": 3
   },
   "file_extension": ".py",
   "mimetype": "text/x-python",
   "name": "python",
   "nbconvert_exporter": "python",
   "pygments_lexer": "ipython3",
   "version": "3.11.9"
  }
 },
 "nbformat": 4,
 "nbformat_minor": 2
}
