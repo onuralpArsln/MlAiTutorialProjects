{
 "cells": [
  {
   "cell_type": "markdown",
   "metadata": {},
   "source": [
    "# Öğrenmek nedir?\n",
    "\n",
    "Bilgi toplamak mı? yada toplnan bilgiye adapte olarak davranış değişimi göstermek mi?\n",
    "\n"
   ]
  },
  {
   "cell_type": "markdown",
   "metadata": {},
   "source": [
    "Empirical inference terimi gözlem ve deney sonucu elde edilen data ile sonuç çıkartma sürecini anlatır. Aslında bu makine öğrenmesinin temel mantığı olmuştur. Regresyon yaparken belli dataları alırız ve bu dataların ışığında yeni gelen verilerin sonuçlarını tahmin ediyoruz.\n",
    "\n"
   ]
  },
  {
   "cell_type": "markdown",
   "metadata": {},
   "source": [
    "<div style=\"text-align: center;\">\n",
    "    <img src=\"imgs/linerreg.png\"  />\n",
    "</div>"
   ]
  },
  {
   "cell_type": "markdown",
   "metadata": {},
   "source": [
    "Tabi liner bir regresyon her zaman doğru cevapları vermiyordu. biraz daha iyi cevaplar için polinomal regresyon kullanabiliriz."
   ]
  },
  {
   "cell_type": "markdown",
   "metadata": {},
   "source": [
    "<div style=\"text-align: center;\">\n",
    "    <img src=\"imgs/polyregres.png\"  />\n",
    "</div>"
   ]
  },
  {
   "cell_type": "markdown",
   "metadata": {},
   "source": [
    "Data noktaları kullanarak bir tahminleme de sen yap. Aşağıda çok yaygın kullanılan MNIST database (Modified National Institute of Standards and Technology database) örnekleri vardır. Oldukça ünlü olan bu data seti makine öğrenme konularında sık sık karşımıza çıkar.  "
   ]
  },
  {
   "cell_type": "markdown",
   "metadata": {},
   "source": [
    "<div style=\"text-align: center;\">\n",
    "    <img src=\"imgs/minst.png\"  />\n",
    "</div>"
   ]
  },
  {
   "cell_type": "markdown",
   "metadata": {},
   "source": [
    "Buradaki rakamları sınıflandırırken aslında sende önceden gördüğün dataları kullanarak buradaki data noktalarını anlamlandırma çabasındasın."
   ]
  },
  {
   "cell_type": "markdown",
   "metadata": {},
   "source": [
    "Ancak bu çaba bazen sıkıntılı olabilir "
   ]
  },
  {
   "cell_type": "markdown",
   "metadata": {},
   "source": [
    "| Seriler          | 1  | 2  | 3  | 4  | 5  |\n",
    "|------------------|----|----|----|----|----|\n",
    "| seri 1 | 1  | 2  | 4  | 7  | ? |\n",
    "| seri2   | 1  | 2  | 4  | 7  | ?  |\n",
    "| seri3     | 1  | 2  | 4  | 7  | ?  |"
   ]
  },
  {
   "cell_type": "markdown",
   "metadata": {},
   "source": [
    "Geçmiş verilere göre geleceği tahmin etmek için arima (Autoregressive Integrated Moving Average) modeli kullanabiliriz. Tabi veri sayısı çok az olduğu için başarılı olmayabilir."
   ]
  },
  {
   "cell_type": "code",
   "execution_count": 3,
   "metadata": {},
   "outputs": [
    {
     "name": "stdout",
     "output_type": "stream",
     "text": [
      "\n",
      "\u001b[1m[\u001b[0m\u001b[34;49mnotice\u001b[0m\u001b[1;39;49m]\u001b[0m\u001b[39;49m A new release of pip is available: \u001b[0m\u001b[31;49m24.0\u001b[0m\u001b[39;49m -> \u001b[0m\u001b[32;49m24.2\u001b[0m\n",
      "\u001b[1m[\u001b[0m\u001b[34;49mnotice\u001b[0m\u001b[1;39;49m]\u001b[0m\u001b[39;49m To update, run: \u001b[0m\u001b[32;49m/Library/Developer/CommandLineTools/usr/bin/python3 -m pip install --upgrade pip\u001b[0m\n"
     ]
    }
   ],
   "source": [
    "!pip install statsmodels -q"
   ]
  },
  {
   "cell_type": "code",
   "execution_count": 4,
   "metadata": {},
   "outputs": [
    {
     "name": "stdout",
     "output_type": "stream",
     "text": [
      "4    10.100354\n",
      "dtype: float64\n"
     ]
    },
    {
     "name": "stderr",
     "output_type": "stream",
     "text": [
      "/Users/onuralparslan/Library/Python/3.9/lib/python/site-packages/statsmodels/tsa/statespace/sarimax.py:866: UserWarning: Too few observations to estimate starting parameters for ARMA and trend. All parameters except for variances will be set to zeros.\n",
      "  warn('Too few observations to estimate starting parameters%s.'\n"
     ]
    }
   ],
   "source": [
    "import pandas as pd\n",
    "from statsmodels.tsa.arima.model import ARIMA\n",
    "\n",
    "# Örnek zaman serisi verisi\n",
    "data = [1,2,4,7]\n",
    "df = pd.Series(data)\n",
    "\n",
    "# ARIMA modeli\n",
    "model = ARIMA(df, order=(1,1,1))\n",
    "model_fit = model.fit()\n",
    "\n",
    "# Tahmin\n",
    "tahmin = model_fit.forecast(steps=1)\n",
    "print(tahmin)\n"
   ]
  },
  {
   "cell_type": "markdown",
   "metadata": {},
   "source": [
    "Bu bilinmeyen seriler için sonraki sayı tahminin nedir ? "
   ]
  },
  {
   "cell_type": "markdown",
   "metadata": {},
   "source": [
    "| Seriler          | 1  | 2  | 3  | 4  | 5  |\n",
    "|------------------|----|----|----|----|----|\n",
    "| 28in bölenleri | 1  | 2  | 4  | 7  | __14__ |\n",
    "| Tribonacci serisi  | 1  | 2  | 4  | 7  | __13__  |\n",
    "| Lazy Carterer     | 1  | 2  | 4  | 7  | __11__  |"
   ]
  },
  {
   "cell_type": "markdown",
   "metadata": {},
   "source": [
    "işte problemler hangi seriler doğru bir genelleme yapıyor ve genelleme yapmak için gereken doğru data miktarı nedir? "
   ]
  }
 ],
 "metadata": {
  "kernelspec": {
   "display_name": "Python 3",
   "language": "python",
   "name": "python3"
  },
  "language_info": {
   "codemirror_mode": {
    "name": "ipython",
    "version": 3
   },
   "file_extension": ".py",
   "mimetype": "text/x-python",
   "name": "python",
   "nbconvert_exporter": "python",
   "pygments_lexer": "ipython3",
   "version": "3.9.6"
  }
 },
 "nbformat": 4,
 "nbformat_minor": 2
}
