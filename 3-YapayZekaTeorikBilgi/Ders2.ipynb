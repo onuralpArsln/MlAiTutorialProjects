{
 "cells": [
  {
   "cell_type": "markdown",
   "metadata": {},
   "source": [
    "# Öğrenmek nedir?\n",
    "\n",
    "Bilgi toplamak mı? yada toplnan bilgiye adapte olarak davranış değişimi göstermek mi?\n",
    "\n"
   ]
  },
  {
   "cell_type": "markdown",
   "metadata": {},
   "source": [
    "Empirical inference terimi gözlem ve deney sonucu elde edilen data ile sonuç çıkartma sürecini anlatır. Aslında bu makine öğrenmesinin temel mantığı olmuştur. Regresyon yaparken belli dataları alırız ve bu dataların ışığında yeni gelen verilerin sonuçlarını tahmin ediyoruz.\n",
    "\n"
   ]
  },
  {
   "cell_type": "markdown",
   "metadata": {},
   "source": [
    "<div style=\"text-align: center;\">\n",
    "    <img src=\"imgs/linerreg.png\"  />\n",
    "</div>"
   ]
  },
  {
   "cell_type": "markdown",
   "metadata": {},
   "source": [
    "Tabi liner bir regresyon her zaman doğru cevapları vermiyordu. biraz daha iyi cevaplar için polinomal regresyon kullanabiliriz."
   ]
  },
  {
   "cell_type": "markdown",
   "metadata": {},
   "source": [
    "<div style=\"text-align: center;\">\n",
    "    <img src=\"imgs/polyregres.png\"  />\n",
    "</div>"
   ]
  },
  {
   "cell_type": "markdown",
   "metadata": {},
   "source": [
    "Data noktaları kullanarak bir tahminleme de sen yap. Aşağıda çok yaygın kullanılan MNIST database (Modified National Institute of Standards and Technology database) örnekleri vardır. Oldukça ünlü olan bu data seti makine öğrenme konularında sık sık karşımıza çıkar.  "
   ]
  },
  {
   "cell_type": "markdown",
   "metadata": {},
   "source": [
    "<div style=\"text-align: center;\">\n",
    "    <img src=\"imgs/minst.png\"  />\n",
    "</div>"
   ]
  },
  {
   "cell_type": "markdown",
   "metadata": {},
   "source": [
    "Buradaki rakamları sınıflandırırken aslında sende önceden gördüğün dataları kullanarak buradaki data noktalarını anlamlandırma çabasındasın."
   ]
  },
  {
   "cell_type": "markdown",
   "metadata": {},
   "source": [
    "Ancak bu çaba bazen sıkıntılı olabilir "
   ]
  },
  {
   "cell_type": "markdown",
   "metadata": {},
   "source": [
    "| Seriler          | 1  | 2  | 3  | 4  | 5  |\n",
    "|------------------|----|----|----|----|----|\n",
    "| seri 1 | 1  | 2  | 4  | 7  | ? |\n",
    "| seri2   | 1  | 2  | 4  | 7  | ?  |\n",
    "| seri3     | 1  | 2  | 4  | 7  | ?  |"
   ]
  },
  {
   "cell_type": "markdown",
   "metadata": {},
   "source": [
    "Bu bilinmeyen seriler için sonraki sayı tahminin nedir ? "
   ]
  },
  {
   "cell_type": "markdown",
   "metadata": {},
   "source": [
    "| Seriler          | 1  | 2  | 3  | 4  | 5  |\n",
    "|------------------|----|----|----|----|----|\n",
    "| 28in bölenleri | 1  | 2  | 4  | 7  | __14__ |\n",
    "| Tribonacci serisi  | 1  | 2  | 4  | 7  | __13__  |\n",
    "| Lazy Carterer     | 1  | 2  | 4  | 7  | __11__  |"
   ]
  },
  {
   "cell_type": "markdown",
   "metadata": {},
   "source": [
    "işte problemler hangi seriler doğru bir genelleme yapıyor ve genelleme yapmak için gereken doğru data miktarı nedir? "
   ]
  }
 ],
 "metadata": {
  "language_info": {
   "name": "python"
  }
 },
 "nbformat": 4,
 "nbformat_minor": 2
}
