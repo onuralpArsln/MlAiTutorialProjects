{
 "cells": [
  {
   "cell_type": "markdown",
   "metadata": {},
   "source": [
    "# LONG SHORT TERM MEMORY\n",
    "\n",
    "\n",
    "Hafıza bir çok beceri için temel bir gereksinimdir. Detayları ve kritik noktaları hatırlamak kıymetli bir yetenektir. <br>\n",
    "\n",
    "\"Kemal tatilinde Louvre Müzesini gezmiş ve Eiffel kulesinin önünde bolca fotoğraf çekilmiş. Bu gezi onu oldukça eğlendirmiş ve dinlendirmiş gözüküyor. Geldiğinden beri eğlenceli maceralarını anlatıyor. Kısa tatilde tüm şehri gezmek için de epey yol yürümüş. Şehrin tarihi dokusunu onu baya etkilemiş ve yeni şeyler öğrenmiş. Birkaç kelime ______  bile öğrenmiş.\"  <br>\n",
    "\n",
    "Boşluğu doldurmak bizim için oldukça kolay. Louvre ve Eiffel bize Kemalin Paris'i ziyaret ettiğini gösteriyor. Ancak bunların kilit kelimeler olduğunu fark etmek ve aklımızda tutmak asıl beceri. Paris'te Fransızcasını ilerlettiğini anlamak, buna kıyasla daha kolay bir görev. <br>\n",
    "\n",
    "Biz bunu fark etmeden başardık. Peki nasıl oluyor da yapay zeka da bunu başarıyor? <br>\n",
    "\n",
    "RNNlerde katmalar uyarılıyor ve sonraki katmanları tetikliyorlardı. Bir katmandaki güçlü bir uyaranın etkisi bir kaç sonraki katmanda çok güçlü olmayabiliyor. <br>\n",
    "\n",
    "LSTMler basitçe katmanlar arası kestirmeler oluşturur. Bu kestirmeler etkisi büyük girdilerin ileri aşamalara taşınarak diğer katmanları da etkilemesi sağlanır. <br>\n",
    "\n",
    "\n",
    "\n",
    "\n"
   ]
  },
  {
   "cell_type": "markdown",
   "metadata": {},
   "source": []
  },
  {
   "cell_type": "code",
   "execution_count": 5,
   "metadata": {},
   "outputs": [
    {
     "name": "stdout",
     "output_type": "stream",
     "text": [
      "\n",
      "\u001b[1m[\u001b[0m\u001b[34;49mnotice\u001b[0m\u001b[1;39;49m]\u001b[0m\u001b[39;49m A new release of pip is available: \u001b[0m\u001b[31;49m24.0\u001b[0m\u001b[39;49m -> \u001b[0m\u001b[32;49m24.2\u001b[0m\n",
      "\u001b[1m[\u001b[0m\u001b[34;49mnotice\u001b[0m\u001b[1;39;49m]\u001b[0m\u001b[39;49m To update, run: \u001b[0m\u001b[32;49m/Library/Developer/CommandLineTools/usr/bin/python3 -m pip install --upgrade pip\u001b[0m\n"
     ]
    }
   ],
   "source": [
    "!pip install requests -q"
   ]
  },
  {
   "cell_type": "code",
   "execution_count": 6,
   "metadata": {},
   "outputs": [
    {
     "name": "stderr",
     "output_type": "stream",
     "text": [
      "/Users/onuralparslan/Library/Python/3.9/lib/python/site-packages/urllib3/__init__.py:35: NotOpenSSLWarning: urllib3 v2 only supports OpenSSL 1.1.1+, currently the 'ssl' module is compiled with 'LibreSSL 2.8.3'. See: https://github.com/urllib3/urllib3/issues/3020\n",
      "  warnings.warn(\n"
     ]
    }
   ],
   "source": [
    "import requests\n",
    "\n",
    "url = \"https://raw.githubusercontent.com/jbrownlee/Datasets/master/airline-passengers.csv\"\n",
    "response = requests.get(url)\n",
    "\n",
    "# Save the file\n",
    "with open(\"flightData.csv\", \"wb\") as file:\n",
    "    file.write(response.content)\n"
   ]
  }
 ],
 "metadata": {
  "kernelspec": {
   "display_name": "Python 3",
   "language": "python",
   "name": "python3"
  },
  "language_info": {
   "codemirror_mode": {
    "name": "ipython",
    "version": 3
   },
   "file_extension": ".py",
   "mimetype": "text/x-python",
   "name": "python",
   "nbconvert_exporter": "python",
   "pygments_lexer": "ipython3",
   "version": "3.9.6"
  }
 },
 "nbformat": 4,
 "nbformat_minor": 2
}
