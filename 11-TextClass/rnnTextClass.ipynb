{
  "cells": [
    {
      "cell_type": "markdown",
      "metadata": {
        "id": "view-in-github",
        "colab_type": "text"
      },
      "source": [
        "<a href=\"https://colab.research.google.com/github/onuralpArsln/MlAiTutorialProjects/blob/main/11-TextClass/rnnTextClass.ipynb\" target=\"_parent\"><img src=\"https://colab.research.google.com/assets/colab-badge.svg\" alt=\"Open In Colab\"/></a>"
      ]
    },
    {
      "cell_type": "markdown",
      "source": [
        "tensorflow_datasets (tfds) data setler için lazım,\n",
        "tensorflow kütüphanesi, modelin eğitiminde kullanılır.\n",
        "matplotlib kütüphanesi grafik çizimleri için kullanılıyor."
      ],
      "metadata": {
        "id": "wcu2NDpU4g8e"
      }
    },
    {
      "cell_type": "code",
      "execution_count": 22,
      "metadata": {
        "id": "j8v_83GSjalC"
      },
      "outputs": [],
      "source": [
        "import numpy as np\n",
        "\n",
        "import tensorflow_datasets as tfds\n",
        "import tensorflow as tf\n",
        "\n",
        "tfds.disable_progress_bar()"
      ]
    },
    {
      "cell_type": "markdown",
      "source": [
        "Eğitim sırasında grafik çizme fonksiyonu Eğitim sırasında doğruluk ve kayıp grafiklerini çizmek için bir yardımcı fonksiyon tanımlanır"
      ],
      "metadata": {
        "id": "ZotLyOZX4nrA"
      }
    },
    {
      "cell_type": "code",
      "source": [
        "import matplotlib.pyplot as plt\n",
        "\n",
        "\n",
        "def plot_graphs(history, metric):\n",
        "  plt.plot(history.history[metric])\n",
        "  plt.plot(history.history['val_'+metric], '')\n",
        "  plt.xlabel(\"Epochs\")\n",
        "  plt.ylabel(metric)\n",
        "  plt.legend([metric, 'val_'+metric])"
      ],
      "metadata": {
        "id": "fogyAQgul3ck"
      },
      "execution_count": 23,
      "outputs": []
    },
    {
      "cell_type": "markdown",
      "source": [
        "Veri seti, IMDB'nin büyük film inceleme verisetidir ve her yorum pozitif ya da negatif bir duygu içerir. Bu veriyi tfds.load ile indiriyoruz:"
      ],
      "metadata": {
        "id": "6TNS7bnv2YKp"
      }
    },
    {
      "cell_type": "code",
      "execution_count": 24,
      "metadata": {
        "id": "gsbTZhUXjalC",
        "colab": {
          "base_uri": "https://localhost:8080/"
        },
        "outputId": "7030aa04-5b7c-45d6-f6d8-d6c77557a223"
      },
      "outputs": [
        {
          "output_type": "execute_result",
          "data": {
            "text/plain": [
              "(TensorSpec(shape=(), dtype=tf.string, name=None),\n",
              " TensorSpec(shape=(), dtype=tf.int64, name=None))"
            ]
          },
          "metadata": {},
          "execution_count": 24
        }
      ],
      "source": [
        "dataset, info = tfds.load('imdb_reviews', with_info=True,\n",
        "                          as_supervised=True)\n",
        "train_dataset, test_dataset = dataset['train'], dataset['test']\n",
        "\n",
        "train_dataset.element_spec"
      ]
    },
    {
      "cell_type": "markdown",
      "source": [
        "Yorum ve etiket örneği 1 beğenmek 0 ise beğnememek anlamına geliyor"
      ],
      "metadata": {
        "id": "06rytGTb2vY-"
      }
    },
    {
      "cell_type": "code",
      "execution_count": 25,
      "metadata": {
        "colab": {
          "base_uri": "https://localhost:8080/"
        },
        "id": "kKzajZKTjalB",
        "outputId": "769dfdff-bccc-4650-fe72-a36a660c9eaa"
      },
      "outputs": [
        {
          "output_type": "stream",
          "name": "stdout",
          "text": [
            "text:  b\"This was an absolutely terrible movie. Don't be lured in by Christopher Walken or Michael Ironside. Both are great actors, but this must simply be their worst role in history. Even their great acting could not redeem this movie's ridiculous storyline. This movie is an early nineties US propaganda piece. The most pathetic scenes were those when the Columbian rebels were making their cases for revolutions. Maria Conchita Alonso appeared phony, and her pseudo-love affair with Walken was nothing but a pathetic emotional plug in a movie that was devoid of any real meaning. I am disappointed that there are movies like this, ruining actor's like Christopher Walken's good name. I could barely sit through it.\"\n",
            "label:  0\n"
          ]
        }
      ],
      "source": [
        "for example, label in train_dataset.take(1):\n",
        "  print('text: ', example.numpy())\n",
        "  print('label: ', label.numpy())"
      ]
    },
    {
      "cell_type": "code",
      "execution_count": 26,
      "metadata": {
        "id": "CxluHN5OjalB"
      },
      "outputs": [],
      "source": [
        "BUFFER_SIZE = 10000\n",
        "BATCH_SIZE = 64\n"
      ]
    },
    {
      "cell_type": "markdown",
      "source": [
        "Bu pairleri  datasete çeviriyoruz"
      ],
      "metadata": {
        "id": "2jfYVVo-3CnO"
      }
    },
    {
      "cell_type": "code",
      "source": [
        "train_dataset = train_dataset.shuffle(BUFFER_SIZE).batch(BATCH_SIZE).prefetch(tf.data.AUTOTUNE)\n",
        "test_dataset = test_dataset.batch(BATCH_SIZE).prefetch(tf.data.AUTOTUNE)"
      ],
      "metadata": {
        "id": "-YXsjiXgl091"
      },
      "execution_count": 27,
      "outputs": []
    },
    {
      "cell_type": "code",
      "source": [
        "for example, label in train_dataset.take(1):\n",
        "  print('texts: ', example.numpy()[:3])\n",
        "  print()\n",
        "  print('labels: ', label.numpy()[:3])"
      ],
      "metadata": {
        "id": "_mZeY63GmgZ-",
        "outputId": "8a21ce82-7fad-4fed-b60a-2707c73b95e7",
        "colab": {
          "base_uri": "https://localhost:8080/"
        }
      },
      "execution_count": 28,
      "outputs": [
        {
          "output_type": "stream",
          "name": "stdout",
          "text": [
            "texts:  [b\"Emilio Miraglia's first Giallo feature, The Night Evelyn Came Out of the Grave, was a great combination of Giallo and Gothic horror - and this second film is even better! We've got more of the Giallo side of the equation this time around, although Miraglia doesn't lose the Gothic horror stylings that made the earlier film such a delight. Miraglia puts more emphasis on the finer details of the plot this time around, and as a result it's the typical Giallo labyrinth, with characters all over the place and red herrings being thrown in every few minutes. This is a definite bonus for the film, however, as while it can get a little too confusing at times; there's always enough to hold the audience's interest and Miraglia's storytelling has improved since his earlier movie. The plot opens with a scene that sees two young girls fighting, before their grandfather explains to them the legend behind a rather lurid painting in their castle. The legend revolves around a woman called 'The Red Queen' who, legend has it, returns from the grave every hundred years and kills seven people. A few years later, murders begin to occur...<br /><br />Even though he only made two Giallo's, Miraglia does have his own set of tributes. It's obvious that the colour red is important to him, as it features heavily in both films; and he appears to have something against women called 'Evelyn'. He likes castles, Gothic atmospheres and stylish murders too - which is fine by me! Miraglia may be no Argento when it comes to spilling blood, but he certainly knows how to drop an over the top murder into his film; and here we have delights involving a Volkswagen Beetle, and a death on an iron fence that is one of my all time favourite Giallo death scenes. The female side of the cast is excellent with the stunning Barbara Bouchet and Marina Malfatti heading up an eye-pleasing cast of ladies that aren't afraid to take their clothes off! The score courtesy of Bruno Nicolai is catchy, and even though it doesn't feature much of the psychedelic rock heard in The Night Evelyn Came Out of the Grave; it fits the film well. The ending is something of a turn-off, as although Miraglia revs up the Gothic atmosphere, it comes across as being more than a little bit rushed and the identity of the murderer is too obvious. But even so, this is a delightfully entertaining Giallo and one that I highly recommend to fans of the genre!\"\n",
            " b'I\\'m a big mark for the music of Neil Young, and with that and the glowing praise the film received in many alt-indie press circles, hit the first showing of Greendale I could find. My excitement was short-lived, as this turgid storyline and weak lyrical momentum left most filmgoers either asleep or disappointed.<br /><br />Neil says the film started as a soundtrack, and the characters came to life so much that they just filmed the soundtrack. Not the best way to craft a story. No character really has an arc, and when \"significant\" events do happen, the viewer doesn\\'t cared, because film technique annoyance levels are so high by that point. The film is all song, and to that end, the characters on end mouth the lyrics as they\\'re sung...the technique works for the first stanza it is done, and is grating on the nerves after that. It doesn\\'t feel real or fake, it just feels unwelcome.<br /><br />Terrible acting, with characters finding one mood and playing all of it. Poor lighting at times. The only kudos I can give the film are in regard to several scenes shot as newscast, but the technique is so used in cinema today that this film did little to further it. An alright soundtrack, but nothing I\\'m quick to buy. A bad film.'\n",
            " b'I missed the first 10 or so minutes of the movie but don\\'t think watching it from the beginning would\\'ve made any difference. I found the film extremely boring and was disappointed with the acting. I remember Patrick Swayze and some of the other actors (Roy Marsden, for instance) in outstanding roles but they all disappointed here due to a very weak script. \"Kind Solomon\\'s Mines\"...the very short part of the movie inside the \"mines\" was about as exciting as watching paint dry and I doubt that even a pre-school kid would\\'ve been spell-bound by watching the fight of the \"warriors\". The entire movie was reminiscent of a cheaply produced American TV series. Give me Indiana Jones any day!']\n",
            "\n",
            "labels:  [1 0 0]\n"
          ]
        }
      ]
    },
    {
      "cell_type": "markdown",
      "source": [
        "Ham metin verisini modelde kullanılabilir hale getirmek için TextVectorization katmanı kullanıyoruz. Bu katman, metni kelime dizilerine dönüştürür.TextVectorization: Metni sayısal verilere dönüştürür."
      ],
      "metadata": {
        "id": "xcLE19YppU_a"
      }
    },
    {
      "cell_type": "code",
      "source": [
        "VOCAB_SIZE = 1000\n",
        "encoder = tf.keras.layers.TextVectorization(\n",
        "    max_tokens=VOCAB_SIZE)\n",
        "encoder.adapt(train_dataset.map(lambda text, label: text))"
      ],
      "metadata": {
        "id": "nE6A1SZIpZpS"
      },
      "execution_count": 29,
      "outputs": []
    },
    {
      "cell_type": "code",
      "source": [
        "vocab = np.array(encoder.get_vocabulary())\n",
        "vocab[:20]"
      ],
      "metadata": {
        "id": "JXp7yG8ppVzb",
        "colab": {
          "base_uri": "https://localhost:8080/"
        },
        "outputId": "a735bd6d-b1fc-4b5c-e3b9-0c949d6706bc"
      },
      "execution_count": 31,
      "outputs": [
        {
          "output_type": "execute_result",
          "data": {
            "text/plain": [
              "array(['', '[UNK]', 'the', 'and', 'a', 'of', 'to', 'is', 'in', 'it', 'i',\n",
              "       'this', 'that', 'br', 'was', 'as', 'for', 'with', 'movie', 'but'],\n",
              "      dtype='<U14')"
            ]
          },
          "metadata": {},
          "execution_count": 31
        }
      ]
    },
    {
      "cell_type": "markdown",
      "source": [
        "model"
      ],
      "metadata": {
        "id": "W2gnOMSRpeVo"
      }
    },
    {
      "cell_type": "code",
      "source": [
        "encoded_example = encoder(example)[:3].numpy()\n",
        "encoded_example"
      ],
      "metadata": {
        "id": "EYUM0yZWpfFd",
        "outputId": "850790de-1898-433b-b771-b2bd4ff6428f",
        "colab": {
          "base_uri": "https://localhost:8080/"
        }
      },
      "execution_count": 32,
      "outputs": [
        {
          "output_type": "execute_result",
          "data": {
            "text/plain": [
              "array([[  1,   1,  86, ...,   0,   0,   0],\n",
              "       [142,   4, 196, ...,   0,   0,   0],\n",
              "       [ 10,   1,   2, ...,   0,   0,   0]])"
            ]
          },
          "metadata": {},
          "execution_count": 32
        }
      ]
    },
    {
      "cell_type": "markdown",
      "source": [
        " [UNK] symbols, which typically represent unknown or unrecognized tokens in a model's vocabulary. This happens when certain words or characters in the original text aren't in the model's vocabulary, resulting in their replacement by the placeholder token."
      ],
      "metadata": {
        "id": "fohjpfnf5cw4"
      }
    },
    {
      "cell_type": "code",
      "source": [
        "for n in range(3):\n",
        "  print(\"Original: \", example[n].numpy())\n",
        "  print(\"Round-trip: \", \" \".join(vocab[encoded_example[n]]))\n",
        "  print()"
      ],
      "metadata": {
        "colab": {
          "base_uri": "https://localhost:8080/"
        },
        "id": "MpE8QH71wVJ5",
        "outputId": "5a202184-bd60-4aa7-8fc1-0a64eea6400c"
      },
      "execution_count": 33,
      "outputs": [
        {
          "output_type": "stream",
          "name": "stdout",
          "text": [
            "Original:  b\"Emilio Miraglia's first Giallo feature, The Night Evelyn Came Out of the Grave, was a great combination of Giallo and Gothic horror - and this second film is even better! We've got more of the Giallo side of the equation this time around, although Miraglia doesn't lose the Gothic horror stylings that made the earlier film such a delight. Miraglia puts more emphasis on the finer details of the plot this time around, and as a result it's the typical Giallo labyrinth, with characters all over the place and red herrings being thrown in every few minutes. This is a definite bonus for the film, however, as while it can get a little too confusing at times; there's always enough to hold the audience's interest and Miraglia's storytelling has improved since his earlier movie. The plot opens with a scene that sees two young girls fighting, before their grandfather explains to them the legend behind a rather lurid painting in their castle. The legend revolves around a woman called 'The Red Queen' who, legend has it, returns from the grave every hundred years and kills seven people. A few years later, murders begin to occur...<br /><br />Even though he only made two Giallo's, Miraglia does have his own set of tributes. It's obvious that the colour red is important to him, as it features heavily in both films; and he appears to have something against women called 'Evelyn'. He likes castles, Gothic atmospheres and stylish murders too - which is fine by me! Miraglia may be no Argento when it comes to spilling blood, but he certainly knows how to drop an over the top murder into his film; and here we have delights involving a Volkswagen Beetle, and a death on an iron fence that is one of my all time favourite Giallo death scenes. The female side of the cast is excellent with the stunning Barbara Bouchet and Marina Malfatti heading up an eye-pleasing cast of ladies that aren't afraid to take their clothes off! The score courtesy of Bruno Nicolai is catchy, and even though it doesn't feature much of the psychedelic rock heard in The Night Evelyn Came Out of the Grave; it fits the film well. The ending is something of a turn-off, as although Miraglia revs up the Gothic atmosphere, it comes across as being more than a little bit rushed and the identity of the murderer is too obvious. But even so, this is a delightfully entertaining Giallo and one that I highly recommend to fans of the genre!\"\n",
            "Round-trip:  [UNK] [UNK] first [UNK] feature the night [UNK] came out of the [UNK] was a great [UNK] of [UNK] and [UNK] horror and this second film is even better [UNK] got more of the [UNK] side of the [UNK] this time around although [UNK] doesnt [UNK] the [UNK] horror [UNK] that made the earlier film such a [UNK] [UNK] [UNK] more [UNK] on the [UNK] [UNK] of the plot this time around and as a result its the typical [UNK] [UNK] with characters all over the place and red [UNK] being [UNK] in every few minutes this is a [UNK] [UNK] for the film however as while it can get a little too [UNK] at times theres always enough to [UNK] the [UNK] interest and [UNK] [UNK] has [UNK] since his earlier movie the plot [UNK] with a scene that [UNK] two young girls fighting before their [UNK] [UNK] to them the [UNK] behind a rather [UNK] [UNK] in their [UNK] the [UNK] [UNK] around a woman called the red [UNK] who [UNK] has it [UNK] from the [UNK] every [UNK] years and [UNK] [UNK] people a few years later [UNK] begin to [UNK] br even though he only made two [UNK] [UNK] does have his own set of [UNK] its obvious that the [UNK] red is important to him as it features [UNK] in both films and he appears to have something against women called [UNK] he [UNK] [UNK] [UNK] [UNK] and [UNK] [UNK] too which is fine by me [UNK] may be no [UNK] when it comes to [UNK] blood but he certainly knows how to [UNK] an over the top murder into his film and here we have [UNK] [UNK] a [UNK] [UNK] and a death on an [UNK] [UNK] that is one of my all time [UNK] [UNK] death scenes the female side of the cast is excellent with the [UNK] [UNK] [UNK] and [UNK] [UNK] [UNK] up an [UNK] cast of [UNK] that arent [UNK] to take their [UNK] off the score [UNK] of [UNK] [UNK] is [UNK] and even though it doesnt feature much of the [UNK] rock heard in the night [UNK] came out of the [UNK] it [UNK] the film well the ending is something of a [UNK] as although [UNK] [UNK] up the [UNK] atmosphere it comes across as being more than a little bit [UNK] and the [UNK] of the [UNK] is too obvious but even so this is a [UNK] entertaining [UNK] and one that i highly recommend to fans of the genre                                                                                                                                                                                                                                                                                                                                                                                                                                                                                                                                                                                           \n",
            "\n",
            "Original:  b'I\\'m a big mark for the music of Neil Young, and with that and the glowing praise the film received in many alt-indie press circles, hit the first showing of Greendale I could find. My excitement was short-lived, as this turgid storyline and weak lyrical momentum left most filmgoers either asleep or disappointed.<br /><br />Neil says the film started as a soundtrack, and the characters came to life so much that they just filmed the soundtrack. Not the best way to craft a story. No character really has an arc, and when \"significant\" events do happen, the viewer doesn\\'t cared, because film technique annoyance levels are so high by that point. The film is all song, and to that end, the characters on end mouth the lyrics as they\\'re sung...the technique works for the first stanza it is done, and is grating on the nerves after that. It doesn\\'t feel real or fake, it just feels unwelcome.<br /><br />Terrible acting, with characters finding one mood and playing all of it. Poor lighting at times. The only kudos I can give the film are in regard to several scenes shot as newscast, but the technique is so used in cinema today that this film did little to further it. An alright soundtrack, but nothing I\\'m quick to buy. A bad film.'\n",
            "Round-trip:  im a big mark for the music of [UNK] young and with that and the [UNK] [UNK] the film [UNK] in many [UNK] [UNK] [UNK] hit the first showing of [UNK] i could find my [UNK] was [UNK] as this [UNK] storyline and weak [UNK] [UNK] left most [UNK] either [UNK] or [UNK] br [UNK] says the film started as a soundtrack and the characters came to life so much that they just filmed the soundtrack not the best way to [UNK] a story no character really has an [UNK] and when [UNK] events do happen the viewer doesnt [UNK] because film [UNK] [UNK] [UNK] are so high by that point the film is all song and to that end the characters on end [UNK] the [UNK] as theyre [UNK] [UNK] works for the first [UNK] it is done and is [UNK] on the [UNK] after that it doesnt feel real or [UNK] it just feels [UNK] br terrible acting with characters [UNK] one [UNK] and playing all of it poor [UNK] at times the only [UNK] i can give the film are in [UNK] to several scenes shot as [UNK] but the [UNK] is so used in cinema today that this film did little to [UNK] it an [UNK] soundtrack but nothing im [UNK] to buy a bad film                                                                                                                                                                                                                                                                                                                                                                                                                                                                                                                                                                                                                                                                                                                                                                                                       \n",
            "\n",
            "Original:  b'I missed the first 10 or so minutes of the movie but don\\'t think watching it from the beginning would\\'ve made any difference. I found the film extremely boring and was disappointed with the acting. I remember Patrick Swayze and some of the other actors (Roy Marsden, for instance) in outstanding roles but they all disappointed here due to a very weak script. \"Kind Solomon\\'s Mines\"...the very short part of the movie inside the \"mines\" was about as exciting as watching paint dry and I doubt that even a pre-school kid would\\'ve been spell-bound by watching the fight of the \"warriors\". The entire movie was reminiscent of a cheaply produced American TV series. Give me Indiana Jones any day!'\n",
            "Round-trip:  i [UNK] the first 10 or so minutes of the movie but dont think watching it from the beginning [UNK] made any [UNK] i found the film extremely boring and was disappointed with the acting i remember [UNK] [UNK] and some of the other actors [UNK] [UNK] for [UNK] in [UNK] roles but they all disappointed here due to a very weak script kind [UNK] [UNK] very short part of the movie inside the [UNK] was about as [UNK] as watching [UNK] [UNK] and i doubt that even a [UNK] kid [UNK] been [UNK] by watching the fight of the [UNK] the entire movie was [UNK] of a [UNK] [UNK] american tv series give me [UNK] [UNK] any day                                                                                                                                                                                                                                                                                                                                                                                                                                                                                                                                                                                                                                                                                                                                                                                                                                                                                                            \n",
            "\n"
          ]
        }
      ]
    },
    {
      "cell_type": "code",
      "source": [
        "model = tf.keras.Sequential([\n",
        "    encoder,\n",
        "    tf.keras.layers.Embedding(\n",
        "        input_dim=len(encoder.get_vocabulary()),\n",
        "        output_dim=64,\n",
        "        # Use masking to handle the variable sequence lengths\n",
        "        mask_zero=True),\n",
        "    tf.keras.layers.Bidirectional(tf.keras.layers.LSTM(64)),\n",
        "    tf.keras.layers.Dense(64, activation='relu'),\n",
        "    tf.keras.layers.Dense(1)\n",
        "])"
      ],
      "metadata": {
        "id": "2aX0P8yQwY7k"
      },
      "execution_count": 34,
      "outputs": []
    },
    {
      "cell_type": "code",
      "source": [
        "print([layer.supports_masking for layer in model.layers])"
      ],
      "metadata": {
        "colab": {
          "base_uri": "https://localhost:8080/"
        },
        "id": "ICgKvhNIwbQx",
        "outputId": "20e8c330-7c84-4096-ce54-1559413a5d57"
      },
      "execution_count": 37,
      "outputs": [
        {
          "output_type": "stream",
          "name": "stdout",
          "text": [
            "[False, True, True, True, True]\n"
          ]
        }
      ]
    },
    {
      "cell_type": "code",
      "source": [
        "# predict on a sample text without padding.\n",
        "\n",
        "sample_text = ('The movie was cool. The animation and the graphics '\n",
        "               'were out of this world. I would recommend this movie.')\n",
        "input_text = tf.convert_to_tensor([sample_text])\n",
        "predictions = model.predict(input_text)\n",
        "print(predictions[0])"
      ],
      "metadata": {
        "colab": {
          "base_uri": "https://localhost:8080/"
        },
        "id": "HT_H9uQtwdOI",
        "outputId": "ebd0db0f-1801-4e13-fc83-ea6750b64a2f"
      },
      "execution_count": 42,
      "outputs": [
        {
          "output_type": "stream",
          "name": "stdout",
          "text": [
            "\u001b[1m1/1\u001b[0m \u001b[32m━━━━━━━━━━━━━━━━━━━━\u001b[0m\u001b[37m\u001b[0m \u001b[1m0s\u001b[0m 41ms/step\n",
            "[0.00936007]\n"
          ]
        }
      ]
    },
    {
      "cell_type": "code",
      "source": [
        "sample_text = ('The movie was bad. The animation and the graphics are poor '\n",
        "               ' I would not recommend this movie.')\n",
        "\n",
        "# Convert to tensor first\n",
        "input_text = tf.convert_to_tensor([sample_text])\n",
        "predictions = model.predict(input_text)\n",
        "print(predictions)"
      ],
      "metadata": {
        "colab": {
          "base_uri": "https://localhost:8080/"
        },
        "id": "SbInD1sx15v-",
        "outputId": "fe54d2f2-b1ab-4aeb-a7d3-908bbf16c3b4"
      },
      "execution_count": 43,
      "outputs": [
        {
          "output_type": "stream",
          "name": "stdout",
          "text": [
            "\u001b[1m1/1\u001b[0m \u001b[32m━━━━━━━━━━━━━━━━━━━━\u001b[0m\u001b[37m\u001b[0m \u001b[1m0s\u001b[0m 40ms/step\n",
            "[[0.00700458]]\n"
          ]
        }
      ]
    },
    {
      "cell_type": "code",
      "source": [
        "# predict on a sample text with padding\n",
        "\n",
        "padding = \"the \" * 2000\n",
        "input_text = tf.convert_to_tensor([sample_text])\n",
        "predictions = model.predict(input_text)\n",
        "print(predictions[0])"
      ],
      "metadata": {
        "colab": {
          "base_uri": "https://localhost:8080/"
        },
        "id": "qs50Osr6weGB",
        "outputId": "7eddf867-fa85-4a61-bb5b-c59c63dea8d7"
      },
      "execution_count": 45,
      "outputs": [
        {
          "output_type": "stream",
          "name": "stdout",
          "text": [
            "\u001b[1m1/1\u001b[0m \u001b[32m━━━━━━━━━━━━━━━━━━━━\u001b[0m\u001b[37m\u001b[0m \u001b[1m0s\u001b[0m 39ms/step\n",
            "[0.00700458]\n"
          ]
        }
      ]
    },
    {
      "cell_type": "code",
      "source": [
        "model.compile(loss=tf.keras.losses.BinaryCrossentropy(from_logits=True),\n",
        "              optimizer=tf.keras.optimizers.Adam(1e-4),\n",
        "              metrics=['accuracy'])"
      ],
      "metadata": {
        "id": "Dcqjq43BwfQX"
      },
      "execution_count": 46,
      "outputs": []
    },
    {
      "cell_type": "code",
      "source": [
        "model.summary()"
      ],
      "metadata": {
        "colab": {
          "base_uri": "https://localhost:8080/",
          "height": 323
        },
        "id": "yNXt-QtQ56dp",
        "outputId": "ec90543c-5f25-4411-f815-2fe5bfee48d4"
      },
      "execution_count": 47,
      "outputs": [
        {
          "output_type": "display_data",
          "data": {
            "text/plain": [
              "\u001b[1mModel: \"sequential\"\u001b[0m\n"
            ],
            "text/html": [
              "<pre style=\"white-space:pre;overflow-x:auto;line-height:normal;font-family:Menlo,'DejaVu Sans Mono',consolas,'Courier New',monospace\"><span style=\"font-weight: bold\">Model: \"sequential\"</span>\n",
              "</pre>\n"
            ]
          },
          "metadata": {}
        },
        {
          "output_type": "display_data",
          "data": {
            "text/plain": [
              "┏━━━━━━━━━━━━━━━━━━━━━━━━━━━━━━━━━━━━━━┳━━━━━━━━━━━━━━━━━━━━━━━━━━━━━┳━━━━━━━━━━━━━━━━━┓\n",
              "┃\u001b[1m \u001b[0m\u001b[1mLayer (type)                        \u001b[0m\u001b[1m \u001b[0m┃\u001b[1m \u001b[0m\u001b[1mOutput Shape               \u001b[0m\u001b[1m \u001b[0m┃\u001b[1m \u001b[0m\u001b[1m        Param #\u001b[0m\u001b[1m \u001b[0m┃\n",
              "┡━━━━━━━━━━━━━━━━━━━━━━━━━━━━━━━━━━━━━━╇━━━━━━━━━━━━━━━━━━━━━━━━━━━━━╇━━━━━━━━━━━━━━━━━┩\n",
              "│ text_vectorization_2                 │ (\u001b[38;5;34m1\u001b[0m, \u001b[38;5;45mNone\u001b[0m)                   │               \u001b[38;5;34m0\u001b[0m │\n",
              "│ (\u001b[38;5;33mTextVectorization\u001b[0m)                  │                             │                 │\n",
              "├──────────────────────────────────────┼─────────────────────────────┼─────────────────┤\n",
              "│ embedding (\u001b[38;5;33mEmbedding\u001b[0m)                │ (\u001b[38;5;34m1\u001b[0m, \u001b[38;5;45mNone\u001b[0m, \u001b[38;5;34m64\u001b[0m)               │          \u001b[38;5;34m64,000\u001b[0m │\n",
              "├──────────────────────────────────────┼─────────────────────────────┼─────────────────┤\n",
              "│ bidirectional (\u001b[38;5;33mBidirectional\u001b[0m)        │ (\u001b[38;5;34m1\u001b[0m, \u001b[38;5;34m128\u001b[0m)                    │          \u001b[38;5;34m66,048\u001b[0m │\n",
              "├──────────────────────────────────────┼─────────────────────────────┼─────────────────┤\n",
              "│ dense (\u001b[38;5;33mDense\u001b[0m)                        │ (\u001b[38;5;34m1\u001b[0m, \u001b[38;5;34m64\u001b[0m)                     │           \u001b[38;5;34m8,256\u001b[0m │\n",
              "├──────────────────────────────────────┼─────────────────────────────┼─────────────────┤\n",
              "│ dense_1 (\u001b[38;5;33mDense\u001b[0m)                      │ (\u001b[38;5;34m1\u001b[0m, \u001b[38;5;34m1\u001b[0m)                      │              \u001b[38;5;34m65\u001b[0m │\n",
              "└──────────────────────────────────────┴─────────────────────────────┴─────────────────┘\n"
            ],
            "text/html": [
              "<pre style=\"white-space:pre;overflow-x:auto;line-height:normal;font-family:Menlo,'DejaVu Sans Mono',consolas,'Courier New',monospace\">┏━━━━━━━━━━━━━━━━━━━━━━━━━━━━━━━━━━━━━━┳━━━━━━━━━━━━━━━━━━━━━━━━━━━━━┳━━━━━━━━━━━━━━━━━┓\n",
              "┃<span style=\"font-weight: bold\"> Layer (type)                         </span>┃<span style=\"font-weight: bold\"> Output Shape                </span>┃<span style=\"font-weight: bold\">         Param # </span>┃\n",
              "┡━━━━━━━━━━━━━━━━━━━━━━━━━━━━━━━━━━━━━━╇━━━━━━━━━━━━━━━━━━━━━━━━━━━━━╇━━━━━━━━━━━━━━━━━┩\n",
              "│ text_vectorization_2                 │ (<span style=\"color: #00af00; text-decoration-color: #00af00\">1</span>, <span style=\"color: #00d7ff; text-decoration-color: #00d7ff\">None</span>)                   │               <span style=\"color: #00af00; text-decoration-color: #00af00\">0</span> │\n",
              "│ (<span style=\"color: #0087ff; text-decoration-color: #0087ff\">TextVectorization</span>)                  │                             │                 │\n",
              "├──────────────────────────────────────┼─────────────────────────────┼─────────────────┤\n",
              "│ embedding (<span style=\"color: #0087ff; text-decoration-color: #0087ff\">Embedding</span>)                │ (<span style=\"color: #00af00; text-decoration-color: #00af00\">1</span>, <span style=\"color: #00d7ff; text-decoration-color: #00d7ff\">None</span>, <span style=\"color: #00af00; text-decoration-color: #00af00\">64</span>)               │          <span style=\"color: #00af00; text-decoration-color: #00af00\">64,000</span> │\n",
              "├──────────────────────────────────────┼─────────────────────────────┼─────────────────┤\n",
              "│ bidirectional (<span style=\"color: #0087ff; text-decoration-color: #0087ff\">Bidirectional</span>)        │ (<span style=\"color: #00af00; text-decoration-color: #00af00\">1</span>, <span style=\"color: #00af00; text-decoration-color: #00af00\">128</span>)                    │          <span style=\"color: #00af00; text-decoration-color: #00af00\">66,048</span> │\n",
              "├──────────────────────────────────────┼─────────────────────────────┼─────────────────┤\n",
              "│ dense (<span style=\"color: #0087ff; text-decoration-color: #0087ff\">Dense</span>)                        │ (<span style=\"color: #00af00; text-decoration-color: #00af00\">1</span>, <span style=\"color: #00af00; text-decoration-color: #00af00\">64</span>)                     │           <span style=\"color: #00af00; text-decoration-color: #00af00\">8,256</span> │\n",
              "├──────────────────────────────────────┼─────────────────────────────┼─────────────────┤\n",
              "│ dense_1 (<span style=\"color: #0087ff; text-decoration-color: #0087ff\">Dense</span>)                      │ (<span style=\"color: #00af00; text-decoration-color: #00af00\">1</span>, <span style=\"color: #00af00; text-decoration-color: #00af00\">1</span>)                      │              <span style=\"color: #00af00; text-decoration-color: #00af00\">65</span> │\n",
              "└──────────────────────────────────────┴─────────────────────────────┴─────────────────┘\n",
              "</pre>\n"
            ]
          },
          "metadata": {}
        },
        {
          "output_type": "display_data",
          "data": {
            "text/plain": [
              "\u001b[1m Total params: \u001b[0m\u001b[38;5;34m138,369\u001b[0m (540.50 KB)\n"
            ],
            "text/html": [
              "<pre style=\"white-space:pre;overflow-x:auto;line-height:normal;font-family:Menlo,'DejaVu Sans Mono',consolas,'Courier New',monospace\"><span style=\"font-weight: bold\"> Total params: </span><span style=\"color: #00af00; text-decoration-color: #00af00\">138,369</span> (540.50 KB)\n",
              "</pre>\n"
            ]
          },
          "metadata": {}
        },
        {
          "output_type": "display_data",
          "data": {
            "text/plain": [
              "\u001b[1m Trainable params: \u001b[0m\u001b[38;5;34m138,369\u001b[0m (540.50 KB)\n"
            ],
            "text/html": [
              "<pre style=\"white-space:pre;overflow-x:auto;line-height:normal;font-family:Menlo,'DejaVu Sans Mono',consolas,'Courier New',monospace\"><span style=\"font-weight: bold\"> Trainable params: </span><span style=\"color: #00af00; text-decoration-color: #00af00\">138,369</span> (540.50 KB)\n",
              "</pre>\n"
            ]
          },
          "metadata": {}
        },
        {
          "output_type": "display_data",
          "data": {
            "text/plain": [
              "\u001b[1m Non-trainable params: \u001b[0m\u001b[38;5;34m0\u001b[0m (0.00 B)\n"
            ],
            "text/html": [
              "<pre style=\"white-space:pre;overflow-x:auto;line-height:normal;font-family:Menlo,'DejaVu Sans Mono',consolas,'Courier New',monospace\"><span style=\"font-weight: bold\"> Non-trainable params: </span><span style=\"color: #00af00; text-decoration-color: #00af00\">0</span> (0.00 B)\n",
              "</pre>\n"
            ]
          },
          "metadata": {}
        }
      ]
    },
    {
      "cell_type": "code",
      "source": [
        "history = model.fit(train_dataset, epochs=10,\n",
        "                    validation_data=test_dataset,\n",
        "                    validation_steps=30)"
      ],
      "metadata": {
        "colab": {
          "base_uri": "https://localhost:8080/"
        },
        "id": "i23i-l6Zwf-W",
        "outputId": "a419206f-3ba0-4876-c924-ac092c967b42"
      },
      "execution_count": null,
      "outputs": [
        {
          "output_type": "stream",
          "name": "stdout",
          "text": [
            "Epoch 1/10\n",
            "\u001b[1m137/391\u001b[0m \u001b[32m━━━━━━━\u001b[0m\u001b[37m━━━━━━━━━━━━━\u001b[0m \u001b[1m8:03\u001b[0m 2s/step - accuracy: 0.5072 - loss: 0.6929"
          ]
        }
      ]
    },
    {
      "cell_type": "code",
      "source": [
        "test_loss, test_acc = model.evaluate(test_dataset)\n",
        "\n",
        "print('Test Loss:', test_loss)\n",
        "print('Test Accuracy:', test_acc)"
      ],
      "metadata": {
        "id": "sM49ZkwHwgim"
      },
      "execution_count": null,
      "outputs": []
    },
    {
      "cell_type": "code",
      "source": [
        "plt.figure(figsize=(16, 8))\n",
        "plt.subplot(1, 2, 1)\n",
        "plot_graphs(history, 'accuracy')\n",
        "plt.ylim(None, 1)\n",
        "plt.subplot(1, 2, 2)\n",
        "plot_graphs(history, 'loss')\n",
        "plt.ylim(0, None)"
      ],
      "metadata": {
        "id": "zr-3pT_UwhLh"
      },
      "execution_count": null,
      "outputs": []
    },
    {
      "cell_type": "code",
      "source": [
        "sample_text = ('The movie was cool. The animation and the graphics '\n",
        "               'were out of this world. I would recommend this movie.')\n",
        "input_text = tf.convert_to_tensor([sample_text])\n",
        "predictions = model.predict(input_text)\n",
        "print(predictions[0])"
      ],
      "metadata": {
        "id": "dPFosw-zwiWZ"
      },
      "execution_count": null,
      "outputs": []
    }
  ],
  "metadata": {
    "colab": {
      "provenance": [],
      "include_colab_link": true
    },
    "kernelspec": {
      "display_name": "Python 3",
      "language": "python",
      "name": "python3"
    },
    "language_info": {
      "name": "python",
      "version": "3.11.9"
    }
  },
  "nbformat": 4,
  "nbformat_minor": 0
}