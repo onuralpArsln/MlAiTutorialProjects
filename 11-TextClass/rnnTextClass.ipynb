{
  "cells": [
    {
      "cell_type": "markdown",
      "metadata": {
        "id": "view-in-github",
        "colab_type": "text"
      },
      "source": [
        "<a href=\"https://colab.research.google.com/github/onuralpArsln/MlAiTutorialProjects/blob/main/11-TextClass/rnnTextClass.ipynb\" target=\"_parent\"><img src=\"https://colab.research.google.com/assets/colab-badge.svg\" alt=\"Open In Colab\"/></a>"
      ]
    },
    {
      "cell_type": "code",
      "execution_count": 1,
      "metadata": {
        "id": "j8v_83GSjalC"
      },
      "outputs": [],
      "source": [
        "import numpy as np\n",
        "\n",
        "import tensorflow_datasets as tfds\n",
        "import tensorflow as tf\n",
        "\n",
        "tfds.disable_progress_bar()"
      ]
    },
    {
      "cell_type": "code",
      "source": [
        "import matplotlib.pyplot as plt\n",
        "\n",
        "\n",
        "def plot_graphs(history, metric):\n",
        "  plt.plot(history.history[metric])\n",
        "  plt.plot(history.history['val_'+metric], '')\n",
        "  plt.xlabel(\"Epochs\")\n",
        "  plt.ylabel(metric)\n",
        "  plt.legend([metric, 'val_'+metric])"
      ],
      "metadata": {
        "id": "fogyAQgul3ck"
      },
      "execution_count": 2,
      "outputs": []
    },
    {
      "cell_type": "code",
      "execution_count": 3,
      "metadata": {
        "id": "gsbTZhUXjalC",
        "outputId": "06a1b144-9d46-419b-f366-2dbf8b3a25b6",
        "colab": {
          "base_uri": "https://localhost:8080/"
        }
      },
      "outputs": [
        {
          "output_type": "stream",
          "name": "stdout",
          "text": [
            "Downloading and preparing dataset 80.23 MiB (download: 80.23 MiB, generated: Unknown size, total: 80.23 MiB) to /root/tensorflow_datasets/imdb_reviews/plain_text/1.0.0...\n",
            "Dataset imdb_reviews downloaded and prepared to /root/tensorflow_datasets/imdb_reviews/plain_text/1.0.0. Subsequent calls will reuse this data.\n"
          ]
        },
        {
          "output_type": "execute_result",
          "data": {
            "text/plain": [
              "(TensorSpec(shape=(), dtype=tf.string, name=None),\n",
              " TensorSpec(shape=(), dtype=tf.int64, name=None))"
            ]
          },
          "metadata": {},
          "execution_count": 3
        }
      ],
      "source": [
        "dataset, info = tfds.load('imdb_reviews', with_info=True,\n",
        "                          as_supervised=True)\n",
        "train_dataset, test_dataset = dataset['train'], dataset['test']\n",
        "\n",
        "train_dataset.element_spec"
      ]
    },
    {
      "cell_type": "code",
      "execution_count": 4,
      "metadata": {
        "colab": {
          "base_uri": "https://localhost:8080/"
        },
        "id": "kKzajZKTjalB",
        "outputId": "2adcb285-ac5e-44bb-d905-1115e4910c9f"
      },
      "outputs": [
        {
          "output_type": "stream",
          "name": "stdout",
          "text": [
            "text:  b\"This was an absolutely terrible movie. Don't be lured in by Christopher Walken or Michael Ironside. Both are great actors, but this must simply be their worst role in history. Even their great acting could not redeem this movie's ridiculous storyline. This movie is an early nineties US propaganda piece. The most pathetic scenes were those when the Columbian rebels were making their cases for revolutions. Maria Conchita Alonso appeared phony, and her pseudo-love affair with Walken was nothing but a pathetic emotional plug in a movie that was devoid of any real meaning. I am disappointed that there are movies like this, ruining actor's like Christopher Walken's good name. I could barely sit through it.\"\n",
            "label:  0\n"
          ]
        }
      ],
      "source": [
        "for example, label in train_dataset.take(1):\n",
        "  print('text: ', example.numpy())\n",
        "  print('label: ', label.numpy())"
      ]
    },
    {
      "cell_type": "code",
      "execution_count": 5,
      "metadata": {
        "id": "CxluHN5OjalB"
      },
      "outputs": [],
      "source": [
        "BUFFER_SIZE = 10000\n",
        "BATCH_SIZE = 64\n"
      ]
    },
    {
      "cell_type": "code",
      "source": [
        "train_dataset = train_dataset.shuffle(BUFFER_SIZE).batch(BATCH_SIZE).prefetch(tf.data.AUTOTUNE)\n",
        "test_dataset = test_dataset.batch(BATCH_SIZE).prefetch(tf.data.AUTOTUNE)"
      ],
      "metadata": {
        "id": "-YXsjiXgl091"
      },
      "execution_count": 6,
      "outputs": []
    },
    {
      "cell_type": "code",
      "source": [
        "for example, label in train_dataset.take(1):\n",
        "  print('texts: ', example.numpy()[:3])\n",
        "  print()\n",
        "  print('labels: ', label.numpy()[:3])"
      ],
      "metadata": {
        "id": "_mZeY63GmgZ-",
        "outputId": "78ed5153-36c0-46bd-bb22-59196c59909d",
        "colab": {
          "base_uri": "https://localhost:8080/"
        }
      },
      "execution_count": 7,
      "outputs": [
        {
          "output_type": "stream",
          "name": "stdout",
          "text": [
            "texts:  [b'Before I start, I should point out that I know the editor of this film. We\\'ve never met, but we belong to the same fanzine(those things which came before message boards), and we have talked on the phone, so I do have a bias here. Anyway...<br /><br />Somehow, it\\'s ironic how while the \"Rat Pack\" culture of the late 50\\'s and early to mid-60\\'s made a comeback in the mid-90\\'s, this movie, from the son of one of the original Rat Pack, and which was made in a similar fashion, was a flop. Not only that, it was a critical flop; I believe Peter Travers of Rolling Stone was the only one who did not savage this(he gave it a mixed review, as I recall). And while I don\\'t think this is the greatest film in the world, and I am not a fan of the Rat Pack, or \"cocktail,\" culture, I do think this is worth seeing.<br /><br />For one thing, this looks stylish, and moves right along. For another, the core performances are all good. Richard Dreyfus is surprisingly restrained here as the head gangster coming back from a sanitarium, and has a droll edge to him. Jeff Goldblum goes back to the quietly ironic performances he gave in his pre-blockbuster days, like THE BIG CHILL. And while Ellen Barkin is only required to vamp in this movie, she does it entertainingly. Admittedly, it\\'s not a great film; the dialogue is mostly made up of puns, and a lot of them don\\'t work(like the whole \"Zen of Ben\" speech). And Gabriel Byrne and Kyle MacLachlan are awful here. Still, I was entertained, and if you like gangster films, you might be too.'\n",
            " b\"This is one of those movies that you happen across when you're channel surfing on a Saturday afternoon, and you get drawn into it and end up watching the whole thing. I thought that it was well acted and it really made me feel for the characters. Though it's a bit slow moving, focusing more on the relationships between Bonnie and Clyde and their family members, it never got boring. We don't really see too much of all the robberies that they were so legendary for, and instead most of the shootouts take place when they're ambushed by the police. I thought Tracey Needham, who played Bonnie, really did a good job with her character. Going from a nice country girl to a cold-blooded killer is a challenging thing to portray, and I enjoyed the subtlety she brought to the role.<br /><br />Overall, an above average effort, especially considering it was a made for TV movie.\"\n",
            " b\"Escaping the life of being pimped by her father(..and the speakeasy waitressing)who dies in an explosion, Lily Powers(Barbara Stanwyck, who is simply ravishing)sluts her way through the branches inside a bank business in big city Gotham. When a possessive lover murders who was supposed to be his next father-in-law(and Lily's new lover), the sky's the limit for Lily as she has written down her various relationships in a diary and subtlety makes it known the papers will receive it if certain pay doesn't come into her hands. Newly appointed president to the bank, Courtland Trenholm(George Brent), sends Lily to Paris instead of forking over lots of dough, but soon finds himself madly in love after various encounters with her in the City of Love. This makes Lily's mouth water as now she'll have reached the pedestal of success seducing a man of wealth and prestige bring riches her way. Though, circumstances ensue which will bring her to make a decision that threatens her successful way of achieving those riches..Trenholm, now her husband, is being indicted with jail certain and has lost the bank. He needs money Lily now has in her possession or he'll have absolutely nothing.<br /><br />Stanwyck is the whole movie despite that usual Warner Brothers polish. Being set in the pre-code era gives the filmmakers the chance to elaborate on taboo subjects such as a woman using sex to achieve success and how that can lead to tragedy. Good direction from Alfred E Green shows through subtlety hints in different mannerisms and speech through good acting from the seductive performance of Stanwyck how to stage something without actually showing the explicit act. Obviously the film shows that money isn't everything and all that jazz as love comes into the heart of Lily's dead heart. That ending having Lily achieve the miraculous metamorphosis into someone in love didn't ring true to me. She's spent all this time to get to that platform only to fall for a man who was essentially no different than others she had used before him.\"]\n",
            "\n",
            "labels:  [1 1 1]\n"
          ]
        }
      ]
    },
    {
      "cell_type": "markdown",
      "source": [
        "Define the Inference Models\n",
        "During training, the decoder received the correct previous word character as input (teacher forcing). During inference, we don't have the correct next character, so we generate it step by step."
      ],
      "metadata": {
        "id": "xcLE19YppU_a"
      }
    },
    {
      "cell_type": "code",
      "source": [
        "VOCAB_SIZE = 1000\n",
        "encoder = tf.keras.layers.TextVectorization(\n",
        "    max_tokens=VOCAB_SIZE)\n",
        "encoder.adapt(train_dataset.map(lambda text, label: text))"
      ],
      "metadata": {
        "id": "nE6A1SZIpZpS"
      },
      "execution_count": 8,
      "outputs": []
    },
    {
      "cell_type": "markdown",
      "source": [
        " Define a Function for Decoding\n",
        "Now, let's create a function to predict a word from a given SHA-256 hash."
      ],
      "metadata": {
        "id": "mpL5tmAopcDE"
      }
    },
    {
      "cell_type": "code",
      "source": [
        "vocab = np.array(encoder.get_vocabulary())\n",
        "vocab[:20]"
      ],
      "metadata": {
        "id": "JXp7yG8ppVzb",
        "outputId": "b5f00024-f08e-40c3-e8f6-e5cdffc09df6",
        "colab": {
          "base_uri": "https://localhost:8080/"
        }
      },
      "execution_count": 9,
      "outputs": [
        {
          "output_type": "execute_result",
          "data": {
            "text/plain": [
              "array(['', '[UNK]', 'the', 'and', 'a', 'of', 'to', 'is', 'in', 'it', 'i',\n",
              "       'this', 'that', 'br', 'was', 'as', 'for', 'with', 'movie', 'but'],\n",
              "      dtype='<U14')"
            ]
          },
          "metadata": {},
          "execution_count": 9
        }
      ]
    },
    {
      "cell_type": "markdown",
      "source": [
        "model"
      ],
      "metadata": {
        "id": "W2gnOMSRpeVo"
      }
    },
    {
      "cell_type": "code",
      "source": [
        "encoded_example = encoder(example)[:3].numpy()\n",
        "encoded_example"
      ],
      "metadata": {
        "id": "EYUM0yZWpfFd",
        "outputId": "6aebd146-8ed0-4b80-ea2c-584cf04e6ebc",
        "colab": {
          "base_uri": "https://localhost:8080/"
        }
      },
      "execution_count": 10,
      "outputs": [
        {
          "output_type": "execute_result",
          "data": {
            "text/plain": [
              "array([[156,  10, 369, ...,   0,   0,   0],\n",
              "       [ 11,   7,  29, ...,   0,   0,   0],\n",
              "       [  1,   2, 119, ...,   0,   0,   0]])"
            ]
          },
          "metadata": {},
          "execution_count": 10
        }
      ]
    },
    {
      "cell_type": "code",
      "source": [
        "for n in range(3):\n",
        "  print(\"Original: \", example[n].numpy())\n",
        "  print(\"Round-trip: \", \" \".join(vocab[encoded_example[n]]))\n",
        "  print()"
      ],
      "metadata": {
        "id": "MpE8QH71wVJ5",
        "outputId": "32637ac8-2e51-4ecb-827b-e0c754401484",
        "colab": {
          "base_uri": "https://localhost:8080/"
        }
      },
      "execution_count": 11,
      "outputs": [
        {
          "output_type": "stream",
          "name": "stdout",
          "text": [
            "Original:  b'Before I start, I should point out that I know the editor of this film. We\\'ve never met, but we belong to the same fanzine(those things which came before message boards), and we have talked on the phone, so I do have a bias here. Anyway...<br /><br />Somehow, it\\'s ironic how while the \"Rat Pack\" culture of the late 50\\'s and early to mid-60\\'s made a comeback in the mid-90\\'s, this movie, from the son of one of the original Rat Pack, and which was made in a similar fashion, was a flop. Not only that, it was a critical flop; I believe Peter Travers of Rolling Stone was the only one who did not savage this(he gave it a mixed review, as I recall). And while I don\\'t think this is the greatest film in the world, and I am not a fan of the Rat Pack, or \"cocktail,\" culture, I do think this is worth seeing.<br /><br />For one thing, this looks stylish, and moves right along. For another, the core performances are all good. Richard Dreyfus is surprisingly restrained here as the head gangster coming back from a sanitarium, and has a droll edge to him. Jeff Goldblum goes back to the quietly ironic performances he gave in his pre-blockbuster days, like THE BIG CHILL. And while Ellen Barkin is only required to vamp in this movie, she does it entertainingly. Admittedly, it\\'s not a great film; the dialogue is mostly made up of puns, and a lot of them don\\'t work(like the whole \"Zen of Ben\" speech). And Gabriel Byrne and Kyle MacLachlan are awful here. Still, I was entertained, and if you like gangster films, you might be too.'\n",
            "Round-trip:  before i start i should point out that i know the [UNK] of this film [UNK] never [UNK] but we [UNK] to the same [UNK] things which came before message [UNK] and we have [UNK] on the [UNK] so i do have a [UNK] here [UNK] br somehow its [UNK] how while the [UNK] [UNK] [UNK] of the late [UNK] and early to [UNK] made a [UNK] in the [UNK] this movie from the son of one of the original [UNK] [UNK] and which was made in a similar [UNK] was a [UNK] not only that it was a [UNK] [UNK] i believe peter [UNK] of [UNK] [UNK] was the only one who did not [UNK] [UNK] gave it a [UNK] review as i [UNK] and while i dont think this is the greatest film in the world and i am not a fan of the [UNK] [UNK] or [UNK] [UNK] i do think this is worth [UNK] br for one thing this looks [UNK] and [UNK] right along for another the [UNK] performances are all good richard [UNK] is [UNK] [UNK] here as the head [UNK] coming back from a [UNK] and has a [UNK] [UNK] to him [UNK] [UNK] goes back to the [UNK] [UNK] performances he gave in his [UNK] days like the big [UNK] and while [UNK] [UNK] is only [UNK] to [UNK] in this movie she does it [UNK] [UNK] its not a great film the dialogue is mostly made up of [UNK] and a lot of them dont [UNK] the whole [UNK] of [UNK] [UNK] and [UNK] [UNK] and [UNK] [UNK] are awful here still i was [UNK] and if you like [UNK] films you might be too                                                                                                                                                                                                                                                                                                                                                                                                                                                                                                                                                                                                                      \n",
            "\n",
            "Original:  b\"This is one of those movies that you happen across when you're channel surfing on a Saturday afternoon, and you get drawn into it and end up watching the whole thing. I thought that it was well acted and it really made me feel for the characters. Though it's a bit slow moving, focusing more on the relationships between Bonnie and Clyde and their family members, it never got boring. We don't really see too much of all the robberies that they were so legendary for, and instead most of the shootouts take place when they're ambushed by the police. I thought Tracey Needham, who played Bonnie, really did a good job with her character. Going from a nice country girl to a cold-blooded killer is a challenging thing to portray, and I enjoyed the subtlety she brought to the role.<br /><br />Overall, an above average effort, especially considering it was a made for TV movie.\"\n",
            "Round-trip:  this is one of those movies that you happen across when youre [UNK] [UNK] on a [UNK] [UNK] and you get [UNK] into it and end up watching the whole thing i thought that it was well [UNK] and it really made me feel for the characters though its a bit slow moving [UNK] more on the [UNK] between [UNK] and [UNK] and their family [UNK] it never got boring we dont really see too much of all the [UNK] that they were so [UNK] for and instead most of the [UNK] take place when theyre [UNK] by the police i thought [UNK] [UNK] who played [UNK] really did a good job with her character going from a nice country girl to a [UNK] killer is a [UNK] thing to [UNK] and i enjoyed the [UNK] she brought to the [UNK] br overall an above average effort especially [UNK] it was a made for tv movie                                                                                                                                                                                                                                                                                                                                                                                                                                                                                                                                                                                                                                                                                                                                                      \n",
            "\n",
            "Original:  b\"Escaping the life of being pimped by her father(..and the speakeasy waitressing)who dies in an explosion, Lily Powers(Barbara Stanwyck, who is simply ravishing)sluts her way through the branches inside a bank business in big city Gotham. When a possessive lover murders who was supposed to be his next father-in-law(and Lily's new lover), the sky's the limit for Lily as she has written down her various relationships in a diary and subtlety makes it known the papers will receive it if certain pay doesn't come into her hands. Newly appointed president to the bank, Courtland Trenholm(George Brent), sends Lily to Paris instead of forking over lots of dough, but soon finds himself madly in love after various encounters with her in the City of Love. This makes Lily's mouth water as now she'll have reached the pedestal of success seducing a man of wealth and prestige bring riches her way. Though, circumstances ensue which will bring her to make a decision that threatens her successful way of achieving those riches..Trenholm, now her husband, is being indicted with jail certain and has lost the bank. He needs money Lily now has in her possession or he'll have absolutely nothing.<br /><br />Stanwyck is the whole movie despite that usual Warner Brothers polish. Being set in the pre-code era gives the filmmakers the chance to elaborate on taboo subjects such as a woman using sex to achieve success and how that can lead to tragedy. Good direction from Alfred E Green shows through subtlety hints in different mannerisms and speech through good acting from the seductive performance of Stanwyck how to stage something without actually showing the explicit act. Obviously the film shows that money isn't everything and all that jazz as love comes into the heart of Lily's dead heart. That ending having Lily achieve the miraculous metamorphosis into someone in love didn't ring true to me. She's spent all this time to get to that platform only to fall for a man who was essentially no different than others she had used before him.\"\n",
            "Round-trip:  [UNK] the life of being [UNK] by her [UNK] the [UNK] [UNK] [UNK] in an [UNK] [UNK] [UNK] [UNK] who is simply [UNK] her way through the [UNK] inside a [UNK] business in big city [UNK] when a [UNK] [UNK] [UNK] who was supposed to be his next [UNK] [UNK] new [UNK] the [UNK] the [UNK] for [UNK] as she has written down her various [UNK] in a [UNK] and [UNK] makes it known the [UNK] will [UNK] it if certain pay doesnt come into her hands [UNK] [UNK] [UNK] to the [UNK] [UNK] [UNK] [UNK] [UNK] [UNK] to [UNK] instead of [UNK] over lots of [UNK] but soon finds himself [UNK] in love after various [UNK] with her in the city of love this makes [UNK] [UNK] [UNK] as now [UNK] have [UNK] the [UNK] of [UNK] [UNK] a man of [UNK] and [UNK] bring [UNK] her way though [UNK] [UNK] which will bring her to make a [UNK] that [UNK] her [UNK] way of [UNK] those [UNK] now her husband is being [UNK] with [UNK] certain and has lost the [UNK] he needs money [UNK] now has in her [UNK] or hell have absolutely [UNK] br [UNK] is the whole movie despite that usual [UNK] brothers [UNK] being set in the [UNK] [UNK] gives the filmmakers the chance to [UNK] on [UNK] [UNK] such as a woman using sex to [UNK] [UNK] and how that can lead to [UNK] good direction from [UNK] [UNK] [UNK] shows through [UNK] [UNK] in different [UNK] and [UNK] through good acting from the [UNK] performance of [UNK] how to stage something without actually showing the [UNK] act obviously the film shows that money isnt everything and all that [UNK] as love comes into the heart of [UNK] dead heart that ending having [UNK] [UNK] the [UNK] [UNK] into someone in love didnt [UNK] true to me shes [UNK] all this time to get to that [UNK] only to fall for a man who was [UNK] no different than others she had used before him                                                                                                                                                                                                                                                                                                                                                                                                                                                                                                                                                            \n",
            "\n"
          ]
        }
      ]
    },
    {
      "cell_type": "code",
      "source": [
        "model = tf.keras.Sequential([\n",
        "    encoder,\n",
        "    tf.keras.layers.Embedding(\n",
        "        input_dim=len(encoder.get_vocabulary()),\n",
        "        output_dim=64,\n",
        "        # Use masking to handle the variable sequence lengths\n",
        "        mask_zero=True),\n",
        "    tf.keras.layers.Bidirectional(tf.keras.layers.LSTM(64)),\n",
        "    tf.keras.layers.Dense(64, activation='relu'),\n",
        "    tf.keras.layers.Dense(1)\n",
        "])"
      ],
      "metadata": {
        "id": "2aX0P8yQwY7k"
      },
      "execution_count": 12,
      "outputs": []
    },
    {
      "cell_type": "code",
      "source": [
        "print([layer.supports_masking for layer in model.layers])"
      ],
      "metadata": {
        "id": "ICgKvhNIwbQx",
        "outputId": "45783ccc-ad9d-48ad-a5b6-7469ef428996",
        "colab": {
          "base_uri": "https://localhost:8080/"
        }
      },
      "execution_count": 13,
      "outputs": [
        {
          "output_type": "stream",
          "name": "stdout",
          "text": [
            "[False, True, True, True, True]\n"
          ]
        }
      ]
    },
    {
      "cell_type": "code",
      "source": [
        "# predict on a sample text without padding.\n",
        "\n",
        "sample_text = ('The movie was cool. The animation and the graphics '\n",
        "               'were out of this world. I would recommend this movie.')\n",
        "input_text = tf.convert_to_tensor([sample_text])\n",
        "predictions = model.predict(input_text)\n",
        "print(predictions[0])"
      ],
      "metadata": {
        "id": "HT_H9uQtwdOI",
        "outputId": "0d1b9809-cc76-477d-aabb-42a908eef042",
        "colab": {
          "base_uri": "https://localhost:8080/",
          "height": 211
        }
      },
      "execution_count": 1,
      "outputs": [
        {
          "output_type": "error",
          "ename": "NameError",
          "evalue": "name 'tf' is not defined",
          "traceback": [
            "\u001b[0;31m---------------------------------------------------------------------------\u001b[0m",
            "\u001b[0;31mNameError\u001b[0m                                 Traceback (most recent call last)",
            "\u001b[0;32m<ipython-input-1-6a412e5d9543>\u001b[0m in \u001b[0;36m<cell line: 0>\u001b[0;34m()\u001b[0m\n\u001b[1;32m      3\u001b[0m sample_text = ('The movie was cool. The animation and the graphics '\n\u001b[1;32m      4\u001b[0m                'were out of this world. I would recommend this movie.')\n\u001b[0;32m----> 5\u001b[0;31m \u001b[0minput_text\u001b[0m \u001b[0;34m=\u001b[0m \u001b[0mtf\u001b[0m\u001b[0;34m.\u001b[0m\u001b[0mconvert_to_tensor\u001b[0m\u001b[0;34m(\u001b[0m\u001b[0;34m[\u001b[0m\u001b[0msample_text\u001b[0m\u001b[0;34m]\u001b[0m\u001b[0;34m)\u001b[0m\u001b[0;34m\u001b[0m\u001b[0;34m\u001b[0m\u001b[0m\n\u001b[0m\u001b[1;32m      6\u001b[0m \u001b[0mpredictions\u001b[0m \u001b[0;34m=\u001b[0m \u001b[0mmodel\u001b[0m\u001b[0;34m.\u001b[0m\u001b[0mpredict\u001b[0m\u001b[0;34m(\u001b[0m\u001b[0minput_text\u001b[0m\u001b[0;34m)\u001b[0m\u001b[0;34m\u001b[0m\u001b[0;34m\u001b[0m\u001b[0m\n\u001b[1;32m      7\u001b[0m \u001b[0mprint\u001b[0m\u001b[0;34m(\u001b[0m\u001b[0mpredictions\u001b[0m\u001b[0;34m[\u001b[0m\u001b[0;36m0\u001b[0m\u001b[0;34m]\u001b[0m\u001b[0;34m)\u001b[0m\u001b[0;34m\u001b[0m\u001b[0;34m\u001b[0m\u001b[0m\n",
            "\u001b[0;31mNameError\u001b[0m: name 'tf' is not defined"
          ]
        }
      ]
    },
    {
      "cell_type": "code",
      "source": [
        "sample_text = ('The movie was bad. The animation and the graphics are poor '\n",
        "               ' I would not recommend this movie.')\n",
        "\n",
        "# Convert to tensor first\n",
        "input_text = tf.convert_to_tensor([sample_text])\n",
        "predictions = model.predict(input_text)\n",
        "print(predictions)"
      ],
      "metadata": {
        "id": "SbInD1sx15v-"
      },
      "execution_count": null,
      "outputs": []
    },
    {
      "cell_type": "code",
      "source": [
        "# predict on a sample text with padding\n",
        "\n",
        "padding = \"the \" * 2000\n",
        "predictions = model.predict(np.array([sample_text, padding]))\n",
        "print(predictions[0])"
      ],
      "metadata": {
        "id": "qs50Osr6weGB"
      },
      "execution_count": null,
      "outputs": []
    },
    {
      "cell_type": "code",
      "source": [
        "model.compile(loss=tf.keras.losses.BinaryCrossentropy(from_logits=True),\n",
        "              optimizer=tf.keras.optimizers.Adam(1e-4),\n",
        "              metrics=['accuracy'])"
      ],
      "metadata": {
        "id": "Dcqjq43BwfQX"
      },
      "execution_count": null,
      "outputs": []
    },
    {
      "cell_type": "code",
      "source": [
        "history = model.fit(train_dataset, epochs=10,\n",
        "                    validation_data=test_dataset,\n",
        "                    validation_steps=30)"
      ],
      "metadata": {
        "id": "i23i-l6Zwf-W"
      },
      "execution_count": null,
      "outputs": []
    },
    {
      "cell_type": "code",
      "source": [
        "test_loss, test_acc = model.evaluate(test_dataset)\n",
        "\n",
        "print('Test Loss:', test_loss)\n",
        "print('Test Accuracy:', test_acc)"
      ],
      "metadata": {
        "id": "sM49ZkwHwgim"
      },
      "execution_count": null,
      "outputs": []
    },
    {
      "cell_type": "code",
      "source": [
        "plt.figure(figsize=(16, 8))\n",
        "plt.subplot(1, 2, 1)\n",
        "plot_graphs(history, 'accuracy')\n",
        "plt.ylim(None, 1)\n",
        "plt.subplot(1, 2, 2)\n",
        "plot_graphs(history, 'loss')\n",
        "plt.ylim(0, None)"
      ],
      "metadata": {
        "id": "zr-3pT_UwhLh"
      },
      "execution_count": null,
      "outputs": []
    },
    {
      "cell_type": "code",
      "source": [
        "sample_text = ('The movie was cool. The animation and the graphics '\n",
        "               'were out of this world. I would recommend this movie.')\n",
        "predictions = model.predict(np.array([sample_text]))"
      ],
      "metadata": {
        "id": "dPFosw-zwiWZ"
      },
      "execution_count": null,
      "outputs": []
    },
    {
      "cell_type": "markdown",
      "source": [],
      "metadata": {
        "id": "KVyK8ljSwUvE"
      }
    }
  ],
  "metadata": {
    "colab": {
      "provenance": [],
      "include_colab_link": true
    },
    "kernelspec": {
      "display_name": "Python 3",
      "language": "python",
      "name": "python3"
    },
    "language_info": {
      "name": "python",
      "version": "3.11.9"
    }
  },
  "nbformat": 4,
  "nbformat_minor": 0
}