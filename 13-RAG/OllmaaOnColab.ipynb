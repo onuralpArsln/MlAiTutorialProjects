{
  "nbformat": 4,
  "nbformat_minor": 0,
  "metadata": {
    "colab": {
      "provenance": [],
      "authorship_tag": "ABX9TyMgtebRPOcFJH4XDmQdhXeZ",
      "include_colab_link": true
    },
    "kernelspec": {
      "name": "python3",
      "display_name": "Python 3"
    },
    "language_info": {
      "name": "python"
    }
  },
  "cells": [
    {
      "cell_type": "markdown",
      "metadata": {
        "id": "view-in-github",
        "colab_type": "text"
      },
      "source": [
        "<a href=\"https://colab.research.google.com/github/onuralpArsln/MlAiTutorialProjects/blob/main/13-RAG/OllmaaOnColab.ipynb\" target=\"_parent\"><img src=\"https://colab.research.google.com/assets/colab-badge.svg\" alt=\"Open In Colab\"/></a>"
      ]
    },
    {
      "cell_type": "markdown",
      "source": [
        "Bu biraz hile, amacımız ollamaayı indirip termianlde çalıştırmak. Bunun için bir terminal  arayüzü edineceğiz. Bunu T4 GPU ile yap öneri.\n",
        "\n",
        "Aşağıdaki koddan terminal çalıştır ve soınrasında biraz bekle az delaylı geliyor.\n",
        "\n",
        "Terminalde ollama sistemini çalıştır\n",
        "\n",
        "curl https://ollama.ai/install.sh | sh\n",
        "\n",
        "Alttakiniki yazınca bir süre sonra duracak\n",
        "ollama serve &\n",
        "\n",
        "Durunca ir modeli indir ve kullanmaya başla\n",
        "\n",
        "ollama run llama3.2:1b\n",
        "\n",
        "sana send message diyecek yaz.\n",
        "\n",
        "\n",
        "Altta bunu streoidli versiyonu var\n",
        "\n",
        "xtermde\n",
        "curl https://ollama.ai/install.sh | sh\n",
        "ollama serve & ollama pull mistral\n",
        "patlatarak direkt tekte indir kur aç mümkün\n",
        "\n",
        "terminal dışında kullanmak için termianlden aşağı scroll at\n",
        "\n"
      ],
      "metadata": {
        "id": "7U2u2pkJ-NAp"
      }
    },
    {
      "cell_type": "code",
      "source": [
        "#Install and run xterm\n",
        "!pip install colab-xterm\n",
        "%load_ext colabxterm\n",
        "%xterm"
      ],
      "metadata": {
        "id": "zlw0qCjw8ZFk"
      },
      "execution_count": null,
      "outputs": []
    }
  ]
}