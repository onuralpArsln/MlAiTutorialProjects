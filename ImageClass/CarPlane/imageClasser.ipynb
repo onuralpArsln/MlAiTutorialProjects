{
  "cells": [
    {
      "cell_type": "markdown",
      "metadata": {
        "id": "view-in-github",
        "colab_type": "text"
      },
      "source": [
        "<a href=\"https://colab.research.google.com/github/onuralpArsln/MlAiTutorialProjects/blob/main/ImageClass/CarPlane/imageClasser.ipynb\" target=\"_parent\"><img src=\"https://colab.research.google.com/assets/colab-badge.svg\" alt=\"Open In Colab\"/></a>"
      ]
    },
    {
      "cell_type": "markdown",
      "source": [],
      "metadata": {
        "id": "WBm_IkQ2qeF2"
      }
    },
    {
      "cell_type": "markdown",
      "source": [
        "# Prep\n",
        "\n",
        "Eğer colab ile açtıysan mevcut colab workspaceine data kalsöürnü çekmen lazım neyseki bu çok kolay sadece ağaıdaki komutları kullan"
      ],
      "metadata": {
        "id": "6gPIdEQQlw0l"
      }
    },
    {
      "cell_type": "code",
      "source": [
        "!wget https://github.com/onuralpArsln/MlAiTutorialProjects/raw/main/ImageClass/CarPlane/data.zip"
      ],
      "metadata": {
        "id": "nfQaWm4vqTAD",
        "outputId": "6a0657e7-1e41-4863-ce6b-fda9705fd06b",
        "colab": {
          "base_uri": "https://localhost:8080/"
        }
      },
      "execution_count": 5,
      "outputs": [
        {
          "output_type": "stream",
          "name": "stdout",
          "text": [
            "--2024-07-16 13:11:33--  https://github.com/onuralpArsln/MlAiTutorialProjects/raw/main/ImageClass/CarPlane/data.zip\n",
            "Resolving github.com (github.com)... 140.82.112.3\n",
            "Connecting to github.com (github.com)|140.82.112.3|:443... connected.\n",
            "HTTP request sent, awaiting response... 302 Found\n",
            "Location: https://raw.githubusercontent.com/onuralpArsln/MlAiTutorialProjects/main/ImageClass/CarPlane/data.zip [following]\n",
            "--2024-07-16 13:11:34--  https://raw.githubusercontent.com/onuralpArsln/MlAiTutorialProjects/main/ImageClass/CarPlane/data.zip\n",
            "Resolving raw.githubusercontent.com (raw.githubusercontent.com)... 185.199.108.133, 185.199.109.133, 185.199.110.133, ...\n",
            "Connecting to raw.githubusercontent.com (raw.githubusercontent.com)|185.199.108.133|:443... connected.\n",
            "HTTP request sent, awaiting response... 200 OK\n",
            "Length: 4850435 (4.6M) [application/zip]\n",
            "Saving to: ‘data.zip.1’\n",
            "\n",
            "data.zip.1          100%[===================>]   4.62M  --.-KB/s    in 0.03s   \n",
            "\n",
            "2024-07-16 13:11:34 (177 MB/s) - ‘data.zip.1’ saved [4850435/4850435]\n",
            "\n"
          ]
        }
      ]
    },
    {
      "cell_type": "code",
      "source": [
        "!unzip data.zip"
      ],
      "metadata": {
        "id": "-ZBDXh0In4Ps",
        "outputId": "5fc025b0-8169-4c8e-fb4a-5a1a7ca63c8d",
        "colab": {
          "base_uri": "https://localhost:8080/"
        }
      },
      "execution_count": 6,
      "outputs": [
        {
          "output_type": "stream",
          "name": "stdout",
          "text": [
            "Archive:  data.zip\n",
            "replace data/test/cars/1.jpg? [y]es, [n]o, [A]ll, [N]one, [r]ename: n\n",
            "replace data/test/cars/10.jpg? [y]es, [n]o, [A]ll, [N]one, [r]ename: A N\n",
            "  inflating: data/test/cars/10.jpg   \n",
            "  inflating: data/test/cars/11.jpg   \n",
            "  inflating: data/test/cars/12.jpg   \n",
            "  inflating: data/test/cars/13.jpg   \n",
            "  inflating: data/test/cars/14.jpg   \n",
            "  inflating: data/test/cars/15.jpg   \n",
            "  inflating: data/test/cars/16.jpg   \n",
            "  inflating: data/test/cars/17.jpg   \n",
            "  inflating: data/test/cars/18.jpg   \n",
            "  inflating: data/test/cars/19.jpg   \n",
            "  inflating: data/test/cars/2.jpg    \n",
            "  inflating: data/test/cars/20.jpg   \n",
            "  inflating: data/test/cars/21.jpg   \n",
            "  inflating: data/test/cars/22.jpg   \n",
            "  inflating: data/test/cars/23.jpg   \n",
            "  inflating: data/test/cars/24.jpg   \n",
            "  inflating: data/test/cars/25.jpg   \n",
            "  inflating: data/test/cars/26.jpg   \n",
            "  inflating: data/test/cars/27.jpg   \n",
            "  inflating: data/test/cars/28.jpg   \n",
            "  inflating: data/test/cars/29.jpg   \n",
            "  inflating: data/test/cars/3.jpg    \n",
            "  inflating: data/test/cars/30.jpg   \n",
            "  inflating: data/test/cars/31.jpg   \n",
            "  inflating: data/test/cars/32.jpg   \n",
            "  inflating: data/test/cars/33.jpg   \n",
            "  inflating: data/test/cars/34.jpg   \n",
            "  inflating: data/test/cars/35.jpg   \n",
            "  inflating: data/test/cars/36.jpg   \n",
            "  inflating: data/test/cars/37.jpg   \n",
            "  inflating: data/test/cars/38.jpg   \n",
            "  inflating: data/test/cars/39.jpg   \n",
            "  inflating: data/test/cars/4.jpg    \n",
            "  inflating: data/test/cars/40.jpg   \n",
            "  inflating: data/test/cars/41.jpg   \n",
            "  inflating: data/test/cars/42.jpg   \n",
            "  inflating: data/test/cars/43.jpg   \n",
            "  inflating: data/test/cars/44.jpg   \n",
            "  inflating: data/test/cars/45.jpg   \n",
            "  inflating: data/test/cars/46.jpg   \n",
            "  inflating: data/test/cars/47.jpg   \n",
            "  inflating: data/test/cars/48.jpg   \n",
            "  inflating: data/test/cars/49.jpg   \n",
            "  inflating: data/test/cars/5.jpg    \n",
            "  inflating: data/test/cars/50.jpg   \n",
            "  inflating: data/test/cars/6.jpg    \n",
            "  inflating: data/test/cars/7.jpg    \n",
            "  inflating: data/test/cars/8.jpg    \n",
            "  inflating: data/test/cars/9.jpg    \n",
            "  inflating: data/test/planes/1.jpg  \n",
            "  inflating: data/test/planes/10.jpg  \n",
            "  inflating: data/test/planes/11.jpg  \n",
            "  inflating: data/test/planes/12.jpg  \n",
            "  inflating: data/test/planes/13.jpg  \n",
            "  inflating: data/test/planes/14.jpg  \n",
            "  inflating: data/test/planes/15.jpg  \n",
            "  inflating: data/test/planes/16.jpg  \n",
            "  inflating: data/test/planes/17.jpg  \n",
            "  inflating: data/test/planes/18.jpg  \n",
            "  inflating: data/test/planes/19.jpg  \n",
            "  inflating: data/test/planes/2.jpg  \n",
            "  inflating: data/test/planes/20.jpg  \n",
            "  inflating: data/test/planes/21.jpg  \n",
            "  inflating: data/test/planes/22.jpg  \n",
            "  inflating: data/test/planes/23.jpg  \n",
            "  inflating: data/test/planes/24.jpg  \n",
            "  inflating: data/test/planes/25.jpg  \n",
            "  inflating: data/test/planes/26.jpg  \n",
            "  inflating: data/test/planes/27.jpg  \n",
            "  inflating: data/test/planes/28.jpg  \n",
            "  inflating: data/test/planes/29.jpg  \n",
            "  inflating: data/test/planes/3.jpg  \n",
            "  inflating: data/test/planes/30.jpg  \n",
            "  inflating: data/test/planes/31.jpg  \n",
            "  inflating: data/test/planes/32.jpg  \n",
            "  inflating: data/test/planes/33.jpg  \n",
            "  inflating: data/test/planes/34.jpg  \n",
            "  inflating: data/test/planes/35.jpg  \n",
            "  inflating: data/test/planes/36.jpg  \n",
            "  inflating: data/test/planes/37.jpg  \n",
            "  inflating: data/test/planes/38.jpg  \n",
            "  inflating: data/test/planes/39.jpg  \n",
            "  inflating: data/test/planes/4.jpg  \n",
            "  inflating: data/test/planes/40.jpg  \n",
            "  inflating: data/test/planes/41.jpg  \n",
            "  inflating: data/test/planes/42.jpg  \n",
            "  inflating: data/test/planes/43.jpg  \n",
            "  inflating: data/test/planes/44.jpg  \n",
            "  inflating: data/test/planes/45.jpg  \n",
            "  inflating: data/test/planes/46.jpg  \n",
            "  inflating: data/test/planes/47.jpg  \n",
            "  inflating: data/test/planes/48.jpg  \n",
            "  inflating: data/test/planes/49.jpg  \n",
            "  inflating: data/test/planes/5.jpg  \n",
            "  inflating: data/test/planes/50.jpg  \n",
            "  inflating: data/test/planes/6.jpg  \n",
            "  inflating: data/test/planes/7.jpg  \n",
            "  inflating: data/test/planes/8.jpg  \n",
            "  inflating: data/test/planes/9.jpg  \n",
            "  inflating: data/train/cars/1.jpg   \n",
            "  inflating: data/train/cars/10.jpg  \n",
            "  inflating: data/train/cars/100.jpg  \n",
            "  inflating: data/train/cars/101.jpg  \n",
            "  inflating: data/train/cars/102.jpg  \n",
            "  inflating: data/train/cars/103.jpg  \n",
            "  inflating: data/train/cars/104.jpg  \n",
            "  inflating: data/train/cars/105.jpg  \n",
            "  inflating: data/train/cars/106.jpg  \n",
            "  inflating: data/train/cars/107.jpg  \n",
            "  inflating: data/train/cars/108.jpg  \n",
            "  inflating: data/train/cars/109.jpg  \n",
            "  inflating: data/train/cars/11.jpg  \n",
            "  inflating: data/train/cars/110.jpg  \n",
            "  inflating: data/train/cars/111.jpg  \n",
            "  inflating: data/train/cars/112.jpg  \n",
            "  inflating: data/train/cars/113.jpg  \n",
            "  inflating: data/train/cars/114.jpg  \n",
            "  inflating: data/train/cars/115.jpg  \n",
            "  inflating: data/train/cars/116.jpg  \n",
            "  inflating: data/train/cars/117.jpg  \n",
            "  inflating: data/train/cars/118.jpg  \n",
            "  inflating: data/train/cars/119.jpg  \n",
            "  inflating: data/train/cars/12.jpg  \n",
            "  inflating: data/train/cars/120.jpg  \n",
            "  inflating: data/train/cars/121.jpg  \n",
            "  inflating: data/train/cars/122.jpg  \n",
            "  inflating: data/train/cars/123.jpg  \n",
            "  inflating: data/train/cars/124.jpg  \n",
            "  inflating: data/train/cars/125.jpg  \n",
            "  inflating: data/train/cars/126.jpg  \n",
            "  inflating: data/train/cars/127.jpg  \n",
            "  inflating: data/train/cars/128.jpg  \n",
            "  inflating: data/train/cars/129.jpg  \n",
            "  inflating: data/train/cars/13.jpg  \n",
            "  inflating: data/train/cars/130.jpg  \n",
            "  inflating: data/train/cars/131.jpg  \n",
            "  inflating: data/train/cars/132.jpg  \n",
            "  inflating: data/train/cars/133.jpg  \n",
            "  inflating: data/train/cars/134.jpg  \n",
            "  inflating: data/train/cars/135.jpg  \n",
            "  inflating: data/train/cars/136.jpg  \n",
            "  inflating: data/train/cars/137.jpg  \n",
            "  inflating: data/train/cars/138.jpg  \n",
            "  inflating: data/train/cars/139.jpg  \n",
            "  inflating: data/train/cars/14.jpg  \n",
            "  inflating: data/train/cars/140.jpg  \n",
            "  inflating: data/train/cars/141.jpg  \n",
            "  inflating: data/train/cars/142.jpg  \n",
            "  inflating: data/train/cars/143.jpg  \n",
            "  inflating: data/train/cars/144.jpg  \n",
            "  inflating: data/train/cars/145.jpg  \n",
            "  inflating: data/train/cars/146.jpg  \n",
            "  inflating: data/train/cars/147.jpg  \n",
            "  inflating: data/train/cars/148.jpg  \n",
            "  inflating: data/train/cars/149.jpg  \n",
            "  inflating: data/train/cars/15.jpg  \n",
            "  inflating: data/train/cars/150.jpg  \n",
            "  inflating: data/train/cars/151.jpg  \n",
            "  inflating: data/train/cars/152.jpg  \n",
            "  inflating: data/train/cars/153.jpg  \n",
            "  inflating: data/train/cars/154.jpg  \n",
            "  inflating: data/train/cars/155.jpg  \n",
            "  inflating: data/train/cars/156.jpg  \n",
            "  inflating: data/train/cars/157.jpg  \n",
            "  inflating: data/train/cars/158.jpg  \n",
            "  inflating: data/train/cars/159.jpg  \n",
            "  inflating: data/train/cars/16.jpg  \n",
            "  inflating: data/train/cars/160.jpg  \n",
            "  inflating: data/train/cars/161.jpg  \n",
            "  inflating: data/train/cars/162.jpg  \n",
            "  inflating: data/train/cars/163.jpg  \n",
            "  inflating: data/train/cars/164.jpg  \n",
            "  inflating: data/train/cars/165.jpg  \n",
            "  inflating: data/train/cars/166.jpg  \n",
            "  inflating: data/train/cars/167.jpg  \n",
            "  inflating: data/train/cars/168.jpg  \n",
            "  inflating: data/train/cars/169.jpg  \n",
            "  inflating: data/train/cars/17.jpg  \n",
            "  inflating: data/train/cars/170.jpg  \n",
            "  inflating: data/train/cars/171.jpg  \n",
            "  inflating: data/train/cars/172.jpg  \n",
            "  inflating: data/train/cars/173.jpg  \n",
            "  inflating: data/train/cars/174.jpg  \n",
            "  inflating: data/train/cars/175.jpg  \n",
            "  inflating: data/train/cars/176.jpg  \n",
            "  inflating: data/train/cars/177.jpg  \n",
            "  inflating: data/train/cars/178.jpg  \n",
            "  inflating: data/train/cars/179.jpg  \n",
            "  inflating: data/train/cars/18.jpg  \n",
            "  inflating: data/train/cars/180.jpg  \n",
            "  inflating: data/train/cars/181.jpg  \n",
            "  inflating: data/train/cars/182.jpg  \n",
            "  inflating: data/train/cars/183.jpg  \n",
            "  inflating: data/train/cars/184.jpg  \n",
            "  inflating: data/train/cars/185.jpg  \n",
            "  inflating: data/train/cars/186.jpg  \n",
            "  inflating: data/train/cars/187.jpg  \n",
            "  inflating: data/train/cars/188.jpg  \n",
            "  inflating: data/train/cars/189.jpg  \n",
            "  inflating: data/train/cars/19.jpg  \n",
            "  inflating: data/train/cars/190.jpg  \n",
            "  inflating: data/train/cars/191.jpg  \n",
            "  inflating: data/train/cars/192.jpg  \n",
            "  inflating: data/train/cars/193.jpg  \n",
            "  inflating: data/train/cars/194.jpg  \n",
            "  inflating: data/train/cars/195.jpg  \n",
            "  inflating: data/train/cars/196.jpg  \n",
            "  inflating: data/train/cars/197.jpg  \n",
            "  inflating: data/train/cars/198.jpg  \n",
            "  inflating: data/train/cars/199.jpg  \n",
            "  inflating: data/train/cars/2.jpg   \n",
            "  inflating: data/train/cars/20.jpg  \n",
            "  inflating: data/train/cars/200.jpg  \n",
            "  inflating: data/train/cars/21.jpg  \n",
            "  inflating: data/train/cars/22.jpg  \n",
            "  inflating: data/train/cars/23.jpg  \n",
            "  inflating: data/train/cars/24.jpg  \n",
            "  inflating: data/train/cars/25.jpg  \n",
            "  inflating: data/train/cars/26.jpg  \n",
            "  inflating: data/train/cars/27.jpg  \n",
            "  inflating: data/train/cars/28.jpg  \n",
            "  inflating: data/train/cars/29.jpg  \n",
            "  inflating: data/train/cars/3.jpg   \n",
            "  inflating: data/train/cars/30.jpg  \n",
            "  inflating: data/train/cars/31.jpg  \n",
            "  inflating: data/train/cars/32.jpg  \n",
            "  inflating: data/train/cars/33.jpg  \n",
            "  inflating: data/train/cars/34.jpg  \n",
            "  inflating: data/train/cars/35.jpg  \n",
            "  inflating: data/train/cars/36.jpg  \n",
            "  inflating: data/train/cars/37.jpg  \n",
            "  inflating: data/train/cars/38.jpg  \n",
            "  inflating: data/train/cars/39.jpg  \n",
            "  inflating: data/train/cars/4.jpg   \n",
            "  inflating: data/train/cars/40.jpg  \n",
            "  inflating: data/train/cars/41.jpg  \n",
            "  inflating: data/train/cars/42.jpg  \n",
            "  inflating: data/train/cars/43.jpg  \n",
            "  inflating: data/train/cars/44.jpg  \n",
            "  inflating: data/train/cars/45.jpg  \n",
            "  inflating: data/train/cars/46.jpg  \n",
            "  inflating: data/train/cars/47.jpg  \n",
            "  inflating: data/train/cars/48.jpg  \n",
            "  inflating: data/train/cars/49.jpg  \n",
            "  inflating: data/train/cars/5.jpg   \n",
            "  inflating: data/train/cars/50.jpg  \n",
            "  inflating: data/train/cars/51.jpg  \n",
            "  inflating: data/train/cars/52.jpg  \n",
            "  inflating: data/train/cars/53.jpg  \n",
            "  inflating: data/train/cars/54.jpg  \n",
            "  inflating: data/train/cars/55.jpg  \n",
            "  inflating: data/train/cars/56.jpg  \n",
            "  inflating: data/train/cars/57.jpg  \n",
            "  inflating: data/train/cars/58.jpg  \n",
            "  inflating: data/train/cars/59.jpg  \n",
            "  inflating: data/train/cars/6.jpg   \n",
            "  inflating: data/train/cars/60.jpg  \n",
            "  inflating: data/train/cars/61.jpg  \n",
            "  inflating: data/train/cars/62.jpg  \n",
            "  inflating: data/train/cars/63.jpg  \n",
            "  inflating: data/train/cars/64.jpg  \n",
            "  inflating: data/train/cars/65.jpg  \n",
            "  inflating: data/train/cars/66.jpg  \n",
            "  inflating: data/train/cars/67.jpg  \n",
            "  inflating: data/train/cars/68.jpg  \n",
            "  inflating: data/train/cars/69.jpg  \n",
            "  inflating: data/train/cars/7.jpg   \n",
            "  inflating: data/train/cars/70.jpg  \n",
            "  inflating: data/train/cars/71.jpg  \n",
            "  inflating: data/train/cars/72.jpg  \n",
            "  inflating: data/train/cars/73.jpg  \n",
            "  inflating: data/train/cars/74.jpg  \n",
            "  inflating: data/train/cars/75.jpg  \n",
            "  inflating: data/train/cars/76.jpg  \n",
            "  inflating: data/train/cars/77.jpg  \n",
            "  inflating: data/train/cars/78.jpg  \n",
            "  inflating: data/train/cars/79.jpg  \n",
            "  inflating: data/train/cars/8.jpg   \n",
            "  inflating: data/train/cars/80.jpg  \n",
            "  inflating: data/train/cars/81.jpg  \n",
            "  inflating: data/train/cars/82.jpg  \n",
            "  inflating: data/train/cars/83.jpg  \n",
            "  inflating: data/train/cars/84.jpg  \n",
            "  inflating: data/train/cars/85.jpg  \n",
            "  inflating: data/train/cars/86.jpg  \n",
            "  inflating: data/train/cars/87.jpg  \n",
            "  inflating: data/train/cars/88.jpg  \n",
            "  inflating: data/train/cars/89.jpg  \n",
            "  inflating: data/train/cars/9.jpg   \n",
            "  inflating: data/train/cars/90.jpg  \n",
            "  inflating: data/train/cars/91.jpg  \n",
            "  inflating: data/train/cars/92.jpg  \n",
            "  inflating: data/train/cars/93.jpg  \n",
            "  inflating: data/train/cars/94.jpg  \n",
            "  inflating: data/train/cars/95.jpg  \n",
            "  inflating: data/train/cars/96.jpg  \n",
            "  inflating: data/train/cars/97.jpg  \n",
            "  inflating: data/train/cars/98.jpg  \n",
            "  inflating: data/train/cars/99.jpg  \n",
            "  inflating: data/train/planes/1.jpg  \n",
            "  inflating: data/train/planes/10.jpg  \n",
            "  inflating: data/train/planes/100.jpg  \n",
            "  inflating: data/train/planes/101.jpg  \n",
            "  inflating: data/train/planes/102.jpg  \n",
            "  inflating: data/train/planes/103.jpg  \n",
            "  inflating: data/train/planes/104.jpg  \n",
            "  inflating: data/train/planes/105.jpg  \n",
            "  inflating: data/train/planes/106.jpg  \n",
            "  inflating: data/train/planes/107.jpg  \n",
            "  inflating: data/train/planes/108.jpg  \n",
            "  inflating: data/train/planes/109.jpg  \n",
            "  inflating: data/train/planes/11.jpg  \n",
            "  inflating: data/train/planes/110.jpg  \n",
            "  inflating: data/train/planes/111.jpg  \n",
            "  inflating: data/train/planes/112.jpg  \n",
            "  inflating: data/train/planes/113.jpg  \n",
            "  inflating: data/train/planes/114.jpg  \n",
            "  inflating: data/train/planes/115.jpg  \n",
            "  inflating: data/train/planes/116.jpg  \n",
            "  inflating: data/train/planes/117.jpg  \n",
            "  inflating: data/train/planes/118.jpg  \n",
            "  inflating: data/train/planes/119.jpg  \n",
            "  inflating: data/train/planes/12.jpg  \n",
            "  inflating: data/train/planes/120.jpg  \n",
            "  inflating: data/train/planes/121.jpg  \n",
            "  inflating: data/train/planes/122.jpg  \n",
            "  inflating: data/train/planes/123.jpg  \n",
            "  inflating: data/train/planes/124.jpg  \n",
            "  inflating: data/train/planes/125.jpg  \n",
            "  inflating: data/train/planes/126.jpg  \n",
            "  inflating: data/train/planes/127.jpg  \n",
            "  inflating: data/train/planes/128.jpg  \n",
            "  inflating: data/train/planes/129.jpg  \n",
            "  inflating: data/train/planes/13.jpg  \n",
            "  inflating: data/train/planes/130.jpg  \n",
            "  inflating: data/train/planes/131.jpg  \n",
            "  inflating: data/train/planes/132.jpg  \n",
            "  inflating: data/train/planes/133.jpg  \n",
            "  inflating: data/train/planes/134.jpg  \n",
            "  inflating: data/train/planes/135.jpg  \n",
            "  inflating: data/train/planes/136.jpg  \n",
            "  inflating: data/train/planes/137.jpg  \n",
            "  inflating: data/train/planes/138.jpg  \n",
            "  inflating: data/train/planes/139.jpg  \n",
            "  inflating: data/train/planes/14.jpg  \n",
            "  inflating: data/train/planes/140.jpg  \n",
            "  inflating: data/train/planes/141.jpg  \n",
            "  inflating: data/train/planes/142.jpg  \n",
            "  inflating: data/train/planes/143.jpg  \n",
            "  inflating: data/train/planes/144.jpg  \n",
            "  inflating: data/train/planes/145.jpg  \n",
            "  inflating: data/train/planes/146.jpg  \n",
            "  inflating: data/train/planes/147.jpg  \n",
            "  inflating: data/train/planes/148.jpg  \n",
            "  inflating: data/train/planes/149.jpg  \n",
            "  inflating: data/train/planes/15.jpg  \n",
            "  inflating: data/train/planes/150.jpg  \n",
            "  inflating: data/train/planes/151.jpg  \n",
            "  inflating: data/train/planes/152.jpg  \n",
            "  inflating: data/train/planes/153.jpg  \n",
            "  inflating: data/train/planes/154.jpg  \n",
            "  inflating: data/train/planes/155.jpg  \n",
            "  inflating: data/train/planes/156.jpg  \n",
            "  inflating: data/train/planes/157.jpg  \n",
            "  inflating: data/train/planes/158.jpg  \n",
            "  inflating: data/train/planes/159.jpg  \n",
            "  inflating: data/train/planes/16.jpg  \n",
            "  inflating: data/train/planes/160.jpg  \n",
            "  inflating: data/train/planes/161.jpg  \n",
            "  inflating: data/train/planes/162.jpg  \n",
            "  inflating: data/train/planes/163.jpg  \n",
            "  inflating: data/train/planes/164.jpg  \n",
            "  inflating: data/train/planes/165.jpg  \n",
            "  inflating: data/train/planes/166.jpg  \n",
            "  inflating: data/train/planes/167.jpg  \n",
            "  inflating: data/train/planes/168.jpg  \n",
            "  inflating: data/train/planes/169.jpg  \n",
            "  inflating: data/train/planes/17.jpg  \n",
            "  inflating: data/train/planes/170.jpg  \n",
            "  inflating: data/train/planes/171.jpg  \n",
            "  inflating: data/train/planes/172.jpg  \n",
            "  inflating: data/train/planes/173.jpg  \n",
            "  inflating: data/train/planes/174.jpg  \n",
            "  inflating: data/train/planes/175.jpg  \n",
            "  inflating: data/train/planes/176.jpg  \n",
            "  inflating: data/train/planes/177.jpg  \n",
            "  inflating: data/train/planes/178.jpg  \n",
            "  inflating: data/train/planes/179.jpg  \n",
            "  inflating: data/train/planes/18.jpg  \n",
            "  inflating: data/train/planes/180.jpg  \n",
            "  inflating: data/train/planes/181.jpg  \n",
            "  inflating: data/train/planes/182.jpg  \n",
            "  inflating: data/train/planes/183.jpg  \n",
            "  inflating: data/train/planes/184.jpg  \n",
            "  inflating: data/train/planes/185.jpg  \n",
            "  inflating: data/train/planes/186.jpg  \n",
            "  inflating: data/train/planes/187.jpg  \n",
            "  inflating: data/train/planes/188.jpg  \n",
            "  inflating: data/train/planes/189.jpg  \n",
            "  inflating: data/train/planes/19.jpg  \n",
            "  inflating: data/train/planes/190.jpg  \n",
            "  inflating: data/train/planes/191.jpg  \n",
            "  inflating: data/train/planes/192.jpg  \n",
            "  inflating: data/train/planes/193.jpg  \n",
            "  inflating: data/train/planes/194.jpg  \n",
            "  inflating: data/train/planes/195.jpg  \n",
            "  inflating: data/train/planes/196.jpg  \n",
            "  inflating: data/train/planes/197.jpg  \n",
            "  inflating: data/train/planes/198.jpg  \n",
            "  inflating: data/train/planes/199.jpg  \n",
            "  inflating: data/train/planes/2.jpg  \n",
            "  inflating: data/train/planes/20.jpg  \n",
            "  inflating: data/train/planes/200.jpg  \n",
            "  inflating: data/train/planes/21.jpg  \n",
            "  inflating: data/train/planes/22.jpg  \n",
            "  inflating: data/train/planes/23.jpg  \n",
            "  inflating: data/train/planes/24.jpg  \n",
            "  inflating: data/train/planes/25.jpg  \n",
            "  inflating: data/train/planes/26.jpg  \n",
            "  inflating: data/train/planes/27.jpg  \n",
            "  inflating: data/train/planes/28.jpg  \n",
            "  inflating: data/train/planes/29.jpg  \n",
            "  inflating: data/train/planes/3.jpg  \n",
            "  inflating: data/train/planes/30.jpg  \n",
            "  inflating: data/train/planes/31.jpg  \n",
            "  inflating: data/train/planes/32.jpg  \n",
            "  inflating: data/train/planes/33.jpg  \n",
            "  inflating: data/train/planes/34.jpg  \n",
            "  inflating: data/train/planes/35.jpg  \n",
            "  inflating: data/train/planes/36.jpg  \n",
            "  inflating: data/train/planes/37.jpg  \n",
            "  inflating: data/train/planes/38.jpg  \n",
            "  inflating: data/train/planes/39.jpg  \n",
            "  inflating: data/train/planes/4.jpg  \n",
            "  inflating: data/train/planes/40.jpg  \n",
            "  inflating: data/train/planes/41.jpg  \n",
            "  inflating: data/train/planes/42.jpg  \n",
            "  inflating: data/train/planes/43.jpg  \n",
            "  inflating: data/train/planes/44.jpg  \n",
            "  inflating: data/train/planes/45.jpg  \n",
            "  inflating: data/train/planes/46.jpg  \n",
            "  inflating: data/train/planes/47.jpg  \n",
            "  inflating: data/train/planes/48.jpg  \n",
            "  inflating: data/train/planes/49.jpg  \n",
            "  inflating: data/train/planes/5.jpg  \n",
            "  inflating: data/train/planes/50.jpg  \n",
            "  inflating: data/train/planes/51.jpg  \n",
            "  inflating: data/train/planes/52.jpg  \n",
            "  inflating: data/train/planes/53.jpg  \n",
            "  inflating: data/train/planes/54.jpg  \n",
            "  inflating: data/train/planes/55.jpg  \n",
            "  inflating: data/train/planes/56.jpg  \n",
            "  inflating: data/train/planes/57.jpg  \n",
            "  inflating: data/train/planes/58.jpg  \n",
            "  inflating: data/train/planes/59.jpg  \n",
            "  inflating: data/train/planes/6.jpg  \n",
            "  inflating: data/train/planes/60.jpg  \n",
            "  inflating: data/train/planes/61.jpg  \n",
            "  inflating: data/train/planes/62.jpg  \n",
            "  inflating: data/train/planes/63.jpg  \n",
            "  inflating: data/train/planes/64.jpg  \n",
            "  inflating: data/train/planes/65.jpg  \n",
            "  inflating: data/train/planes/66.jpg  \n",
            "  inflating: data/train/planes/67.jpg  \n",
            "  inflating: data/train/planes/68.jpg  \n",
            "  inflating: data/train/planes/69.jpg  \n",
            "  inflating: data/train/planes/7.jpg  \n",
            "  inflating: data/train/planes/70.jpg  \n",
            "  inflating: data/train/planes/71.jpg  \n",
            "  inflating: data/train/planes/72.jpg  \n",
            "  inflating: data/train/planes/73.jpg  \n",
            "  inflating: data/train/planes/74.jpg  \n",
            "  inflating: data/train/planes/75.jpg  \n",
            "  inflating: data/train/planes/76.jpg  \n",
            "  inflating: data/train/planes/77.jpg  \n",
            "  inflating: data/train/planes/78.jpg  \n",
            "  inflating: data/train/planes/79.jpg  \n",
            "  inflating: data/train/planes/8.jpg  \n",
            "  inflating: data/train/planes/80.jpg  \n",
            "  inflating: data/train/planes/81.jpg  \n",
            "  inflating: data/train/planes/82.jpg  \n",
            "  inflating: data/train/planes/83.jpg  \n",
            "  inflating: data/train/planes/84.jpg  \n",
            "  inflating: data/train/planes/85.jpg  \n",
            "  inflating: data/train/planes/86.jpg  \n",
            "  inflating: data/train/planes/87.jpg  \n",
            "  inflating: data/train/planes/88.jpg  \n",
            "  inflating: data/train/planes/89.jpg  \n",
            "  inflating: data/train/planes/9.jpg  \n",
            "  inflating: data/train/planes/90.jpg  \n",
            "  inflating: data/train/planes/91.jpg  \n",
            "  inflating: data/train/planes/92.jpg  \n",
            "  inflating: data/train/planes/93.jpg  \n",
            "  inflating: data/train/planes/94.jpg  \n",
            "  inflating: data/train/planes/95.jpg  \n",
            "  inflating: data/train/planes/96.jpg  \n",
            "  inflating: data/train/planes/97.jpg  \n",
            "  inflating: data/train/planes/98.jpg  \n",
            "  inflating: data/train/planes/99.jpg  \n"
          ]
        }
      ]
    },
    {
      "cell_type": "markdown",
      "metadata": {
        "id": "5bMC2-Wbln32"
      },
      "source": [
        "# Classification Model With Keras\n",
        "\n",
        "\n",
        "Bu çalışmada Keras kullanarak bir sınıflandırma yapacağız.\n",
        "\n",
        "Data klasörü içine bakarak kullanacağımız görsellere bakabilirsin.\n",
        "\n",
        "Toplamda 500 adet görsel mevcuttur.\n",
        "\n",
        "\n",
        "200 uçak ve 200 araba görseli modeli eğitmek için 50 uçak ve 50 araba görseli modeli test etmek için kullanılacak.\n"
      ]
    },
    {
      "cell_type": "code",
      "execution_count": 7,
      "metadata": {
        "id": "tVRy6kHYln37"
      },
      "outputs": [],
      "source": [
        "# keras versiyonuna göre yorum bu altaki iki importtan birini yapman gerekebilir\n",
        "#from keras.preprocessing.image import ImageDataGenerator\n",
        "from tensorflow.keras.preprocessing.image import ImageDataGenerator\n",
        "# keras versiyonuna göre yorum bu yukardaki iki importtan birini yapman\n",
        "# yorum satırını değiştirmeyi dene hata alırsan\n",
        "\n",
        "from keras.models import Sequential\n",
        "from keras.layers import Conv2D, MaxPooling2D\n",
        "from keras.layers import Activation, Dropout, Flatten, Dense\n",
        "from keras import backend as K\n",
        "\n",
        "img_width, img_height = 224, 224\n"
      ]
    },
    {
      "cell_type": "markdown",
      "metadata": {
        "id": "1nRoNAGcln39"
      },
      "source": [
        "görüntüler 224 pixele 224 pixel. Sınıflandırma için süper hd bir görüntüye gerek yok. Görüntülerde hızlıca çalışmak sınıflandırma için daha verimli olacak.\n",
        "\n",
        "değişkenlerimize bilgileri atıyoruz."
      ]
    },
    {
      "cell_type": "code",
      "execution_count": 8,
      "metadata": {
        "id": "WaQIUgmUln3-"
      },
      "outputs": [],
      "source": [
        "train_data_dir = 'data/train'\n",
        "validation_data_dir = 'data/test'\n",
        "nb_train_samples =400\n",
        "nb_validation_samples = 100\n",
        "epochs = 10\n",
        "batch_size = 16\n"
      ]
    },
    {
      "cell_type": "markdown",
      "metadata": {
        "id": "610Z9w_8ln3-"
      },
      "source": [
        "Epoch ve Batch_size önemli kavramlar  \n",
        "\n",
        "Epoch basitçe veri seti üzerinde kça iterasyon yapılacağını ifade eder\n",
        "\n",
        "Batch size ise bir seferde incelenecek örnek sayısını ifade eder.\n"
      ]
    },
    {
      "cell_type": "code",
      "execution_count": 9,
      "metadata": {
        "id": "NRnq60Isln3_"
      },
      "outputs": [],
      "source": [
        "if K.image_data_format() == 'channels_first':\n",
        "\tinput_shape = (3, img_width, img_height)\n",
        "else:\n",
        "\tinput_shape = (img_width, img_height, 3)\n"
      ]
    },
    {
      "cell_type": "markdown",
      "metadata": {
        "id": "8p3NgnZFln3_"
      },
      "source": [
        "Burada amaç veri formatının düzgün aktarılmasından emin olmak. Channels Rgb kanalları, eğer rgb kanalları ilk yazılır ise önce kanal sonra boyut verilir. Aksi halde önce boyut sonra kanal ifade ediliyor."
      ]
    },
    {
      "cell_type": "code",
      "execution_count": 10,
      "metadata": {
        "id": "XLogoyXsln3_"
      },
      "outputs": [],
      "source": [
        "model = Sequential()\n",
        "model.add(Conv2D(32, (2, 2), input_shape=input_shape))\n",
        "model.add(Activation('relu'))\n",
        "model.add(MaxPooling2D(pool_size=(2, 2)))\n",
        "\n",
        "model.add(Conv2D(32, (2, 2)))\n",
        "model.add(Activation('relu'))\n",
        "model.add(MaxPooling2D(pool_size=(2, 2)))\n",
        "\n",
        "model.add(Conv2D(64, (2, 2)))\n",
        "model.add(Activation('relu'))\n",
        "model.add(MaxPooling2D(pool_size=(2, 2)))\n",
        "\n",
        "model.add(Flatten())\n",
        "model.add(Dense(64))\n",
        "model.add(Activation('relu'))\n",
        "model.add(Dropout(0.5))\n",
        "model.add(Dense(1))\n",
        "model.add(Activation('sigmoid'))\n"
      ]
    },
    {
      "cell_type": "markdown",
      "metadata": {
        "id": "zDmrdY0Yln4A"
      },
      "source": [
        "Burada aslında ağ mimarisini yazdık. daha ileri seviye çalışmalar için mevcut başarılı mimariler kullanmak güzeldir ama ne olduğu görmek için önemli bi adım    \n",
        "\n",
        "\n",
        "\n",
        "Conv2D , görüntüyü birden fazla görüntüye evriştiren katmandır.\n",
        "\n",
        "\n",
        "Aktivasyon , aktivasyon fonksiyonudur.\n",
        "MaxPooling2D, verilen boyut matrisindeki değeri maksimuma çıkarmak için kullanılır ve aynısı sonraki 2 katman için kullanılır. daha sonra Düzleştir , evriştirildikten sonra elde edilen görüntünün boyutlarını düzleştirmek için kullanılır.\n",
        "Yoğun, bunu tamamen bağlantılı bir model haline getirmek için kullanılır ve gizli katmandır.\n",
        "Bırakma, veri kümesine aşırı sığmayı önlemek için kullanılır.\n",
        "Yoğun, çıktı katmanının görüntünün hangi kategoriye ait olduğuna karar veren yalnızca bir nöron içermesidir."
      ]
    },
    {
      "cell_type": "code",
      "execution_count": 11,
      "metadata": {
        "id": "xb9a3CEDln4A"
      },
      "outputs": [],
      "source": [
        "model.compile(loss='binary_crossentropy',\n",
        "\t\t\toptimizer='rmsprop',\n",
        "\t\t\tmetrics=['accuracy'])\n"
      ]
    },
    {
      "cell_type": "markdown",
      "metadata": {
        "id": "GHzEdpRdln4B"
      },
      "source": [
        "Burada kayıp, optimize ediciler ve metriklerin kullanımını içeren derleme işlevi kullanılmıştır. Burada kullanılan kayıp fonksiyonu Binary_crossentropy, kullanılan optimizer ise rmsprop'tur ."
      ]
    },
    {
      "cell_type": "code",
      "execution_count": 12,
      "metadata": {
        "id": "dZXc1j2Bln4B",
        "outputId": "9334b5ef-efe7-4417-bb15-9fa9170532c3",
        "colab": {
          "base_uri": "https://localhost:8080/"
        }
      },
      "outputs": [
        {
          "output_type": "stream",
          "name": "stdout",
          "text": [
            "Requirement already satisfied: pillow in /usr/local/lib/python3.10/dist-packages (9.4.0)\n"
          ]
        }
      ],
      "source": [
        "# eğer aşağıda pil ile ilgili hata alaırsan bunu kullan\n",
        "!pip3 install pillow"
      ]
    },
    {
      "cell_type": "code",
      "execution_count": 13,
      "metadata": {
        "id": "svcKTMHGln4C",
        "outputId": "00d6e80f-7a44-45a1-aa83-4ecfc94b0417",
        "colab": {
          "base_uri": "https://localhost:8080/"
        }
      },
      "outputs": [
        {
          "output_type": "stream",
          "name": "stdout",
          "text": [
            "/usr/local/lib/python3.10/dist-packages/PIL/Image.py\n",
            "/usr/local/lib/python3.10/dist-packages/PIL/Image.py\n"
          ]
        }
      ],
      "source": [
        "import sys\n",
        "from PIL import Image\n",
        "sys.modules['Image'] = Image\n",
        "from PIL import Image\n",
        "print(Image.__file__)\n",
        "import Image\n",
        "print(Image.__file__)\n"
      ]
    },
    {
      "cell_type": "code",
      "execution_count": 14,
      "metadata": {
        "id": "ixV_P4Mqln4C",
        "outputId": "b75a56a2-2dd3-409e-bb50-f545ac3af8b8",
        "colab": {
          "base_uri": "https://localhost:8080/"
        }
      },
      "outputs": [
        {
          "output_type": "stream",
          "name": "stdout",
          "text": [
            "Found 400 images belonging to 2 classes.\n",
            "Found 100 images belonging to 2 classes.\n",
            "Epoch 1/10\n",
            "25/25 [==============================] - 39s 1s/step - loss: 0.7017 - accuracy: 0.5725 - val_loss: 0.5826 - val_accuracy: 0.5625\n",
            "Epoch 2/10\n",
            "25/25 [==============================] - 23s 920ms/step - loss: 0.5191 - accuracy: 0.7550 - val_loss: 0.3350 - val_accuracy: 0.8438\n",
            "Epoch 3/10\n",
            "25/25 [==============================] - 22s 860ms/step - loss: 0.4782 - accuracy: 0.7975 - val_loss: 0.2765 - val_accuracy: 0.9062\n",
            "Epoch 4/10\n",
            "25/25 [==============================] - 23s 891ms/step - loss: 0.4231 - accuracy: 0.8250 - val_loss: 0.3546 - val_accuracy: 0.8333\n",
            "Epoch 5/10\n",
            "25/25 [==============================] - 24s 953ms/step - loss: 0.3259 - accuracy: 0.8500 - val_loss: 0.2953 - val_accuracy: 0.8750\n",
            "Epoch 6/10\n",
            "25/25 [==============================] - 23s 924ms/step - loss: 0.3815 - accuracy: 0.8425 - val_loss: 0.2989 - val_accuracy: 0.8542\n",
            "Epoch 7/10\n",
            "25/25 [==============================] - 29s 1s/step - loss: 0.3460 - accuracy: 0.8650 - val_loss: 0.2720 - val_accuracy: 0.8750\n",
            "Epoch 8/10\n",
            "25/25 [==============================] - 22s 866ms/step - loss: 0.3369 - accuracy: 0.8525 - val_loss: 0.2344 - val_accuracy: 0.9062\n",
            "Epoch 9/10\n",
            "25/25 [==============================] - 24s 903ms/step - loss: 0.2944 - accuracy: 0.8825 - val_loss: 0.3080 - val_accuracy: 0.8542\n",
            "Epoch 10/10\n",
            "25/25 [==============================] - 24s 933ms/step - loss: 0.2713 - accuracy: 0.8950 - val_loss: 0.3013 - val_accuracy: 0.8542\n"
          ]
        },
        {
          "output_type": "execute_result",
          "data": {
            "text/plain": [
              "<keras.src.callbacks.History at 0x7b72c4a4b520>"
            ]
          },
          "metadata": {},
          "execution_count": 14
        }
      ],
      "source": [
        "\n",
        "\n",
        "\n",
        "train_datagen = ImageDataGenerator(\n",
        "\trescale=1. / 255,\n",
        "\tshear_range=0.2,\n",
        "\tzoom_range=0.2,\n",
        "\thorizontal_flip=True)\n",
        "\n",
        "test_datagen = ImageDataGenerator(rescale=1. / 255)\n",
        "\n",
        "train_generator = train_datagen.flow_from_directory(\n",
        "\ttrain_data_dir,\n",
        "\ttarget_size=(img_width, img_height),\n",
        "\tbatch_size=batch_size,\n",
        "\tclass_mode='binary')\n",
        "\n",
        "validation_generator = test_datagen.flow_from_directory(\n",
        "\tvalidation_data_dir,\n",
        "\ttarget_size=(img_width, img_height),\n",
        "\tbatch_size=batch_size,\n",
        "\tclass_mode='binary')\n",
        "\n",
        "model.fit(\n",
        "\ttrain_generator,\n",
        "\tsteps_per_epoch=nb_train_samples // batch_size,\n",
        "\tepochs=epochs,\n",
        "\tvalidation_data=validation_generator,\n",
        "\tvalidation_steps=nb_validation_samples // batch_size)\n"
      ]
    },
    {
      "cell_type": "markdown",
      "metadata": {
        "id": "k1iu-9KBln4C"
      },
      "source": [
        "Şimdi dataGenerator'ın kısmı devreye giriyor. Hangisinde kullandık:\n",
        "\n",
        "Görüntüyü yeniden ölçeklendiren, belirli bir aralıkta kesme uygulayan, görüntüyü yakınlaştıran ve görüntüyle yatay çevirme yapan ImageDataGenerator . Bu ImageDataGenerator görüntünün tüm olası yönelimlerini içerir.\n",
        "train_datagen.flow_from_directory, train_dataset dizininden veri hazırlamak için kullanılan işlevdir Target_size, görüntünün hedef boyutunu belirtir.\n",
        "test_datagen.flow_from_directory , model için test verilerini hazırlamak için kullanılır ve hepsi yukarıdakine benzer.\n",
        "fit_generator, verileri yukarıda yapılan modele sığdırmak için kullanılır; kullanılan diğer faktörler,step_per_epochs'tur ve bize modelin eğitim verileri için kaç kez yürütüleceğini bildirir.\n",
        "Epochs bize modelin ileri ve geri geçişte kaç kez eğitileceğini söyler.\n",
        "validation_data, doğrulama/test verilerini modele beslemek için kullanılır.\n",
        "validation_steps doğrulama/test örneklerinin sayısını belirtir."
      ]
    },
    {
      "cell_type": "code",
      "execution_count": 21,
      "metadata": {
        "id": "TpIf5m64ln4D",
        "outputId": "3f47aa7c-28e2-44b9-82ad-818ccf935655",
        "colab": {
          "base_uri": "https://localhost:8080/"
        }
      },
      "outputs": [
        {
          "output_type": "stream",
          "name": "stderr",
          "text": [
            "/usr/local/lib/python3.10/dist-packages/keras/src/engine/training.py:3103: UserWarning: You are saving your model as an HDF5 file via `model.save()`. This file format is considered legacy. We recommend using instead the native Keras format, e.g. `model.save('my_model.keras')`.\n",
            "  saving_api.save_model(\n"
          ]
        }
      ],
      "source": [
        "model.save('model_saved.h5')\n"
      ]
    },
    {
      "cell_type": "code",
      "execution_count": 23,
      "metadata": {
        "id": "uOoyQSnsln4D",
        "outputId": "24ef0504-c5c5-4483-afb8-590e9d1826e9",
        "colab": {
          "base_uri": "https://localhost:8080/"
        }
      },
      "outputs": [
        {
          "output_type": "stream",
          "name": "stdout",
          "text": [
            "1/1 [==============================] - 0s 126ms/step\n",
            "Predicted Class (0 - Cars , 1- Planes):  0.8610517\n"
          ]
        }
      ],
      "source": [
        "from keras.models import load_model\n",
        "from keras.preprocessing.image import load_img\n",
        "from keras.preprocessing.image import img_to_array\n",
        "from keras.applications.vgg16 import preprocess_input\n",
        "from keras.applications.vgg16 import decode_predictions\n",
        "from keras.applications.vgg16 import VGG16\n",
        "import numpy as np\n",
        "\n",
        "from keras.models import load_model\n",
        "\n",
        "model = load_model('model_saved.h5')\n",
        "\n",
        "image = load_img('data/test/planes/5.jpg', target_size=(224, 224))\n",
        "img = np.array(image)\n",
        "img = img / 255.0\n",
        "img = img.reshape(1,224,224,3)\n",
        "label = model.predict(img)\n",
        "print(\"Predicted Class (0 - Cars , 1- Planes): \", label[0][0])\n"
      ]
    }
  ],
  "metadata": {
    "kernelspec": {
      "display_name": "Python 3",
      "language": "python",
      "name": "python3"
    },
    "language_info": {
      "codemirror_mode": {
        "name": "ipython",
        "version": 3
      },
      "file_extension": ".py",
      "mimetype": "text/x-python",
      "name": "python",
      "nbconvert_exporter": "python",
      "pygments_lexer": "ipython3",
      "version": "3.10.12"
    },
    "colab": {
      "provenance": [],
      "include_colab_link": true
    }
  },
  "nbformat": 4,
  "nbformat_minor": 0
}