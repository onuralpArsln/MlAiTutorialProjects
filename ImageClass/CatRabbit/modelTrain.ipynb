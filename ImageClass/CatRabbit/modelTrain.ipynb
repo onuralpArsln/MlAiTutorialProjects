{
 "cells": [
  {
   "cell_type": "markdown",
   "metadata": {},
   "source": [
    "# Pytorch ile Kendi Datasetinden Eğitim\n",
    "\n",
    "\n",
    "Bir çok tutorialda torchvision dataset içinden hızlıca bir dataset çekmek tercih edilir çünkü çok kolayca düzgün bir dataset oluşturmuş olursun.\n",
    "\n",
    "Biz bugün kendi elimizdeki bir data seti kullanarak bu işlemleri yapacağız.\n",
    "\n",
    "Bunun için bir bulk downloader uzantısı ile googledan bir çok resmi hızlıca kayıt edebilir ya da elimizdeki hazır bir seti kullanabiliriz. Araştırmalar sırasında video çekip bu videodan bir python scripti ile ekran görüntüleri almak gibi teknikler ile de veri setleri hızlıca oluşturulabilir\n",
    "\n",
    "ancak data bir miktar düzenlemeye ihtiyaç duyabilir.\n",
    "\n"
   ]
  },
  {
   "cell_type": "markdown",
   "metadata": {},
   "source": [
    "# Database yapısı\n",
    "\n",
    "\n",
    "Oldukça basit bir yapıyı takip edeceğiz \n",
    "                                      \n",
    "data/                                           \n",
    "├─ cat/             \n",
    "│  ├─ image001.jpg             \n",
    "│  ├─ image002.jpg             \n",
    "│  ├─ ....             \n",
    "├─ rabbit/             \n",
    "│  ├─ image001.jpg             \n",
    "│  ├─ image002.jpg             \n",
    "│  ├─ ....             "
   ]
  },
  {
   "cell_type": "markdown",
   "metadata": {},
   "source": [
    "Bu dosya hem zipli hem de sıkıştırılmamış olarak repoda mevcut. Zipli hali colabda çalışırken wget ile kolayca indirmen için"
   ]
  },
  {
   "cell_type": "code",
   "execution_count": null,
   "metadata": {
    "vscode": {
     "languageId": "plaintext"
    }
   },
   "outputs": [],
   "source": []
  },
  {
   "cell_type": "markdown",
   "metadata": {},
   "source": []
  }
 ],
 "metadata": {
  "kernelspec": {
   "display_name": "Python 3",
   "language": "python",
   "name": "python3"
  },
  "language_info": {
   "codemirror_mode": {
    "name": "ipython",
    "version": 3
   },
   "file_extension": ".py",
   "mimetype": "text/x-python",
   "name": "python",
   "nbconvert_exporter": "python",
   "pygments_lexer": "ipython3",
   "version": "3.11.9"
  }
 },
 "nbformat": 4,
 "nbformat_minor": 2
}
