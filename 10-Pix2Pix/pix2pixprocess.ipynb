{
  "cells": [
    {
      "cell_type": "markdown",
      "metadata": {
        "id": "view-in-github",
        "colab_type": "text"
      },
      "source": [
        "<a href=\"https://colab.research.google.com/github/onuralpArsln/MlAiTutorialProjects/blob/main/10-Pix2Pix/pix2pixprocess.ipynb\" target=\"_parent\"><img src=\"https://colab.research.google.com/assets/colab-badge.svg\" alt=\"Open In Colab\"/></a>"
      ]
    },
    {
      "cell_type": "markdown",
      "metadata": {
        "id": "sBAdFlMXjOxw"
      },
      "source": [
        "# Görsel işlemeler için"
      ]
    },
    {
      "cell_type": "markdown",
      "source": [
        "Bu çalışmada amaç elimizdeki düşük çözünürlüklü görüntüleri yüksek çözünürlükl hale getiren bir model oluşturmak istiyoruz."
      ],
      "metadata": {
        "id": "j6D6pQ93jUPy"
      }
    },
    {
      "cell_type": "code",
      "source": [
        "import keras\n",
        "from keras import layers\n",
        "from keras import ops\n",
        "from keras.utils import load_img\n",
        "from keras.utils import array_to_img\n",
        "from keras.utils import img_to_array\n",
        "from keras.preprocessing import image_dataset_from_directory\n",
        "import tensorflow as tf  #  only for data preprocessing\n",
        "\n",
        "import os\n",
        "import math\n",
        "import numpy as np\n",
        "\n",
        "from IPython.display import display"
      ],
      "metadata": {
        "id": "9lxY9oRTjT14"
      },
      "execution_count": 1,
      "outputs": []
    },
    {
      "cell_type": "markdown",
      "source": [
        "Burada aslında 500 adet görsel olan basit bir dataset indiriyoruz. Manuel olarak onları düşük boyuta getirip sonrasında büyük boyutlu halleri ile eşleyerek yapay zeka eğitiminde kullancağız."
      ],
      "metadata": {
        "id": "In2o7piejvv1"
      }
    },
    {
      "cell_type": "code",
      "source": [
        "!wget -q \"https://github.com/onuralpArsln/MlAiTutorialProjects/raw/refs/heads/main/10-Pix2Pix/archive.zip\"\n"
      ],
      "metadata": {
        "id": "Zvzi078ZjkNx"
      },
      "execution_count": 5,
      "outputs": []
    },
    {
      "cell_type": "code",
      "source": [
        "!unzip -q archive.zip"
      ],
      "metadata": {
        "id": "vKLjXT3MkZt7"
      },
      "execution_count": 6,
      "outputs": []
    },
    {
      "cell_type": "code",
      "source": [
        "data_dir = keras.utils.get_file(origin=\"archive\", fname=\"BSR\")\n",
        "root_dir = os.path.join(data_dir)"
      ],
      "metadata": {
        "id": "zePEhH-8kqMh"
      },
      "execution_count": 8,
      "outputs": []
    },
    {
      "cell_type": "code",
      "source": [
        "crop_size = 300\n",
        "upscale_factor = 3\n",
        "input_size = crop_size // upscale_factor\n",
        "batch_size = 8\n",
        "\n",
        "train_ds = image_dataset_from_directory(\n",
        "    root_dir,\n",
        "    batch_size=batch_size,\n",
        "    image_size=(crop_size, crop_size),\n",
        "    validation_split=0.2,\n",
        "    subset=\"training\",\n",
        "    seed=1337,\n",
        "    label_mode=None,\n",
        ")\n",
        "\n",
        "valid_ds = image_dataset_from_directory(\n",
        "    root_dir,\n",
        "    batch_size=batch_size,\n",
        "    image_size=(crop_size, crop_size),\n",
        "    validation_split=0.2,\n",
        "    subset=\"validation\",\n",
        "    seed=1337,\n",
        "    label_mode=None,\n",
        ")"
      ],
      "metadata": {
        "id": "0x1D90Lvk6hw",
        "outputId": "63e236c5-bdfc-40e9-f1a9-ffadc6c23613",
        "colab": {
          "base_uri": "https://localhost:8080/"
        }
      },
      "execution_count": 9,
      "outputs": [
        {
          "output_type": "stream",
          "name": "stdout",
          "text": [
            "Found 500 files.\n",
            "Using 400 files for training.\n",
            "Found 500 files.\n",
            "Using 100 files for validation.\n"
          ]
        }
      ]
    }
  ],
  "metadata": {
    "language_info": {
      "name": "python"
    },
    "colab": {
      "provenance": [],
      "gpuType": "T4",
      "include_colab_link": true
    },
    "accelerator": "GPU",
    "kernelspec": {
      "name": "python3",
      "display_name": "Python 3"
    }
  },
  "nbformat": 4,
  "nbformat_minor": 0
}