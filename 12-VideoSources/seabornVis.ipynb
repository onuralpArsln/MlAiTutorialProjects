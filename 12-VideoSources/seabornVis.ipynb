{
 "cells": [
  {
   "cell_type": "markdown",
   "metadata": {},
   "source": [
    " Bu not defterinde:\n",
    " - \"Tips\" veri kümesine benzer bir CSV dosyasını yükleyeceğiz.\n",
    " - **pandas** kullanarak veriyi keşfedecek ve temizleyeceğiz.\n",
    " - **seaborn** ve **matplotlib** kullanarak gelişmiş grafiklerle veriyi görselleştireceğiz."
   ]
  },
  {
   "cell_type": "code",
   "execution_count": null,
   "metadata": {},
   "outputs": [],
   "source": [
    "# Kütüphaneler \n",
    "import pandas as pd\n",
    "import seaborn as sns\n",
    "import matplotlib.pyplot as plt\n",
    "import numpy as np\n",
    "# Seaborn için güzel bir tema ayarlayalım\n",
    "sns.set_theme(style=\"whitegrid\")"
   ]
  },
  {
   "cell_type": "markdown",
   "metadata": {},
   "source": [
    "## Veri Hazırlama\n",
    "\n",
    " Bu örnek için, restoran bahşişlerini içeren örnek bir CSV dosyası oluşturuyoruz.\n",
    " Kendi CSV dosyanızı kullanmak isterseniz, oluşturma adımını atlayıp dosyanızı yükleyebilirsiniz.\n",
    " Burada csv dosyalarını elimizdeki datadan oluşturmayı görüyoruz.\n"
   ]
  },
  {
   "cell_type": "code",
   "execution_count": null,
   "metadata": {},
   "outputs": [],
   "source": [
    "# Örnek DataFrame oluşturma\n",
    "data = {\n",
    "    'total_bill': [16.99, 10.34, 21.01, 23.68, 24.59, 25.29, 8.77, 26.88, 15.04, 14.78,\n",
    "                   34.00, 17.50, 22.30, 12.45, 18.65, 28.75, 19.80, 11.00, 27.30, 13.90],\n",
    "    'tip': [1.01, 1.66, 3.50, 3.31, 3.61, 4.71, 2.00, 3.12, 1.96, 3.23,\n",
    "            5.00, 2.50, 4.00, 2.10, 3.40, 4.80, 3.00, 1.50, 4.20, 2.80],\n",
    "    'sex': ['Female', 'Male', 'Male', 'Male', 'Female', 'Male', 'Male', 'Female', 'Female', 'Male',\n",
    "            'Female', 'Male', 'Male', 'Female', 'Female', 'Male', 'Male', 'Female', 'Male', 'Female'],\n",
    "    'smoker': ['No'] * 20,\n",
    "    'day': ['Sun'] * 10 + ['Sat'] * 10,\n",
    "    # İlk 10 kayıt için öğle, sonraki 10 kayıt için akşam yemeği\n",
    "    'time': ['Öğle Yemeği'] * 10 + ['Akşam Yemeği'] * 10,\n",
    "    'size': [2, 3, 3, 2, 4, 4, 2, 4, 2, 2,\n",
    "             4, 2, 3, 2, 4, 5, 2, 3, 4, 2]\n",
    "}\n",
    "\n",
    "\n",
    "# datadan bir csv dosyası oluşturuyrouz\n",
    "df = pd.DataFrame(data)\n",
    "\n",
    "# DataFrame'i CSV dosyası olarak kaydetme\n",
    "csv_filename = 'sample.csv'\n",
    "df.to_csv(csv_filename, index=False)\n",
    "print(f\"CSV dosyası '{csv_filename}' başarıyla oluşturuldu!\")\n"
   ]
  },
  {
   "cell_type": "markdown",
   "metadata": {},
   "source": [
    "Artık bu dataları bir csv yaptığımız için, csvden okuma yapabilriz. Elinde bir csv dosyası var ise aynı şekilde okuman mümkün."
   ]
  },
  {
   "cell_type": "code",
   "execution_count": null,
   "metadata": {},
   "outputs": [],
   "source": [
    "# CSV dosyasını yükleme\n",
    "df = pd.read_csv(csv_filename)\n"
   ]
  },
  {
   "cell_type": "markdown",
   "metadata": {},
   "source": [
    "Pandas kullanarak veriyi biraz inceleyelim"
   ]
  },
  {
   "cell_type": "code",
   "execution_count": null,
   "metadata": {},
   "outputs": [],
   "source": [
    "# Veri kümesinin ilk birkaç satırını görüntüleme\n",
    "df.head()"
   ]
  },
  {
   "cell_type": "code",
   "execution_count": null,
   "metadata": {},
   "outputs": [],
   "source": [
    "# Veri kümesine ait temel bilgilerin görüntülenmesi\n",
    "df.info()"
   ]
  },
  {
   "cell_type": "code",
   "execution_count": null,
   "metadata": {},
   "outputs": [],
   "source": [
    "# Veri kümesinin istatistiksel özetinin görüntülenmesi\n",
    "df.describe()"
   ]
  },
  {
   "cell_type": "markdown",
   "metadata": {},
   "source": [
    "## Seaborn ve Matplotlib ile Veri Görselleştirme\n",
    "Şimdi verideki çeşitli özellikleri göstermek için bir dizi grafik oluşturalım."
   ]
  },
  {
   "cell_type": "markdown",
   "metadata": {},
   "source": [
    "\n",
    "\n",
    "\n",
    "\n",
    "\n",
    "\n",
    "# %%\n",
    "# Toplam hesap dağılımı\n",
    "plt.figure(figsize=(8, 4))\n",
    "sns.histplot(df['total_bill'], kde=True, color=\"skyblue\")\n",
    "plt.title(\"Toplam Hesap Dağılımı\")\n",
    "plt.xlabel(\"Toplam Hesap\")\n",
    "plt.ylabel(\"Frekans\")\n",
    "plt.show()\n",
    "\n",
    "# %%\n",
    "# Toplam hesap ve bahşiş arasındaki ilişkiyi gösteren saçılma grafiği\n",
    "plt.figure(figsize=(8, 4))\n",
    "sns.scatterplot(data=df, x='total_bill', y='tip', hue='sex', style='sex', s=100)\n",
    "plt.title(\"Toplam Hesap ve Bahşiş Arasındaki İlişki (Cinsiyete Göre)\")\n",
    "plt.xlabel(\"Toplam Hesap\")\n",
    "plt.ylabel(\"Bahşiş\")\n",
    "plt.show()\n",
    "\n",
    "# %%\n",
    "# Cinsiyete göre toplam hesap dağılımını gösteren kutu grafiği\n",
    "plt.figure(figsize=(8, 4))\n",
    "sns.boxplot(data=df, x='sex', y='total_bill', palette=\"Pastel1\")\n",
    "plt.title(\"Cinsiyete Göre Toplam Hesap Kutu Grafiği\")\n",
    "plt.xlabel(\"Cinsiyet\")\n",
    "plt.ylabel(\"Toplam Hesap\")\n",
    "plt.show()\n",
    "\n",
    "# %%\n",
    "# Tüm sayısal değişkenler arasındaki ilişkileri keşfetmek için çift grafiği\n",
    "sns.pairplot(df, hue='sex', palette=\"coolwarm\", markers=[\"o\", \"s\"])\n",
    "plt.suptitle(\"Tips Veri Kümesinin Çift Grafiği\", y=1.02)\n",
    "plt.show()\n",
    "\n",
    "# %% [markdown]\n",
    "# ### Ekstra Harika Grafikler\n",
    "#\n",
    "# Aşağıda daha gelişmiş ve açıklayıcı bazı görselleştirmeler yer almaktadır.\n",
    "\n",
    "# %%\n",
    "# Keman grafiği: Kutu grafiği ve yoğunluk grafiğinin birleşimi\n",
    "plt.figure(figsize=(8, 4))\n",
    "sns.violinplot(data=df, x='sex', y='total_bill', palette=\"Set2\", inner=\"quartile\")\n",
    "plt.title(\"Cinsiyete Göre Toplam Hesap Keman Grafiği\")\n",
    "plt.xlabel(\"Cinsiyet\")\n",
    "plt.ylabel(\"Toplam Hesap\")\n",
    "plt.show()\n",
    "\n",
    "# %%\n",
    "# Sürü grafiği: Kutu grafiği üzerine bireysel gözlemleri gösterir\n",
    "plt.figure(figsize=(8, 4))\n",
    "sns.boxplot(data=df, x='day', y='total_bill', palette=\"Pastel2\", showfliers=False)\n",
    "sns.swarmplot(data=df, x='day', y='total_bill', color=\".25\")\n",
    "plt.title(\"Günlere Göre Toplam Hesap: Kutu + Sürü Grafiği\")\n",
    "plt.xlabel(\"Gün\")\n",
    "plt.ylabel(\"Toplam Hesap\")\n",
    "plt.show()\n",
    "\n",
    "# %%\n",
    "# Birleşik grafik: Toplam hesap ve bahşiş arasındaki ilişkiyi kenar dağılımları ile gösterir\n",
    "sns.jointplot(data=df, x='total_bill', y='tip', kind=\"scatter\", hue='sex', palette=\"deep\")\n",
    "plt.suptitle(\"Toplam Hesap ve Bahşişin Birleşik Grafiği\", y=1.05)\n",
    "plt.show()\n",
    "\n",
    "# %%\n",
    "# Isı haritası: Sayısal değişkenlerin korelasyon matrisini görselleştirir\n",
    "plt.figure(figsize=(8, 6))\n",
    "corr = df[['total_bill', 'tip', 'size']].corr()\n",
    "sns.heatmap(corr, annot=True, cmap=\"coolwarm\", linewidths=0.5)\n",
    "plt.title(\"Sayısal Özellikler Arası Korelasyon Isı Haritası\")\n",
    "plt.show()\n",
    "\n",
    "# %%\n",
    "# Regresyon grafiği: Toplam hesap ve bahşiş arasındaki doğrusal ilişkiyi gösterir\n",
    "plt.figure(figsize=(8, 4))\n",
    "sns.regplot(data=df, x='total_bill', y='tip', scatter_kws={'s': 80}, line_kws={'color': 'red'})\n",
    "plt.title(\"Toplam Hesap ve Bahşiş Arasındaki Regresyon Grafiği\")\n",
    "plt.xlabel(\"Toplam Hesap\")\n",
    "plt.ylabel(\"Bahşiş\")\n",
    "plt.show()\n",
    "\n",
    "# %%\n",
    "# Kayıt sayısı grafiği: Her güne ait kayıt sayısını gösterir\n",
    "plt.figure(figsize=(8, 4))\n",
    "sns.countplot(data=df, x='day', palette=\"Blues_d\")\n",
    "plt.title(\"Günlere Göre Kayıt Sayısı\")\n",
    "plt.xlabel(\"Gün\")\n",
    "plt.ylabel(\"Kayıt Sayısı\")\n",
    "plt.show()\n",
    "\n",
    "# %% [markdown]\n",
    "# ## Sonuç\n",
    "#\n",
    "# Bu not defterinde:\n",
    "# - Örnek bir CSV dosyası oluşturduk.\n",
    "# - **pandas** kullanarak veriyi yükleyip keşfettik.\n",
    "# - **seaborn** ve **matplotlib** ile aşağıdaki grafiklerle veriyi görselleştirdik:\n",
    "#   - Histogram, saçılma grafiği, kutu grafiği, çift grafik.\n",
    "#   - Keman grafiği, sürü grafiği, birleşik grafik, ısı haritası, regresyon grafiği ve kayıt sayısı grafiği.\n",
    "#\n",
    "# Bu teknikler, **pandas** ve **seaborn**'un veri analizi ve görselleştirme konusundaki tüm gücünü ortaya koymaktadır. Kendi veri kümeleriniz ve fikirlerinizle bu örnekleri geliştirebilirsiniz!"
   ]
  }
 ],
 "metadata": {
  "language_info": {
   "name": "python"
  }
 },
 "nbformat": 4,
 "nbformat_minor": 2
}
