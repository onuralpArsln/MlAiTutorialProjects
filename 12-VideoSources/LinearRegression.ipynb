{
  "cells": [
    {
      "cell_type": "markdown",
      "metadata": {
        "id": "view-in-github",
        "colab_type": "text"
      },
      "source": [
        "<a href=\"https://colab.research.google.com/github/onuralpArsln/MlAiTutorialProjects/blob/main/12-VideoSources/LinearRegression.ipynb\" target=\"_parent\"><img src=\"https://colab.research.google.com/assets/colab-badge.svg\" alt=\"Open In Colab\"/></a>"
      ]
    },
    {
      "cell_type": "markdown",
      "metadata": {
        "id": "-iYyjmGMCy_G"
      },
      "source": [
        "# Linear Regresyon"
      ]
    },
    {
      "cell_type": "code",
      "source": [],
      "metadata": {
        "id": "Bp4v1ppxDAYP"
      },
      "execution_count": null,
      "outputs": []
    },
    {
      "cell_type": "markdown",
      "source": [
        "# Gerekli Kütüphaneler"
      ],
      "metadata": {
        "id": "ZcjKB9CiDAvy"
      }
    },
    {
      "cell_type": "code",
      "source": [
        "import pandas as pd\n",
        "import numpy as np\n",
        "from sklearn.linear_model import LinearRegression\n",
        "from sklearn.model_selection import train_test_split\n",
        "from sklearn.metrics import mean_squared_error, r2_score\n",
        "import matplotlib.pyplot as plt\n",
        "import seaborn as sns\n"
      ],
      "metadata": {
        "id": "sEoiLTyzDAJJ"
      },
      "execution_count": 3,
      "outputs": []
    },
    {
      "cell_type": "markdown",
      "source": [
        "# Veri seti\n",
        "\n",
        "Kaggleden aldığımız bir veri seti kullanacağız. veri seti linki https://www.kaggle.com/datasets/sohier/calcofi?select=bottle.csv\n",
        "\n",
        "Bu su sıcaklığı ve su tuzluluğunun ilişkisini anlatan veri seti Kalforniyadan toplanan verilerden oluşur.\n"
      ],
      "metadata": {
        "id": "KLT3Dj48DLhE"
      }
    },
    {
      "cell_type": "code",
      "source": [
        "!wget -q  https://raw.githubusercontent.com/onuralpArsln/MlAiTutorialProjects/refs/heads/main/12-VideoSources/CalCOFI_reduced.csv\n",
        ""
      ],
      "metadata": {
        "id": "ZDHAYwx1DKO8"
      },
      "execution_count": 2,
      "outputs": []
    },
    {
      "cell_type": "markdown",
      "source": [
        "Verilere ilk bakışı yapalım"
      ],
      "metadata": {
        "id": "G5394HJgJdAb"
      }
    },
    {
      "cell_type": "code",
      "source": [
        "#pandas kullanarak okuma yap\n",
        "df = pd.read_csv(\"CalCOFI_reduced.csv\")\n",
        "\n",
        "# İlk 5 satırı yazdır\n",
        "print(df.head())\n",
        "\n",
        "# Veri setindeki sütun isimlerini kontrol edelim\n",
        "print(df.columns)"
      ],
      "metadata": {
        "id": "K9_YehdhJfr4",
        "outputId": "d2f1281c-0eba-4dad-e949-0ccb0a27ac86",
        "colab": {
          "base_uri": "https://localhost:8080/"
        }
      },
      "execution_count": 4,
      "outputs": [
        {
          "output_type": "stream",
          "name": "stdout",
          "text": [
            "   Depthm  T_degC  Salnty\n",
            "0       0   10.50  33.440\n",
            "1       8   10.46  33.440\n",
            "2      10   10.46  33.437\n",
            "3      19   10.45  33.420\n",
            "4      20   10.45  33.421\n",
            "Index(['Depthm', 'T_degC', 'Salnty'], dtype='object')\n"
          ]
        }
      ]
    },
    {
      "cell_type": "markdown",
      "source": [
        "Veri temizliği için eksik veri varmı bakalım eksik veri olan satırları sileceğiz"
      ],
      "metadata": {
        "id": "5sM0Hyz5Jp_I"
      }
    },
    {
      "cell_type": "code",
      "source": [
        "print(df.isnull().sum())"
      ],
      "metadata": {
        "id": "M85VDuB4Jp3V",
        "outputId": "5da02de4-7434-4fda-a3d2-0dccde8ea901",
        "colab": {
          "base_uri": "https://localhost:8080/"
        }
      },
      "execution_count": 5,
      "outputs": [
        {
          "output_type": "stream",
          "name": "stdout",
          "text": [
            "Depthm      0\n",
            "T_degC    202\n",
            "Salnty    875\n",
            "dtype: int64\n"
          ]
        }
      ]
    },
    {
      "cell_type": "code",
      "source": [
        "df = df.dropna(subset=['Depthm', 'T_degC', 'Salnty'])\n"
      ],
      "metadata": {
        "id": "GLB5X_RhJzmt"
      },
      "execution_count": 6,
      "outputs": []
    },
    {
      "cell_type": "code",
      "source": [
        "print(df.isnull().sum())"
      ],
      "metadata": {
        "id": "07J4jD7qJ3FC",
        "outputId": "a755511b-7c08-42e6-b319-f40fedb101dd",
        "colab": {
          "base_uri": "https://localhost:8080/"
        }
      },
      "execution_count": 7,
      "outputs": [
        {
          "output_type": "stream",
          "name": "stdout",
          "text": [
            "Depthm    0\n",
            "T_degC    0\n",
            "Salnty    0\n",
            "dtype: int64\n"
          ]
        }
      ]
    },
    {
      "cell_type": "markdown",
      "source": [
        "# Isı haritası ile hızlı analiz\n",
        "\n",
        "Bu ısı haritası (heatmap) bize, su derinliği, sıcaklık ve tuzluluk arasındaki ilişkiyi gösterir. 1’e yakın korelasyonlar güçlü ilişki olduğunu, -1’e yakın olanlar ise negatif ilişki olduğunu gösterir."
      ],
      "metadata": {
        "id": "RUyKYl0yJ_Vm"
      }
    },
    {
      "cell_type": "code",
      "source": [
        "plt.figure(figsize=(8,6))\n",
        "sns.heatmap(df[['Depthm', 'T_degC', 'Salnty']].corr(), annot=True, cmap=\"coolwarm\", fmt=\".2f\")\n",
        "plt.title(\"Değişkenler Arasındaki Korelasyon\")\n",
        "plt.show()"
      ],
      "metadata": {
        "id": "bXaIhszTJ6RF",
        "outputId": "d021b73e-780b-47ce-8214-1d1d6b98ab88",
        "colab": {
          "base_uri": "https://localhost:8080/",
          "height": 545
        }
      },
      "execution_count": 8,
      "outputs": [
        {
          "output_type": "display_data",
          "data": {
            "text/plain": [
              "<Figure size 800x600 with 2 Axes>"
            ],
            "image/png": "[encoded data removed]"
          },
          "metadata": {}
        }
      ]
    }
  ],
  "metadata": {
    "language_info": {
      "name": "python"
    },
    "colab": {
      "provenance": [],
      "include_colab_link": true
    },
    "kernelspec": {
      "name": "python3",
      "display_name": "Python 3"
    }
  },
  "nbformat": 4,
  "nbformat_minor": 0
}