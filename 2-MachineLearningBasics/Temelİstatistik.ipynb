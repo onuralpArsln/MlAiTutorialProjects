{
 "cells": [
  {
   "cell_type": "markdown",
   "metadata": {},
   "source": [
    "# İstatistik Çalışması\n",
    "\n",
    "Makine öğrenmesi temelinde istatistik biliminden güç alır. Bizim de makine öğrenmesini iyi anlamak için biraz da olsa istatistik bilmemiz lazım. Basit terimleri keşfedelim.\n",
    "\n",
    "\n",
    "Mean - Değerlerin ortalamasıdır.            \n",
    "Median - Tüm Değerleri sıralayınca ortada kalan değerdir. Eğer tek sayıda değer varsa bu ortadaki değerdir ancak çift sayıda değer varsa bu ortadaki ikilinin ortalamasıdır.       \n",
    "Mode - En çok tekrar eden değerdir.     "
   ]
  },
  {
   "cell_type": "code",
   "execution_count": 7,
   "metadata": {},
   "outputs": [
    {
     "name": "stdout",
     "output_type": "stream",
     "text": [
      "Ortalama mean değer: 89.76923076923077\n",
      "Medyan median değer tek sayıda eleman varsa ortadaki değerdir: 87.0\n",
      "Medyan median değer çift sayıda değer varsa orta ikilinin ortalamasıdır: 86.5\n",
      "Mod Mode değer: ModeResult(mode=86, count=3)\n",
      "ModeResult(mode=86, count=3)\n"
     ]
    }
   ],
   "source": [
    "import numpy\n",
    "\n",
    "speed = [99,86,87,88,111,86,103,87,94,78,77,85,86]\n",
    "\n",
    "x = numpy.mean(speed)\n",
    "\n",
    "print(f'Ortalama mean değer: {x}')\n",
    "\n",
    "y = numpy.median(speed)\n",
    "print(f'Medyan median değer tek sayıda eleman varsa ortadaki değerdir: {y}')\n",
    "\n",
    "speed = [77, 78, 85, 86, 86, 86, 87, 87, 94, 98, 99, 103]\n",
    "y = numpy.median(speed)\n",
    "print(f'Medyan median değer çift sayıda değer varsa orta ikilinin ortalamasıdır: {y}')\n",
    "\n",
    "\n",
    "from scipy import stats\n",
    "\n",
    "x = stats.mode(speed)\n",
    "print(f'Mod Mode değer: {x}')\n",
    "print(x)\n",
    "\n"
   ]
  },
  {
   "cell_type": "markdown",
   "metadata": {},
   "source": [
    "### Standart Sapma"
   ]
  },
  {
   "cell_type": "markdown",
   "metadata": {},
   "source": [
    "Standart sapmayı anlamak için önce varyansı konuşmak gerek. Varyans basitçe her verinin ortalamadan ne kadar uzaklaştığını ölçer. \n",
    "\n",
    "Formülü \n",
    "her verinin ortalamadan farkının karelerinin toplamının veri saysına bölümüdür.\n",
    "      \n",
    "       \n",
    "            \n",
    "2, 4, 6, 8, 10 için ortalama 5 olur.         \n",
    "Her elamanın ortaladan farkının karesi      \n",
    "(2 - 6)² = (-4)² = 16      \n",
    "(4 - 6)² = (-2)² = 4      \n",
    "(6 - 6)² = 0² = 0      \n",
    "(8 - 6)² = 2² = 4      \n",
    "(10 - 6)² = 4² = 16      \n",
    "Her eleman için elde edilen değerin eleman sayısına bölümü varyans olur.              \n",
    "(16+4+0+4+16) /5 = 40/5=8               \n",
    "Varyans =8           \n",
    "\n",
    "\n"
   ]
  },
  {
   "cell_type": "markdown",
   "metadata": {},
   "source": [
    "Varyansın kare kökü  ise standart sapmayı verir amaç varyanstan daha anlaşılır bir veri elde etmektir.         \n",
    "sqrt(8)=2.83  "
   ]
  },
  {
   "cell_type": "markdown",
   "metadata": {},
   "source": [
    "Varyans hesaplanırken, verilerin ortalamadan ne kadar uzaklaştığı hesaplanır ve bu sapmaların kareleri alınır.   \n",
    "Bu, genellikle kareli birimler ile ifade edilir.   \n",
    "Örneğin, eğer verileriniz bir üretim bandındaki çelik barların uzunluklarının metre cinsinden ifadesi ise, varyans metrekare cinsinden olur. Standart sapmada karekök alarak orijinal birime dönülür. Uzunluğu metrekare cinsinden almak garip olurdu.\n",
    "Kare alma işlemi, veri noktalarının ortalamadan sapmalarını büyütür. Bu büyütme etkisi varyansın anlaşılmasını zorlaştırabilir. Standart sapma, bu büyütme etkisini ortadan kaldırır ve daha doğrudan bir ölçüm sağlar.\n"
   ]
  },
  {
   "cell_type": "markdown",
   "metadata": {},
   "source": [
    "Bu işlemleri numpy ile kolayca hızlıca hesaplayabiliriz."
   ]
  },
  {
   "cell_type": "code",
   "execution_count": 10,
   "metadata": {},
   "outputs": [
    {
     "name": "stdout",
     "output_type": "stream",
     "text": [
      "Varyans Değeri: 8.0 ve Standart Sapma Değeri: 2.8284271247461903\n"
     ]
    }
   ],
   "source": [
    "import numpy\n",
    "\n",
    "speed = [2, 4, 6, 8, 10]\n",
    "\n",
    "x = numpy.var(speed)\n",
    "y = numpy.std(speed)\n",
    "\n",
    "print(f'Varyans Değeri: {x} ve Standart Sapma Değeri: {y}')"
   ]
  },
  {
   "cell_type": "code",
   "execution_count": 11,
   "metadata": {},
   "outputs": [
    {
     "name": "stdout",
     "output_type": "stream",
     "text": [
      "Varyans Değeri: 0.8163265306122449 ve Standart Sapma Değeri: 0.9035079029052513\n",
      "Varyans Değeri: 1432.2448979591834 ve Standart Sapma Değeri: 37.84501153334721\n"
     ]
    }
   ],
   "source": [
    "import numpy\n",
    "\n",
    "speed = [86,87,88,86,87,85,86]\n",
    "\n",
    "x = numpy.var(speed)\n",
    "y = numpy.std(speed)\n",
    "\n",
    "print(f'Varyans Değeri: {x} ve Standart Sapma Değeri: {y}')\n",
    "\n",
    "\n",
    "speed = [32,111,138,28,59,77,97]\n",
    "\n",
    "x = numpy.var(speed)\n",
    "y = numpy.std(speed)\n",
    "\n",
    "print(f'Varyans Değeri: {x} ve Standart Sapma Değeri: {y}')"
   ]
  },
  {
   "cell_type": "markdown",
   "metadata": {},
   "source": [
    "# Percentiles (Yüzdebirlik)\n",
    "\n",
    "Amaç verileri yüzdeliklere bölünce değerlerin hangi yüzdelik dilimlere dağıldığını anlatır."
   ]
  },
  {
   "cell_type": "markdown",
   "metadata": {},
   "source": [
    "75. yüzde birlik için cevap 43 oldu. Bu  %75in 43 değerinde ve daha altında olduğunu gösteriyor."
   ]
  },
  {
   "cell_type": "code",
   "execution_count": 12,
   "metadata": {},
   "outputs": [
    {
     "name": "stdout",
     "output_type": "stream",
     "text": [
      "43.0\n"
     ]
    }
   ],
   "source": [
    "import numpy\n",
    "\n",
    "ages = [5,31,43,48,50,41,7,11,15,39,80,82,32,2,8,6,25,36,27,61,31]\n",
    "\n",
    "x = numpy.percentile(ages, 75)\n",
    "\n",
    "print(x)"
   ]
  }
 ],
 "metadata": {
  "kernelspec": {
   "display_name": "Python 3",
   "language": "python",
   "name": "python3"
  },
  "language_info": {
   "codemirror_mode": {
    "name": "ipython",
    "version": 3
   },
   "file_extension": ".py",
   "mimetype": "text/x-python",
   "name": "python",
   "nbconvert_exporter": "python",
   "pygments_lexer": "ipython3",
   "version": "3.11.9"
  }
 },
 "nbformat": 4,
 "nbformat_minor": 2
}
