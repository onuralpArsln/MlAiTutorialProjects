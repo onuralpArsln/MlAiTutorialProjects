{
 "cells": [
  {
   "cell_type": "markdown",
   "id": "38dc3888",
   "metadata": {},
   "source": [
    "Burada RAG için önemli olacak bir yapıyı inceliyoruz text içinden konu ile alakalı şeyleri bulmak için bir text yöentim sistemi \n",
    "\n",
    "Yazı → Embedding → Cosine Similarity → En alakalı içerikler → LLM'e ver → Süper tahmin\n"
   ]
  },
  {
   "cell_type": "markdown",
   "id": "d7f8390d",
   "metadata": {},
   "source": [
    "# Pre-Req\n"
   ]
  },
  {
   "cell_type": "code",
   "execution_count": 2,
   "id": "1981438e",
   "metadata": {},
   "outputs": [
    {
     "name": "stdout",
     "output_type": "stream",
     "text": [
      "^C\n",
      "Note: you may need to restart the kernel to use updated packages.\n"
     ]
    }
   ],
   "source": [
    "%pip install sentence-transformers scikit-learn\n"
   ]
  }
 ],
 "metadata": {
  "kernelspec": {
   "display_name": "Python 3",
   "language": "python",
   "name": "python3"
  },
  "language_info": {
   "codemirror_mode": {
    "name": "ipython",
    "version": 3
   },
   "file_extension": ".py",
   "mimetype": "text/x-python",
   "name": "python",
   "nbconvert_exporter": "python",
   "pygments_lexer": "ipython3",
   "version": "3.10.11"
  }
 },
 "nbformat": 4,
 "nbformat_minor": 5
}
