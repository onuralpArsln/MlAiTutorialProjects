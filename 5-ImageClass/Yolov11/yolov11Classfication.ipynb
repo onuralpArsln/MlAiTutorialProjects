{
  "cells": [
    {
      "cell_type": "markdown",
      "metadata": {
        "id": "view-in-github",
        "colab_type": "text"
      },
      "source": [
        "<a href=\"https://colab.research.google.com/github/onuralpArsln/MlAiTutorialProjects/blob/main/5-ImageClass/Yolov11/yolov11Classfication.ipynb\" target=\"_parent\"><img src=\"https://colab.research.google.com/assets/colab-badge.svg\" alt=\"Open In Colab\"/></a>"
      ]
    },
    {
      "cell_type": "markdown",
      "metadata": {
        "id": "MH5y0OyXrg7X"
      },
      "source": [
        "This note book aims to generate a classification model with  yolov11\n",
        "\n"
      ]
    },
    {
      "cell_type": "markdown",
      "source": [
        "# Get Data\n",
        "Get data from the github to your workspace and unzip it"
      ],
      "metadata": {
        "id": "YbNottZTrkUy"
      }
    },
    {
      "cell_type": "code",
      "source": [
        "!wget -q https://github.com/onuralpArsln/MlAiTutorialProjects/raw/refs/heads/main/5-ImageClass/Yolov11/data.zip"
      ],
      "metadata": {
        "id": "xBhuYPRUrj4e"
      },
      "execution_count": 1,
      "outputs": []
    },
    {
      "cell_type": "code",
      "source": [
        "!unzip -q data.zip"
      ],
      "metadata": {
        "id": "4iAyPwFlr8rL"
      },
      "execution_count": 2,
      "outputs": []
    }
  ],
  "metadata": {
    "language_info": {
      "name": "python"
    },
    "colab": {
      "provenance": [],
      "include_colab_link": true
    },
    "kernelspec": {
      "name": "python3",
      "display_name": "Python 3"
    }
  },
  "nbformat": 4,
  "nbformat_minor": 0
}