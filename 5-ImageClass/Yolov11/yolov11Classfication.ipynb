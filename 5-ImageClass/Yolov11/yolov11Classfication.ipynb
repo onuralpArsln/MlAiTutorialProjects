{
  "cells": [
    {
      "cell_type": "markdown",
      "metadata": {
        "id": "view-in-github",
        "colab_type": "text"
      },
      "source": [
        "<a href=\"https://colab.research.google.com/github/onuralpArsln/MlAiTutorialProjects/blob/main/5-ImageClass/Yolov11/yolov11Classfication.ipynb\" target=\"_parent\"><img src=\"https://colab.research.google.com/assets/colab-badge.svg\" alt=\"Open In Colab\"/></a>"
      ]
    },
    {
      "cell_type": "markdown",
      "metadata": {
        "id": "MH5y0OyXrg7X"
      },
      "source": [
        "This note book aims to generate a classification model with  yolov11\n",
        "\n"
      ]
    },
    {
      "cell_type": "markdown",
      "source": [
        "Get data from the github to your workspace"
      ],
      "metadata": {
        "id": "YbNottZTrkUy"
      }
    },
    {
      "cell_type": "code",
      "source": [],
      "metadata": {
        "id": "xBhuYPRUrj4e"
      },
      "execution_count": null,
      "outputs": []
    }
  ],
  "metadata": {
    "language_info": {
      "name": "python"
    },
    "colab": {
      "provenance": [],
      "include_colab_link": true
    }
  },
  "nbformat": 4,
  "nbformat_minor": 0
}