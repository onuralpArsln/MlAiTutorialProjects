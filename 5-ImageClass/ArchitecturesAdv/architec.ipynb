{
 "cells": [
  {
   "cell_type": "markdown",
   "id": "e90e5064",
   "metadata": {},
   "source": [
    "<a href=\"https://colab.research.google.com/github/onuralpArsln/MlAiTutorialProjects/blob/main/5-ImageClass/ArchitecturesAdv/architec.ipynb\" target=\"_parent\"><img src=\"https://colab.research.google.com/assets/colab-badge.svg\" alt=\"Open In Colab\"/></a>"
   ]
  },
  {
   "cell_type": "markdown",
   "id": "106b1df9",
   "metadata": {},
   "source": [
    "### Githubdan data indir\n",
    "\n",
    "Bu dataset kaggledan alınmış FER 2013 challenge datasıdır.  modelleri zorladığı için kullanması keyifli \n",
    "\n",
    "https://www.kaggle.com/datasets/msambare/fer2013?resource=download"
   ]
  },
  {
   "cell_type": "code",
   "execution_count": null,
   "id": "9616182d",
   "metadata": {
    "vscode": {
     "languageId": "plaintext"
    }
   },
   "outputs": [],
   "source": [
    "!wget https://github.com/onuralpArsln/MlAiTutorialProjects/raw/main/5-ImageClass/Fer2013Kaggle.zip -q -O data.zip"
   ]
  },
  {
   "cell_type": "code",
   "execution_count": null,
   "id": "75914368",
   "metadata": {
    "vscode": {
     "languageId": "plaintext"
    }
   },
   "outputs": [],
   "source": [
    "!unzip -q data.zip"
   ]
  },
  {
   "cell_type": "markdown",
   "id": "f46225e2",
   "metadata": {},
   "source": [
    "Python ile hızlıca datayı eğitim için hazırla"
   ]
  },
  {
   "cell_type": "code",
   "execution_count": null,
   "id": "7baaa94d",
   "metadata": {},
   "outputs": [],
   "source": [
    "import os\n",
    "import tensorflow as tf\n",
    "from sklearn.model_selection import train_test_split\n",
    "import numpy as np\n",
    "\n",
    "\n",
    "# 📂 Dataset ana klasörleri\n",
    "test_dir = 'test'   # test/angry, test/disgust, test/fear ...\n",
    "train_dir = 'train' # train/angry, train/disgust, train/fear ...\n",
    "\n",
    "# 📌 Görselleri yükleyen fonksiyon (48x48 dataset için)\n",
    "def load_images_from_directory(base_dir, label, img_size=(48, 48), limit=90000):\n",
    "    images = []\n",
    "    labels = []\n",
    "    count = 0\n",
    "    for file_name in os.listdir(base_dir):\n",
    "        if count >= limit:  # 300'den sonra dur\n",
    "            break\n",
    "        if file_name.lower().endswith(('.jpg', '.png', '.jpeg')):\n",
    "            file_path = os.path.join(base_dir, file_name)\n",
    "            # grayscale yaptık çünkü kaynak grayscale\n",
    "            img = tf.keras.preprocessing.image.load_img(file_path, target_size=img_size, color_mode=\"grayscale\")\n",
    "            img_array = tf.keras.preprocessing.image.img_to_array(img) / 255.0  # normalize\n",
    "            images.append(img_array)\n",
    "            labels.append(label)\n",
    "            count += 1\n",
    "    return images, labels\n",
    "\n",
    "# Duygu klasörleri ve etiketleri\n",
    "emotion_dirs = {\n",
    "    \"angry\": 0,\n",
    "    \"disgust\": 1,\n",
    "    \"fear\": 2,\n",
    "    \"happy\": 3,\n",
    "    \"neutral\": 4,\n",
    "    \"surprise\": 5,\n",
    "    \"sad\": 6\n",
    "}\n",
    "\n",
    "# --- Train verisi ---\n",
    "train_images, train_labels = [], []\n",
    "for emotion, label in emotion_dirs.items():\n",
    "    img_dir = os.path.join(train_dir, emotion)\n",
    "    images, labels = load_images_from_directory(img_dir, label=label)\n",
    "    train_images.extend(images)\n",
    "    train_labels.extend(labels)\n",
    "\n",
    "train_images = np.array(train_images)\n",
    "train_labels = np.array(train_labels)\n",
    "\n",
    "# --- Test verisi ---\n",
    "test_images, test_labels = [], []\n",
    "for emotion, label in emotion_dirs.items():\n",
    "    img_dir = os.path.join(test_dir, emotion)\n",
    "    images, labels = load_images_from_directory(img_dir, label=label)\n",
    "    test_images.extend(images)\n",
    "    test_labels.extend(labels)\n",
    "\n",
    "test_images = np.array(test_images)\n",
    "test_labels = np.array(test_labels)"
   ]
  },
  {
   "cell_type": "code",
   "execution_count": null,
   "id": "6d35a618",
   "metadata": {},
   "outputs": [],
   "source": [
    "X_train, y_train = train_images, train_labels\n",
    "X_test, y_test = test_images, test_labels\n"
   ]
  },
  {
   "cell_type": "code",
   "execution_count": null,
   "id": "5be808c3",
   "metadata": {},
   "outputs": [
    {
     "name": "stdout",
     "output_type": "stream",
     "text": [
      "Elindeki veri miktarı ve test train dağlımı\n",
      "X_train shape: (28709, 48, 48, 1)\n",
      "X_test shape: (7178, 48, 48, 1)\n",
      "y_train shape: (28709,)\n",
      "y_test shape: (7178,)\n",
      "Train samples: 28709\n",
      "Test samples: 7178\n"
     ]
    }
   ],
   "source": [
    "print(\"Elindeki veri miktarı ve test train dağlımı\")\n",
    "print(\"X_train shape:\", X_train.shape)\n",
    "print(\"X_test shape:\", X_test.shape)\n",
    "print(\"y_train shape:\", y_train.shape)\n",
    "print(\"y_test shape:\", y_test.shape)\n",
    "\n",
    "print(\"Train samples:\", len(X_train))\n",
    "print(\"Test samples:\", len(X_test))\n"
   ]
  }
 ],
 "metadata": {
  "language_info": {
   "name": "python"
  }
 },
 "nbformat": 4,
 "nbformat_minor": 5
}
