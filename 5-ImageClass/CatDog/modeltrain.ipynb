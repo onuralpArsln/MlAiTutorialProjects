{
  "cells": [
    {
      "cell_type": "markdown",
      "metadata": {
        "id": "view-in-github",
        "colab_type": "text"
      },
      "source": [
        "<a href=\"https://colab.research.google.com/github/onuralpArsln/MlAiTutorialProjects/blob/main/5-ImageClass/CatDog/modeltrain.ipynb\" target=\"_parent\"><img src=\"https://colab.research.google.com/assets/colab-badge.svg\" alt=\"Open In Colab\"/></a>"
      ]
    },
    {
      "cell_type": "code",
      "execution_count": null,
      "metadata": {
        "vscode": {
          "languageId": "plaintext"
        },
        "id": "iNVg0KDnhgE1"
      },
      "outputs": [],
      "source": [
        "Datayı Githubdan hızlıca Colabe çek"
      ]
    },
    {
      "cell_type": "code",
      "execution_count": null,
      "metadata": {
        "vscode": {
          "languageId": "plaintext"
        },
        "colab": {
          "base_uri": "https://localhost:8080/"
        },
        "id": "cmpwHDpXhgE2",
        "outputId": "c4bb23dc-fd9e-4869-ba6c-a03381ed40d4"
      },
      "outputs": [
        {
          "output_type": "stream",
          "name": "stdout",
          "text": [
            "--2024-12-19 15:28:31--  https://github.com/onuralpArsln/MlAiTutorialProjects/raw/main/5-ImageClass/CatDog/data.zip\n",
            "Resolving github.com (github.com)... 140.82.112.3\n",
            "Connecting to github.com (github.com)|140.82.112.3|:443... connected.\n",
            "HTTP request sent, awaiting response... 302 Found\n",
            "Location: https://raw.githubusercontent.com/onuralpArsln/MlAiTutorialProjects/main/5-ImageClass/CatDog/data.zip [following]\n",
            "--2024-12-19 15:28:31--  https://raw.githubusercontent.com/onuralpArsln/MlAiTutorialProjects/main/5-ImageClass/CatDog/data.zip\n",
            "Resolving raw.githubusercontent.com (raw.githubusercontent.com)... 185.199.108.133, 185.199.109.133, 185.199.110.133, ...\n",
            "Connecting to raw.githubusercontent.com (raw.githubusercontent.com)|185.199.108.133|:443... connected.\n",
            "HTTP request sent, awaiting response... 200 OK\n",
            "Length: 46210370 (44M) [application/zip]\n",
            "Saving to: ‘data.zip’\n",
            "\n",
            "data.zip            100%[===================>]  44.07M  --.-KB/s    in 0.1s    \n",
            "\n",
            "2024-12-19 15:28:33 (298 MB/s) - ‘data.zip’ saved [46210370/46210370]\n",
            "\n"
          ]
        }
      ],
      "source": [
        "!wget https://github.com/onuralpArsln/MlAiTutorialProjects/raw/main/5-ImageClass/CatDog/data.zip -O data.zip"
      ]
    },
    {
      "cell_type": "markdown",
      "source": [
        "Dosyayı zipten çıkart"
      ],
      "metadata": {
        "id": "crr84jvBiRN4"
      }
    },
    {
      "cell_type": "code",
      "execution_count": null,
      "metadata": {
        "vscode": {
          "languageId": "plaintext"
        },
        "id": "C4oCvuiqhgE2"
      },
      "outputs": [],
      "source": [
        "!unzip -q data.zip"
      ]
    },
    {
      "cell_type": "code",
      "source": [
        "!pwd\n"
      ],
      "metadata": {
        "colab": {
          "base_uri": "https://localhost:8080/"
        },
        "id": "8VjVihjwjmDe",
        "outputId": "fd666ee9-a093-4964-e155-89902191210b"
      },
      "execution_count": null,
      "outputs": [
        {
          "output_type": "stream",
          "name": "stdout",
          "text": [
            "/content\n"
          ]
        }
      ]
    },
    {
      "cell_type": "markdown",
      "source": [],
      "metadata": {
        "id": "-C56mWNujloO"
      }
    },
    {
      "cell_type": "markdown",
      "source": [
        "Burada, os modülünü ve TensorFlow'un image araçlarını kullanarak klasörleri tarayıp görüntüleri okuyoruz ve yeniden boyutlandırıyoruz. İşlem sırasında etiketler de belirleniyor (cats için 0, dogs için 1)."
      ],
      "metadata": {
        "id": "VoqJUL_8jLnJ"
      }
    },
    {
      "cell_type": "code",
      "source": [
        "import os\n",
        "import tensorflow as tf\n",
        "from sklearn.model_selection import train_test_split\n",
        "import numpy as np\n",
        "\n",
        "# Verinin bulunduğu ana klasör\n",
        "dataset_dir = 'test_set'\n",
        "\n",
        "# Görselleri okuma ve etiketleme fonksiyonu\n",
        "def load_images_from_directory(base_dir, label, img_size=(128, 128)):\n",
        "    images = []\n",
        "    labels = []\n",
        "    for file_name in os.listdir(base_dir):\n",
        "        file_path = os.path.join(base_dir, file_name)\n",
        "        if file_name.endswith('.jpg'):\n",
        "            # Görüntüyü oku ve yeniden boyutlandır\n",
        "            img = tf.keras.preprocessing.image.load_img(file_path, target_size=img_size)\n",
        "            img_array = tf.keras.preprocessing.image.img_to_array(img) / 255.0  # Normalize et\n",
        "            images.append(img_array)\n",
        "            labels.append(label)\n",
        "    return images, labels\n",
        "\n",
        "# Görselleri yükle\n",
        "cat_images, cat_labels = load_images_from_directory(os.path.join(dataset_dir, 'cats'), label=0)\n",
        "dog_images, dog_labels = load_images_from_directory(os.path.join(dataset_dir, 'dogs'), label=1)\n",
        "\n",
        "# Verileri birleştir\n",
        "images = np.array(cat_images + dog_images)\n",
        "labels = np.array(cat_labels + dog_labels)\n",
        "\n",
        "# Veriyi train ve test olarak ayır\n",
        "X_train, X_test, y_train, y_test = train_test_split(images, labels, test_size=0.2, random_state=42)\n"
      ],
      "metadata": {
        "id": "q-rCmOWMjSms"
      },
      "execution_count": null,
      "outputs": []
    },
    {
      "cell_type": "markdown",
      "source": [
        "Data Preprocessing - Resizing and Splitting\n",
        "Bu aşamada, görüntüleri normalleştirdiğimizden emin olduk ve eğitim/test verilerini doğru şekilde böldük. Şimdi doğrulama verilerini eğitim verisinden ayırabiliriz:"
      ],
      "metadata": {
        "id": "yVC6YgMEj58C"
      }
    },
    {
      "cell_type": "code",
      "source": [
        "# Eğitim verilerinden bir kısmını doğrulama için ayır\n",
        "X_train, X_val, y_train, y_val = train_test_split(X_train, y_train, test_size=0.2, random_state=42)\n"
      ],
      "metadata": {
        "id": "StTNBI-4j8OL"
      },
      "execution_count": null,
      "outputs": []
    },
    {
      "cell_type": "markdown",
      "source": [
        "Model Building"
      ],
      "metadata": {
        "id": "ItLQuGhDj_8H"
      }
    },
    {
      "cell_type": "code",
      "source": [
        "from tensorflow.keras.models import Sequential\n",
        "from tensorflow.keras.layers import Conv2D, MaxPooling2D, Flatten, Dense, Dropout\n",
        "\n",
        "# CNN modelini oluştur\n",
        "model = Sequential([\n",
        "    Conv2D(32, (3, 3), activation='relu', input_shape=(128, 128, 3)),\n",
        "    MaxPooling2D((2, 2)),\n",
        "    Conv2D(64, (3, 3), activation='relu'),\n",
        "    MaxPooling2D((2, 2)),\n",
        "    Flatten(),\n",
        "    Dense(128, activation='relu'),\n",
        "    Dropout(0.5),\n",
        "    Dense(1, activation='sigmoid')  # Binary classification için\n",
        "])\n",
        "\n",
        "# Modeli derle\n",
        "model.compile(\n",
        "    optimizer='adam',\n",
        "    loss='binary_crossentropy',\n",
        "    metrics=['accuracy']\n",
        ")\n"
      ],
      "metadata": {
        "colab": {
          "base_uri": "https://localhost:8080/"
        },
        "id": "4nu75o0BkBti",
        "outputId": "e53c55d0-90dd-42e3-ff64-06d097850151"
      },
      "execution_count": null,
      "outputs": [
        {
          "output_type": "stream",
          "name": "stderr",
          "text": [
            "/usr/local/lib/python3.10/dist-packages/keras/src/layers/convolutional/base_conv.py:107: UserWarning: Do not pass an `input_shape`/`input_dim` argument to a layer. When using Sequential models, prefer using an `Input(shape)` object as the first layer in the model instead.\n",
            "  super().__init__(activity_regularizer=activity_regularizer, **kwargs)\n"
          ]
        }
      ]
    },
    {
      "cell_type": "markdown",
      "source": [
        "Train"
      ],
      "metadata": {
        "id": "B3tfl_hnkGS5"
      }
    },
    {
      "cell_type": "code",
      "source": [
        "# Modeli eğit\n",
        "history = model.fit(\n",
        "    X_train, y_train,\n",
        "    validation_data=(X_val, y_val),\n",
        "    epochs=10,  # Kendi ihtiyacınıza göre artırabilirsiniz\n",
        "    batch_size=32\n",
        ")\n"
      ],
      "metadata": {
        "id": "4iS9P7pokIQr"
      },
      "execution_count": null,
      "outputs": []
    }
  ],
  "metadata": {
    "accelerator": "GPU",
    "colab": {
      "gpuType": "T4",
      "provenance": [],
      "include_colab_link": true
    },
    "kernelspec": {
      "display_name": "Python 3",
      "name": "python3"
    },
    "language_info": {
      "codemirror_mode": {
        "name": "ipython",
        "version": 3
      },
      "file_extension": ".py",
      "mimetype": "text/x-python",
      "name": "python",
      "nbconvert_exporter": "python",
      "pygments_lexer": "ipython3",
      "version": "3.11.9"
    }
  },
  "nbformat": 4,
  "nbformat_minor": 0
}